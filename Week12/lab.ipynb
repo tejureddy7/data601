{
 "cells": [
  {
   "cell_type": "markdown",
   "id": "c0ebd9ff",
   "metadata": {},
   "source": [
    "# Week12 Lab\n",
    "\n",
    "Scrape the information from the following website: https://www.scrapethissite.com/pages/simple/ \n",
    "show the values in a dataframe"
   ]
  },
  {
   "cell_type": "code",
   "execution_count": 1,
   "id": "8f868978",
   "metadata": {},
   "outputs": [],
   "source": [
    "import pandas as pd\n",
    "from bs4 import BeautifulSoup\n",
    "import requests"
   ]
  },
  {
   "cell_type": "code",
   "execution_count": 2,
   "id": "cb5683b5",
   "metadata": {},
   "outputs": [
    {
     "data": {
      "text/plain": [
       "True"
      ]
     },
     "execution_count": 2,
     "metadata": {},
     "output_type": "execute_result"
    }
   ],
   "source": [
    "response = requests.get('https://www.scrapethissite.com/pages/simple/')\n",
    "response.ok"
   ]
  },
  {
   "cell_type": "code",
   "execution_count": 3,
   "id": "2b33c38d",
   "metadata": {},
   "outputs": [
    {
     "data": {
      "text/plain": [
       "'<!doctype html>\\n<html lang=\"en\">\\n  <head>\\n    <meta charset=\"utf-8\">\\n    <title>Countries of the World: A Simple Example | Scrape This Site | A public sandbox for learning web scraping</title>\\n    <link rel=\"icon\" type=\"image/png\" href=\"/static/images/scraper-icon.png\" />\\n\\n    <meta name=\"viewport\" content=\"width=device-width, initial-scale=1.0\">\\n    <meta name=\"description\" content=\"A single page that lists information about all the countries in the world. Good for those just get started with web scraping.\">\\n\\n    <link href=\"https://maxcdn.bootstrapcdn.com/bootstrap/3.3.5/css/bootstrap.min.css\" rel=\"stylesheet\" integrity=\"sha256-MfvZlkHCEqatNoGiOXveE8FIwMzZg4W85qfrfIFBfYc= sha512-dTfge/zgoMYpP7QbHy4gWMEGsbsdZeCXz7irItjcC3sPUFtf0kuFbDz/ixG7ArTxmDjLXDmezHubeNikyKGVyQ==\" crossorigin=\"anonymous\">\\n    <link href=\\'https://fonts.googleapis.com/css?family=Lato:400,700\\' rel=\\'stylesheet\\' type=\\'text/css\\'>\\n    <link rel=\"stylesheet\" type=\"text/css\" href=\"/static/css/styles.css\">\\n\\n    \\n<meta name='"
      ]
     },
     "execution_count": 3,
     "metadata": {},
     "output_type": "execute_result"
    }
   ],
   "source": [
    "response.text[:1000]  "
   ]
  },
  {
   "cell_type": "code",
   "execution_count": 4,
   "id": "624ec5e5",
   "metadata": {},
   "outputs": [],
   "source": [
    "html_doc = response.text"
   ]
  },
  {
   "cell_type": "code",
   "execution_count": 5,
   "id": "72bc1d16",
   "metadata": {},
   "outputs": [],
   "source": [
    "soup = BeautifulSoup(html_doc, 'html.parser')"
   ]
  },
  {
   "cell_type": "code",
   "execution_count": 6,
   "id": "45560abc",
   "metadata": {},
   "outputs": [],
   "source": [
    "t = soup.find_all('div', {\"class\":\"col-md-4 country\"})\n",
    "#t = soup.find_all('div')[0]"
   ]
  },
  {
   "cell_type": "code",
   "execution_count": 7,
   "id": "f6157db9",
   "metadata": {},
   "outputs": [],
   "source": [
    "#en(t)"
   ]
  },
  {
   "cell_type": "code",
   "execution_count": 8,
   "id": "bc3c8f09",
   "metadata": {},
   "outputs": [],
   "source": [
    "#t[0].h3.text"
   ]
  },
  {
   "cell_type": "code",
   "execution_count": 9,
   "id": "140bc166",
   "metadata": {},
   "outputs": [],
   "source": [
    "#t[0].span.text"
   ]
  },
  {
   "cell_type": "code",
   "execution_count": 10,
   "id": "f7c738cb",
   "metadata": {},
   "outputs": [],
   "source": [
    "#t[0].find_all('span')[2].text"
   ]
  },
  {
   "cell_type": "code",
   "execution_count": 11,
   "id": "259dded1",
   "metadata": {},
   "outputs": [
    {
     "data": {
      "text/plain": [
       "('Andorra', 'Andorra la Vella', '84000', '468.0')"
      ]
     },
     "execution_count": 11,
     "metadata": {},
     "output_type": "execute_result"
    }
   ],
   "source": [
    "def extract_values(v):\n",
    "    country = v.h3.text.strip()\n",
    "    spans = v.find_all('span')\n",
    "    \n",
    "    capital = v.span.text\n",
    "    population =spans[1].text\n",
    "    area =spans[2].text\n",
    "    \n",
    "    return country, capital, population, area\n",
    "\n",
    "extract_values(t[0])"
   ]
  },
  {
   "cell_type": "code",
   "execution_count": 12,
   "id": "8fd4567f",
   "metadata": {},
   "outputs": [
    {
     "name": "stdout",
     "output_type": "stream",
     "text": [
      "                  country           capital population       area\n",
      "0                 Andorra  Andorra la Vella      84000      468.0\n",
      "1    United Arab Emirates         Abu Dhabi    4975593    82880.0\n",
      "2             Afghanistan             Kabul   29121286   647500.0\n",
      "3     Antigua and Barbuda        St. John's      86754      443.0\n",
      "4                Anguilla        The Valley      13254      102.0\n",
      "..                    ...               ...        ...        ...\n",
      "245                 Yemen             Sanaa   23495361   527970.0\n",
      "246               Mayotte         Mamoudzou     159042      374.0\n",
      "247          South Africa          Pretoria   49000000  1219912.0\n",
      "248                Zambia            Lusaka   13460305   752614.0\n",
      "249              Zimbabwe            Harare   11651858   390580.0\n",
      "\n",
      "[250 rows x 4 columns]\n"
     ]
    }
   ],
   "source": [
    "ls = []\n",
    "\n",
    "for i in range(len(t)):\n",
    "    ls.append(extract_values(t[i]))\n",
    "\n",
    "\n",
    "df = pd.DataFrame(data=ls, columns = ['country', 'capital', 'population', 'area'])\n",
    "\n",
    "print(df)"
   ]
  }
 ],
 "metadata": {
  "kernelspec": {
   "display_name": "Python 3",
   "language": "python",
   "name": "python3"
  },
  "language_info": {
   "codemirror_mode": {
    "name": "ipython",
    "version": 3
   },
   "file_extension": ".py",
   "mimetype": "text/x-python",
   "name": "python",
   "nbconvert_exporter": "python",
   "pygments_lexer": "ipython3",
   "version": "3.8.8"
  },
  "toc": {
   "base_numbering": 1,
   "nav_menu": {},
   "number_sections": true,
   "sideBar": true,
   "skip_h1_title": false,
   "title_cell": "Table of Contents",
   "title_sidebar": "Contents",
   "toc_cell": false,
   "toc_position": {},
   "toc_section_display": true,
   "toc_window_display": false
  }
 },
 "nbformat": 4,
 "nbformat_minor": 5
}

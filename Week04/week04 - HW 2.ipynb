{
 "cells": [
  {
   "cell_type": "markdown",
   "id": "b47b349d",
   "metadata": {},
   "source": [
    "# Week4 - HW 2\n",
    "\n",
    "1. Acquire power data (https://www.bmreports.com/bmrs/?q=demand/rollingsystemdemanda) for at least 10 days and not more than 40 days. \n",
    "\n",
    "1. Create two bar graphs of the power consumption per hour. \n",
    "    a. One bar graph has 24 bars; \n",
    "    b. one bar graph has 24 times number of days bars. \n",
    "\n",
    "1. Your solution should be committed in your Week04 folder.\n",
    "\n",
    "Graphs must have appropriate labels and there should not be anything extra cluttering. "
   ]
  },
  {
   "cell_type": "code",
   "execution_count": 1,
   "id": "ba276b3d",
   "metadata": {},
   "outputs": [],
   "source": [
    "import pandas as pd\n",
    "import numpy as np\n",
    "from pandas import DataFrame\n",
    "import matplotlib.pyplot as plt\n",
    "import seaborn as sns\n",
    "import math\n"
   ]
  },
  {
   "cell_type": "code",
   "execution_count": 2,
   "id": "13c59bbe",
   "metadata": {},
   "outputs": [
    {
     "name": "stdout",
     "output_type": "stream",
     "text": [
      "HDR,ROLLING SYSTEM DEMAND\r\n",
      "VD,20210901000000,22640\r\n",
      "VD,20210901000500,22558\r\n",
      "VD,20210901001000,22443\r\n",
      "VD,20210901001500,22466\r\n",
      "VD,20210901002000,22413\r\n",
      "VD,20210901002500,22278\r\n",
      "VD,20210901003000,22189\r\n",
      "VD,20210901003500,22282\r\n",
      "VD,20210901004000,22267\r\n"
     ]
    }
   ],
   "source": [
    "!head /Users/tej/Desktop/RollingSystemDemand1.csv"
   ]
  },
  {
   "cell_type": "code",
   "execution_count": 3,
   "id": "41426bb9",
   "metadata": {},
   "outputs": [
    {
     "name": "stdout",
     "output_type": "stream",
     "text": [
      "HDR,ROLLING SYSTEM DEMAND\r\n",
      "VD,20210908000000,23472\r\n",
      "VD,20210908000500,23397\r\n",
      "VD,20210908001000,23380\r\n",
      "VD,20210908001500,23333\r\n",
      "VD,20210908002000,23268\r\n",
      "VD,20210908002500,23174\r\n",
      "VD,20210908003000,23058\r\n",
      "VD,20210908003500,22829\r\n",
      "VD,20210908004000,22832\r\n"
     ]
    }
   ],
   "source": [
    "!head /Users/tej/Desktop/RollingSystemDemand2.csv"
   ]
  },
  {
   "cell_type": "code",
   "execution_count": 4,
   "id": "e402fe2f",
   "metadata": {},
   "outputs": [],
   "source": [
    "df1= pd.read_csv(\"/Users/tej/Desktop/RollingSystemDemand1.csv\", names =['VD', 'measurement_time', 'demand_level'], skiprows=1, parse_dates = [1])\n",
    "\n",
    "\n",
    "\n",
    "\n",
    "\n"
   ]
  },
  {
   "cell_type": "code",
   "execution_count": 5,
   "id": "9591378c",
   "metadata": {},
   "outputs": [],
   "source": [
    "df2= pd.read_csv(\"/Users/tej/Desktop/RollingSystemDemand2.csv\", names =['VD', 'measurement_time', 'demand_level'], skiprows=1, parse_dates = [1])\n",
    "\n",
    "\n"
   ]
  },
  {
   "cell_type": "code",
   "execution_count": 6,
   "id": "43da331e",
   "metadata": {},
   "outputs": [],
   "source": [
    "#df1"
   ]
  },
  {
   "cell_type": "code",
   "execution_count": 7,
   "id": "ec316940",
   "metadata": {},
   "outputs": [],
   "source": [
    "#df2"
   ]
  },
  {
   "cell_type": "code",
   "execution_count": 8,
   "id": "d62cceda",
   "metadata": {},
   "outputs": [],
   "source": [
    "#print(df1.shape)\n",
    "#print(df2.shape)"
   ]
  },
  {
   "cell_type": "code",
   "execution_count": 9,
   "id": "9a7919de",
   "metadata": {},
   "outputs": [],
   "source": [
    "df1=df1.drop(labels=2000)"
   ]
  },
  {
   "cell_type": "code",
   "execution_count": 10,
   "id": "32b8be4a",
   "metadata": {},
   "outputs": [],
   "source": [
    "df2=df2.drop(labels=2000)"
   ]
  },
  {
   "cell_type": "code",
   "execution_count": 11,
   "id": "798ad98a",
   "metadata": {},
   "outputs": [],
   "source": [
    "frames = [df1, df2,]\n",
    "\n",
    "df = pd.concat(frames, ignore_index= True)"
   ]
  },
  {
   "cell_type": "code",
   "execution_count": 12,
   "id": "ae996173",
   "metadata": {},
   "outputs": [],
   "source": [
    "#df.shape"
   ]
  },
  {
   "cell_type": "code",
   "execution_count": 13,
   "id": "0c561208",
   "metadata": {},
   "outputs": [],
   "source": [
    "#df"
   ]
  },
  {
   "cell_type": "code",
   "execution_count": 14,
   "id": "bd675f09",
   "metadata": {},
   "outputs": [],
   "source": [
    "#df['measurement_time']"
   ]
  },
  {
   "cell_type": "code",
   "execution_count": 15,
   "id": "03cb89f6",
   "metadata": {},
   "outputs": [
    {
     "data": {
      "text/plain": [
       "4000"
      ]
     },
     "execution_count": 15,
     "metadata": {},
     "output_type": "execute_result"
    }
   ],
   "source": [
    "len(df)"
   ]
  },
  {
   "cell_type": "code",
   "execution_count": 16,
   "id": "1405c48a",
   "metadata": {},
   "outputs": [
    {
     "data": {
      "text/plain": [
       "measurement_time  measurement_time\n",
       "0                 0                   321345.0\n",
       "                  5                   320736.0\n",
       "                  10                  319953.0\n",
       "                  15                  319336.0\n",
       "                  20                  318513.0\n",
       "                                        ...   \n",
       "23                35                  279660.0\n",
       "                  40                  278811.0\n",
       "                  45                  277933.0\n",
       "                  50                  277247.0\n",
       "                  55                  276313.0\n",
       "Name: demand_level, Length: 288, dtype: float64"
      ]
     },
     "execution_count": 16,
     "metadata": {},
     "output_type": "execute_result"
    }
   ],
   "source": [
    "times = pd.DatetimeIndex(df.measurement_time)\n",
    "df.groupby([times.hour, times.minute]).demand_level.sum()"
   ]
  },
  {
   "cell_type": "code",
   "execution_count": 17,
   "id": "d3f03256",
   "metadata": {},
   "outputs": [],
   "source": [
    "#times"
   ]
  },
  {
   "cell_type": "code",
   "execution_count": 18,
   "id": "65b28fad",
   "metadata": {},
   "outputs": [],
   "source": [
    "avg_demand = df.groupby([times.hour])['demand_level'].mean()\n",
    "#avg_demand"
   ]
  },
  {
   "cell_type": "code",
   "execution_count": 19,
   "id": "ea132ce5",
   "metadata": {},
   "outputs": [
    {
     "name": "stdout",
     "output_type": "stream",
     "text": [
      "[0, 1, 2, 3, 4, 5, 6, 7, 8, 9, 10, 11, 12, 13, 14, 15, 16, 17, 18, 19, 20, 21, 22, 23]\n"
     ]
    }
   ],
   "source": [
    "hour = list(range(0, 24))\n",
    "\n",
    "print(hour)"
   ]
  },
  {
   "cell_type": "code",
   "execution_count": 20,
   "id": "24a61c4b",
   "metadata": {},
   "outputs": [
    {
     "data": {
      "text/plain": [
       "Text(0, 0.5, 'demand')"
      ]
     },
     "execution_count": 20,
     "metadata": {},
     "output_type": "execute_result"
    },
    {
     "data": {
      "image/png": "[encoded data removed]",
      "text/plain": [
       "<Figure size 432x288 with 1 Axes>"
      ]
     },
     "metadata": {
      "needs_background": "light"
     },
     "output_type": "display_data"
    }
   ],
   "source": [
    "#\n",
    "plt.bar(hour,avg_demand)\n",
    "plt.xlabel('hour')\n",
    "plt.ylabel('demand')"
   ]
  },
  {
   "cell_type": "code",
   "execution_count": 21,
   "id": "da7be711",
   "metadata": {},
   "outputs": [],
   "source": [
    "groups = df.groupby(times)"
   ]
  },
  {
   "cell_type": "code",
   "execution_count": 22,
   "id": "976f3c18",
   "metadata": {},
   "outputs": [],
   "source": [
    "mean = []\n",
    "dates = []\n",
    "for i in range(1, 14):\n",
    "    for j in range(24):\n",
    "        data = df.set_index('measurement_time')['2021-09-'+ str(i) +' ' + str(j)+':00:00' : '2021-09-' + str(i) +' ' + str(j)+':59:59']\n",
    "        mean.append(data[\"demand_level\"].mean())"
   ]
  },
  {
   "cell_type": "code",
   "execution_count": 23,
   "id": "38152e4f",
   "metadata": {},
   "outputs": [],
   "source": [
    "#data.set_index('demand_level')"
   ]
  },
  {
   "cell_type": "code",
   "execution_count": 24,
   "id": "275a04ea",
   "metadata": {},
   "outputs": [],
   "source": [
    "#data"
   ]
  },
  {
   "cell_type": "code",
   "execution_count": 25,
   "id": "244401c6",
   "metadata": {},
   "outputs": [],
   "source": [
    "#print(mean)"
   ]
  },
  {
   "cell_type": "code",
   "execution_count": 26,
   "id": "93c099fc",
   "metadata": {},
   "outputs": [],
   "source": [
    "mean = [x for x in mean if math.isnan(x) == False]\n",
    "#print(mean)"
   ]
  },
  {
   "cell_type": "code",
   "execution_count": 27,
   "id": "8a76535e",
   "metadata": {},
   "outputs": [
    {
     "data": {
      "text/plain": [
       "311"
      ]
     },
     "execution_count": 27,
     "metadata": {},
     "output_type": "execute_result"
    }
   ],
   "source": [
    "len(mean)"
   ]
  },
  {
   "cell_type": "code",
   "execution_count": 28,
   "id": "ef0a9785",
   "metadata": {},
   "outputs": [],
   "source": [
    "days_hour = list(range(len(mean)))\n",
    "\n",
    "#print(days_hour)\n",
    "\n"
   ]
  },
  {
   "cell_type": "code",
   "execution_count": 29,
   "id": "e8be8a34",
   "metadata": {},
   "outputs": [
    {
     "data": {
      "image/png": "[encoded data removed]",
      "text/plain": [
       "<Figure size 1130.4x811.44 with 1 Axes>"
      ]
     },
     "metadata": {},
     "output_type": "display_data"
    }
   ],
   "source": [
    "sns.set(rc={'figure.figsize':(15.7,11.27)})\n",
    "sns.barplot(x=days_hour,y=mean )\n",
    "#sns.set(rc={'figure.figsize':(11.7,8.27)})\n",
    "plt.title('24*(number of days)')\n",
    "\n",
    "plt.xticks(days_hour)\n",
    "plt.xlabel('Date')\n",
    "plt.ylabel('Average of demand level (MW)')\n",
    "plt.show()\n"
   ]
  },
  {
   "cell_type": "code",
   "execution_count": null,
   "id": "a16daaf8",
   "metadata": {},
   "outputs": [],
   "source": []
  }
 ],
 "metadata": {
  "kernelspec": {
   "display_name": "Python 3",
   "language": "python",
   "name": "python3"
  },
  "language_info": {
   "codemirror_mode": {
    "name": "ipython",
    "version": 3
   },
   "file_extension": ".py",
   "mimetype": "text/x-python",
   "name": "python",
   "nbconvert_exporter": "python",
   "pygments_lexer": "ipython3",
   "version": "3.8.8"
  },
  "toc": {
   "base_numbering": 1,
   "nav_menu": {},
   "number_sections": true,
   "sideBar": true,
   "skip_h1_title": false,
   "title_cell": "Table of Contents",
   "title_sidebar": "Contents",
   "toc_cell": false,
   "toc_position": {},
   "toc_section_display": true,
   "toc_window_display": false
  }
 },
 "nbformat": 4,
 "nbformat_minor": 5
}

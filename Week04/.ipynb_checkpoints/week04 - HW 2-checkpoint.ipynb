{
 "cells": [
  {
   "cell_type": "markdown",
   "id": "b47b349d",
   "metadata": {},
   "source": [
    "# Week4 - HW 2\n",
    "\n",
    "1. Acquire power data (https://www.bmreports.com/bmrs/?q=demand/rollingsystemdemanda) for at least 10 days and not more than 40 days. \n",
    "\n",
    "1. Create two bar graphs of the power consumption per hour. \n",
    "    a. One bar graph has 24 bars; \n",
    "    b. one bar graph has 24 times number of days bars. \n",
    "\n",
    "1. Your solution should be committed in your Week04 folder.\n",
    "\n",
    "Graphs must have appropriate labels and there should not be anything extra cluttering. "
   ]
  },
  {
   "cell_type": "code",
   "execution_count": 1,
   "id": "ba276b3d",
   "metadata": {},
   "outputs": [],
   "source": [
    "import pandas as pd\n",
    "import numpy as np\n",
    "from pandas import DataFrame\n",
    "import matplotlib.pyplot as plt\n",
    "import seaborn as sns\n",
    "import math\n"
   ]
  },
  {
   "cell_type": "code",
   "execution_count": 2,
   "id": "13c59bbe",
   "metadata": {},
   "outputs": [
    {
     "name": "stdout",
     "output_type": "stream",
     "text": [
      "HDR,ROLLING SYSTEM DEMAND\r\n",
      "VD,20210901000000,22640\r\n",
      "VD,20210901000500,22558\r\n",
      "VD,20210901001000,22443\r\n",
      "VD,20210901001500,22466\r\n",
      "VD,20210901002000,22413\r\n",
      "VD,20210901002500,22278\r\n",
      "VD,20210901003000,22189\r\n",
      "VD,20210901003500,22282\r\n",
      "VD,20210901004000,22267\r\n"
     ]
    }
   ],
   "source": [
    "!head /Users/tej/Desktop/RollingSystemDemand1.csv"
   ]
  },
  {
   "cell_type": "code",
   "execution_count": 3,
   "id": "41426bb9",
   "metadata": {},
   "outputs": [
    {
     "name": "stdout",
     "output_type": "stream",
     "text": [
      "HDR,ROLLING SYSTEM DEMAND\r\n",
      "VD,20210908000000,23472\r\n",
      "VD,20210908000500,23397\r\n",
      "VD,20210908001000,23380\r\n",
      "VD,20210908001500,23333\r\n",
      "VD,20210908002000,23268\r\n",
      "VD,20210908002500,23174\r\n",
      "VD,20210908003000,23058\r\n",
      "VD,20210908003500,22829\r\n",
      "VD,20210908004000,22832\r\n"
     ]
    }
   ],
   "source": [
    "!head /Users/tej/Desktop/RollingSystemDemand2.csv"
   ]
  },
  {
   "cell_type": "code",
   "execution_count": 4,
   "id": "e402fe2f",
   "metadata": {},
   "outputs": [],
   "source": [
    "df1= pd.read_csv(\"/Users/tej/Desktop/RollingSystemDemand1.csv\", names =['VD', 'measurement_time', 'demand_level'], skiprows=1, parse_dates = [1])\n",
    "\n",
    "\n",
    "\n",
    "\n",
    "\n"
   ]
  },
  {
   "cell_type": "code",
   "execution_count": 5,
   "id": "9591378c",
   "metadata": {},
   "outputs": [],
   "source": [
    "df2= pd.read_csv(\"/Users/tej/Desktop/RollingSystemDemand2.csv\", names =['VD', 'measurement_time', 'demand_level'], skiprows=1, parse_dates = [1])\n",
    "\n",
    "\n"
   ]
  },
  {
   "cell_type": "code",
   "execution_count": 6,
   "id": "43da331e",
   "metadata": {},
   "outputs": [
    {
     "data": {
      "text/html": [
       "<div>\n",
       "<style scoped>\n",
       "    .dataframe tbody tr th:only-of-type {\n",
       "        vertical-align: middle;\n",
       "    }\n",
       "\n",
       "    .dataframe tbody tr th {\n",
       "        vertical-align: top;\n",
       "    }\n",
       "\n",
       "    .dataframe thead th {\n",
       "        text-align: right;\n",
       "    }\n",
       "</style>\n",
       "<table border=\"1\" class=\"dataframe\">\n",
       "  <thead>\n",
       "    <tr style=\"text-align: right;\">\n",
       "      <th></th>\n",
       "      <th>VD</th>\n",
       "      <th>measurement_time</th>\n",
       "      <th>demand_level</th>\n",
       "    </tr>\n",
       "  </thead>\n",
       "  <tbody>\n",
       "    <tr>\n",
       "      <th>0</th>\n",
       "      <td>VD</td>\n",
       "      <td>2021-09-01 00:00:00</td>\n",
       "      <td>22640.0</td>\n",
       "    </tr>\n",
       "    <tr>\n",
       "      <th>1</th>\n",
       "      <td>VD</td>\n",
       "      <td>2021-09-01 00:05:00</td>\n",
       "      <td>22558.0</td>\n",
       "    </tr>\n",
       "    <tr>\n",
       "      <th>2</th>\n",
       "      <td>VD</td>\n",
       "      <td>2021-09-01 00:10:00</td>\n",
       "      <td>22443.0</td>\n",
       "    </tr>\n",
       "    <tr>\n",
       "      <th>3</th>\n",
       "      <td>VD</td>\n",
       "      <td>2021-09-01 00:15:00</td>\n",
       "      <td>22466.0</td>\n",
       "    </tr>\n",
       "    <tr>\n",
       "      <th>4</th>\n",
       "      <td>VD</td>\n",
       "      <td>2021-09-01 00:20:00</td>\n",
       "      <td>22413.0</td>\n",
       "    </tr>\n",
       "    <tr>\n",
       "      <th>...</th>\n",
       "      <td>...</td>\n",
       "      <td>...</td>\n",
       "      <td>...</td>\n",
       "    </tr>\n",
       "    <tr>\n",
       "      <th>1996</th>\n",
       "      <td>VD</td>\n",
       "      <td>2021-09-07 22:20:00</td>\n",
       "      <td>26087.0</td>\n",
       "    </tr>\n",
       "    <tr>\n",
       "      <th>1997</th>\n",
       "      <td>VD</td>\n",
       "      <td>2021-09-07 22:25:00</td>\n",
       "      <td>25904.0</td>\n",
       "    </tr>\n",
       "    <tr>\n",
       "      <th>1998</th>\n",
       "      <td>VD</td>\n",
       "      <td>2021-09-07 22:30:00</td>\n",
       "      <td>25669.0</td>\n",
       "    </tr>\n",
       "    <tr>\n",
       "      <th>1999</th>\n",
       "      <td>VD</td>\n",
       "      <td>2021-09-07 22:35:00</td>\n",
       "      <td>25536.0</td>\n",
       "    </tr>\n",
       "    <tr>\n",
       "      <th>2000</th>\n",
       "      <td>FTR</td>\n",
       "      <td>2000-01-01 00:00:00</td>\n",
       "      <td>NaN</td>\n",
       "    </tr>\n",
       "  </tbody>\n",
       "</table>\n",
       "<p>2001 rows × 3 columns</p>\n",
       "</div>"
      ],
      "text/plain": [
       "       VD    measurement_time  demand_level\n",
       "0      VD 2021-09-01 00:00:00       22640.0\n",
       "1      VD 2021-09-01 00:05:00       22558.0\n",
       "2      VD 2021-09-01 00:10:00       22443.0\n",
       "3      VD 2021-09-01 00:15:00       22466.0\n",
       "4      VD 2021-09-01 00:20:00       22413.0\n",
       "...   ...                 ...           ...\n",
       "1996   VD 2021-09-07 22:20:00       26087.0\n",
       "1997   VD 2021-09-07 22:25:00       25904.0\n",
       "1998   VD 2021-09-07 22:30:00       25669.0\n",
       "1999   VD 2021-09-07 22:35:00       25536.0\n",
       "2000  FTR 2000-01-01 00:00:00           NaN\n",
       "\n",
       "[2001 rows x 3 columns]"
      ]
     },
     "execution_count": 6,
     "metadata": {},
     "output_type": "execute_result"
    }
   ],
   "source": [
    "df1"
   ]
  },
  {
   "cell_type": "code",
   "execution_count": 7,
   "id": "ec316940",
   "metadata": {},
   "outputs": [
    {
     "data": {
      "text/html": [
       "<div>\n",
       "<style scoped>\n",
       "    .dataframe tbody tr th:only-of-type {\n",
       "        vertical-align: middle;\n",
       "    }\n",
       "\n",
       "    .dataframe tbody tr th {\n",
       "        vertical-align: top;\n",
       "    }\n",
       "\n",
       "    .dataframe thead th {\n",
       "        text-align: right;\n",
       "    }\n",
       "</style>\n",
       "<table border=\"1\" class=\"dataframe\">\n",
       "  <thead>\n",
       "    <tr style=\"text-align: right;\">\n",
       "      <th></th>\n",
       "      <th>VD</th>\n",
       "      <th>measurement_time</th>\n",
       "      <th>demand_level</th>\n",
       "    </tr>\n",
       "  </thead>\n",
       "  <tbody>\n",
       "    <tr>\n",
       "      <th>0</th>\n",
       "      <td>VD</td>\n",
       "      <td>2021-09-08 00:00:00</td>\n",
       "      <td>23472.0</td>\n",
       "    </tr>\n",
       "    <tr>\n",
       "      <th>1</th>\n",
       "      <td>VD</td>\n",
       "      <td>2021-09-08 00:05:00</td>\n",
       "      <td>23397.0</td>\n",
       "    </tr>\n",
       "    <tr>\n",
       "      <th>2</th>\n",
       "      <td>VD</td>\n",
       "      <td>2021-09-08 00:10:00</td>\n",
       "      <td>23380.0</td>\n",
       "    </tr>\n",
       "    <tr>\n",
       "      <th>3</th>\n",
       "      <td>VD</td>\n",
       "      <td>2021-09-08 00:15:00</td>\n",
       "      <td>23333.0</td>\n",
       "    </tr>\n",
       "    <tr>\n",
       "      <th>4</th>\n",
       "      <td>VD</td>\n",
       "      <td>2021-09-08 00:20:00</td>\n",
       "      <td>23268.0</td>\n",
       "    </tr>\n",
       "    <tr>\n",
       "      <th>...</th>\n",
       "      <td>...</td>\n",
       "      <td>...</td>\n",
       "      <td>...</td>\n",
       "    </tr>\n",
       "    <tr>\n",
       "      <th>1996</th>\n",
       "      <td>VD</td>\n",
       "      <td>2021-09-14 22:20:00</td>\n",
       "      <td>26233.0</td>\n",
       "    </tr>\n",
       "    <tr>\n",
       "      <th>1997</th>\n",
       "      <td>VD</td>\n",
       "      <td>2021-09-14 22:25:00</td>\n",
       "      <td>25996.0</td>\n",
       "    </tr>\n",
       "    <tr>\n",
       "      <th>1998</th>\n",
       "      <td>VD</td>\n",
       "      <td>2021-09-14 22:30:00</td>\n",
       "      <td>25818.0</td>\n",
       "    </tr>\n",
       "    <tr>\n",
       "      <th>1999</th>\n",
       "      <td>VD</td>\n",
       "      <td>2021-09-14 22:35:00</td>\n",
       "      <td>25734.0</td>\n",
       "    </tr>\n",
       "    <tr>\n",
       "      <th>2000</th>\n",
       "      <td>FTR</td>\n",
       "      <td>2000-01-01 00:00:00</td>\n",
       "      <td>NaN</td>\n",
       "    </tr>\n",
       "  </tbody>\n",
       "</table>\n",
       "<p>2001 rows × 3 columns</p>\n",
       "</div>"
      ],
      "text/plain": [
       "       VD    measurement_time  demand_level\n",
       "0      VD 2021-09-08 00:00:00       23472.0\n",
       "1      VD 2021-09-08 00:05:00       23397.0\n",
       "2      VD 2021-09-08 00:10:00       23380.0\n",
       "3      VD 2021-09-08 00:15:00       23333.0\n",
       "4      VD 2021-09-08 00:20:00       23268.0\n",
       "...   ...                 ...           ...\n",
       "1996   VD 2021-09-14 22:20:00       26233.0\n",
       "1997   VD 2021-09-14 22:25:00       25996.0\n",
       "1998   VD 2021-09-14 22:30:00       25818.0\n",
       "1999   VD 2021-09-14 22:35:00       25734.0\n",
       "2000  FTR 2000-01-01 00:00:00           NaN\n",
       "\n",
       "[2001 rows x 3 columns]"
      ]
     },
     "execution_count": 7,
     "metadata": {},
     "output_type": "execute_result"
    }
   ],
   "source": [
    "df2"
   ]
  },
  {
   "cell_type": "code",
   "execution_count": 8,
   "id": "d62cceda",
   "metadata": {},
   "outputs": [
    {
     "name": "stdout",
     "output_type": "stream",
     "text": [
      "(2001, 3)\n",
      "(2001, 3)\n"
     ]
    }
   ],
   "source": [
    "print(df1.shape)\n",
    "print(df2.shape)"
   ]
  },
  {
   "cell_type": "code",
   "execution_count": 9,
   "id": "9a7919de",
   "metadata": {},
   "outputs": [],
   "source": [
    "df1=df1.drop(labels=2000)"
   ]
  },
  {
   "cell_type": "code",
   "execution_count": 10,
   "id": "32b8be4a",
   "metadata": {},
   "outputs": [],
   "source": [
    "df2=df2.drop(labels=2000)"
   ]
  },
  {
   "cell_type": "code",
   "execution_count": 11,
   "id": "798ad98a",
   "metadata": {},
   "outputs": [],
   "source": [
    "frames = [df1, df2,]\n",
    "\n",
    "df = pd.concat(frames, ignore_index= True)"
   ]
  },
  {
   "cell_type": "code",
   "execution_count": 12,
   "id": "ae996173",
   "metadata": {},
   "outputs": [
    {
     "data": {
      "text/plain": [
       "(4000, 3)"
      ]
     },
     "execution_count": 12,
     "metadata": {},
     "output_type": "execute_result"
    }
   ],
   "source": [
    "df.shape"
   ]
  },
  {
   "cell_type": "code",
   "execution_count": 13,
   "id": "0c561208",
   "metadata": {},
   "outputs": [
    {
     "data": {
      "text/html": [
       "<div>\n",
       "<style scoped>\n",
       "    .dataframe tbody tr th:only-of-type {\n",
       "        vertical-align: middle;\n",
       "    }\n",
       "\n",
       "    .dataframe tbody tr th {\n",
       "        vertical-align: top;\n",
       "    }\n",
       "\n",
       "    .dataframe thead th {\n",
       "        text-align: right;\n",
       "    }\n",
       "</style>\n",
       "<table border=\"1\" class=\"dataframe\">\n",
       "  <thead>\n",
       "    <tr style=\"text-align: right;\">\n",
       "      <th></th>\n",
       "      <th>VD</th>\n",
       "      <th>measurement_time</th>\n",
       "      <th>demand_level</th>\n",
       "    </tr>\n",
       "  </thead>\n",
       "  <tbody>\n",
       "    <tr>\n",
       "      <th>0</th>\n",
       "      <td>VD</td>\n",
       "      <td>2021-09-01 00:00:00</td>\n",
       "      <td>22640.0</td>\n",
       "    </tr>\n",
       "    <tr>\n",
       "      <th>1</th>\n",
       "      <td>VD</td>\n",
       "      <td>2021-09-01 00:05:00</td>\n",
       "      <td>22558.0</td>\n",
       "    </tr>\n",
       "    <tr>\n",
       "      <th>2</th>\n",
       "      <td>VD</td>\n",
       "      <td>2021-09-01 00:10:00</td>\n",
       "      <td>22443.0</td>\n",
       "    </tr>\n",
       "    <tr>\n",
       "      <th>3</th>\n",
       "      <td>VD</td>\n",
       "      <td>2021-09-01 00:15:00</td>\n",
       "      <td>22466.0</td>\n",
       "    </tr>\n",
       "    <tr>\n",
       "      <th>4</th>\n",
       "      <td>VD</td>\n",
       "      <td>2021-09-01 00:20:00</td>\n",
       "      <td>22413.0</td>\n",
       "    </tr>\n",
       "    <tr>\n",
       "      <th>...</th>\n",
       "      <td>...</td>\n",
       "      <td>...</td>\n",
       "      <td>...</td>\n",
       "    </tr>\n",
       "    <tr>\n",
       "      <th>3995</th>\n",
       "      <td>VD</td>\n",
       "      <td>2021-09-14 22:15:00</td>\n",
       "      <td>26415.0</td>\n",
       "    </tr>\n",
       "    <tr>\n",
       "      <th>3996</th>\n",
       "      <td>VD</td>\n",
       "      <td>2021-09-14 22:20:00</td>\n",
       "      <td>26233.0</td>\n",
       "    </tr>\n",
       "    <tr>\n",
       "      <th>3997</th>\n",
       "      <td>VD</td>\n",
       "      <td>2021-09-14 22:25:00</td>\n",
       "      <td>25996.0</td>\n",
       "    </tr>\n",
       "    <tr>\n",
       "      <th>3998</th>\n",
       "      <td>VD</td>\n",
       "      <td>2021-09-14 22:30:00</td>\n",
       "      <td>25818.0</td>\n",
       "    </tr>\n",
       "    <tr>\n",
       "      <th>3999</th>\n",
       "      <td>VD</td>\n",
       "      <td>2021-09-14 22:35:00</td>\n",
       "      <td>25734.0</td>\n",
       "    </tr>\n",
       "  </tbody>\n",
       "</table>\n",
       "<p>4000 rows × 3 columns</p>\n",
       "</div>"
      ],
      "text/plain": [
       "      VD    measurement_time  demand_level\n",
       "0     VD 2021-09-01 00:00:00       22640.0\n",
       "1     VD 2021-09-01 00:05:00       22558.0\n",
       "2     VD 2021-09-01 00:10:00       22443.0\n",
       "3     VD 2021-09-01 00:15:00       22466.0\n",
       "4     VD 2021-09-01 00:20:00       22413.0\n",
       "...   ..                 ...           ...\n",
       "3995  VD 2021-09-14 22:15:00       26415.0\n",
       "3996  VD 2021-09-14 22:20:00       26233.0\n",
       "3997  VD 2021-09-14 22:25:00       25996.0\n",
       "3998  VD 2021-09-14 22:30:00       25818.0\n",
       "3999  VD 2021-09-14 22:35:00       25734.0\n",
       "\n",
       "[4000 rows x 3 columns]"
      ]
     },
     "execution_count": 13,
     "metadata": {},
     "output_type": "execute_result"
    }
   ],
   "source": [
    "df"
   ]
  },
  {
   "cell_type": "code",
   "execution_count": 14,
   "id": "bd675f09",
   "metadata": {},
   "outputs": [
    {
     "data": {
      "text/plain": [
       "0      2021-09-01 00:00:00\n",
       "1      2021-09-01 00:05:00\n",
       "2      2021-09-01 00:10:00\n",
       "3      2021-09-01 00:15:00\n",
       "4      2021-09-01 00:20:00\n",
       "               ...        \n",
       "3995   2021-09-14 22:15:00\n",
       "3996   2021-09-14 22:20:00\n",
       "3997   2021-09-14 22:25:00\n",
       "3998   2021-09-14 22:30:00\n",
       "3999   2021-09-14 22:35:00\n",
       "Name: measurement_time, Length: 4000, dtype: datetime64[ns]"
      ]
     },
     "execution_count": 14,
     "metadata": {},
     "output_type": "execute_result"
    }
   ],
   "source": [
    "df['measurement_time']"
   ]
  },
  {
   "cell_type": "code",
   "execution_count": 15,
   "id": "03cb89f6",
   "metadata": {},
   "outputs": [
    {
     "data": {
      "text/plain": [
       "4000"
      ]
     },
     "execution_count": 15,
     "metadata": {},
     "output_type": "execute_result"
    }
   ],
   "source": [
    "len(df)"
   ]
  },
  {
   "cell_type": "code",
   "execution_count": 16,
   "id": "1405c48a",
   "metadata": {},
   "outputs": [
    {
     "data": {
      "text/plain": [
       "measurement_time  measurement_time\n",
       "0                 0                   321345.0\n",
       "                  5                   320736.0\n",
       "                  10                  319953.0\n",
       "                  15                  319336.0\n",
       "                  20                  318513.0\n",
       "                                        ...   \n",
       "23                35                  279660.0\n",
       "                  40                  278811.0\n",
       "                  45                  277933.0\n",
       "                  50                  277247.0\n",
       "                  55                  276313.0\n",
       "Name: demand_level, Length: 288, dtype: float64"
      ]
     },
     "execution_count": 16,
     "metadata": {},
     "output_type": "execute_result"
    }
   ],
   "source": [
    "times = pd.DatetimeIndex(df.measurement_time)\n",
    "df.groupby([times.hour, times.minute]).demand_level.sum()"
   ]
  },
  {
   "cell_type": "code",
   "execution_count": 17,
   "id": "d3f03256",
   "metadata": {},
   "outputs": [
    {
     "data": {
      "text/plain": [
       "DatetimeIndex(['2021-09-01 00:00:00', '2021-09-01 00:05:00',\n",
       "               '2021-09-01 00:10:00', '2021-09-01 00:15:00',\n",
       "               '2021-09-01 00:20:00', '2021-09-01 00:25:00',\n",
       "               '2021-09-01 00:30:00', '2021-09-01 00:35:00',\n",
       "               '2021-09-01 00:40:00', '2021-09-01 00:45:00',\n",
       "               ...\n",
       "               '2021-09-14 21:50:00', '2021-09-14 21:55:00',\n",
       "               '2021-09-14 22:00:00', '2021-09-14 22:05:00',\n",
       "               '2021-09-14 22:10:00', '2021-09-14 22:15:00',\n",
       "               '2021-09-14 22:20:00', '2021-09-14 22:25:00',\n",
       "               '2021-09-14 22:30:00', '2021-09-14 22:35:00'],\n",
       "              dtype='datetime64[ns]', name='measurement_time', length=4000, freq=None)"
      ]
     },
     "execution_count": 17,
     "metadata": {},
     "output_type": "execute_result"
    }
   ],
   "source": [
    "times"
   ]
  },
  {
   "cell_type": "code",
   "execution_count": 18,
   "id": "65b28fad",
   "metadata": {},
   "outputs": [
    {
     "data": {
      "text/plain": [
       "measurement_time\n",
       "0     22713.464286\n",
       "1     22296.208333\n",
       "2     21989.898810\n",
       "3     21944.410714\n",
       "4     22391.755952\n",
       "5     24484.958333\n",
       "6     27512.958333\n",
       "7     29426.958333\n",
       "8     29989.047619\n",
       "9     29790.023810\n",
       "10    29525.267857\n",
       "11    29508.309524\n",
       "12    29240.488095\n",
       "13    28848.690476\n",
       "14    29049.190476\n",
       "15    30273.648810\n",
       "16    31860.738095\n",
       "17    32464.315476\n",
       "18    32424.226190\n",
       "19    32062.255952\n",
       "20    30157.988095\n",
       "21    27850.714286\n",
       "22    25406.531250\n",
       "23    23483.104167\n",
       "Name: demand_level, dtype: float64"
      ]
     },
     "execution_count": 18,
     "metadata": {},
     "output_type": "execute_result"
    }
   ],
   "source": [
    "avg_demand = df.groupby([times.hour])['demand_level'].mean()\n",
    "avg_demand"
   ]
  },
  {
   "cell_type": "code",
   "execution_count": 19,
   "id": "ea132ce5",
   "metadata": {},
   "outputs": [
    {
     "name": "stdout",
     "output_type": "stream",
     "text": [
      "[0, 1, 2, 3, 4, 5, 6, 7, 8, 9, 10, 11, 12, 13, 14, 15, 16, 17, 18, 19, 20, 21, 22, 23]\n"
     ]
    }
   ],
   "source": [
    "hour = list(range(0, 24))\n",
    "\n",
    "print(hour)"
   ]
  },
  {
   "cell_type": "code",
   "execution_count": 20,
   "id": "24a61c4b",
   "metadata": {},
   "outputs": [
    {
     "data": {
      "text/plain": [
       "Text(0, 0.5, 'demand')"
      ]
     },
     "execution_count": 20,
     "metadata": {},
     "output_type": "execute_result"
    },
    {
     "data": {
      "image/png": "[encoded data removed]",
      "text/plain": [
       "<Figure size 432x288 with 1 Axes>"
      ]
     },
     "metadata": {
      "needs_background": "light"
     },
     "output_type": "display_data"
    }
   ],
   "source": [
    "#\n",
    "plt.bar(hour,avg_demand)\n",
    "plt.xlabel('hour')\n",
    "plt.ylabel('demand')"
   ]
  },
  {
   "cell_type": "code",
   "execution_count": 21,
   "id": "da7be711",
   "metadata": {},
   "outputs": [],
   "source": [
    "groups = df.groupby(times)"
   ]
  },
  {
   "cell_type": "code",
   "execution_count": 22,
   "id": "976f3c18",
   "metadata": {},
   "outputs": [],
   "source": [
    "mean = []\n",
    "dates = []\n",
    "for i in range(1, 14):\n",
    "    for j in range(24):\n",
    "        data = df.set_index('measurement_time')['2021-09-'+ str(i) +' ' + str(j)+':00:00' : '2021-09-' + str(i) +' ' + str(j)+':59:59']\n",
    "        mean.append(data[\"demand_level\"].mean())"
   ]
  },
  {
   "cell_type": "code",
   "execution_count": 23,
   "id": "38152e4f",
   "metadata": {},
   "outputs": [
    {
     "data": {
      "text/html": [
       "<div>\n",
       "<style scoped>\n",
       "    .dataframe tbody tr th:only-of-type {\n",
       "        vertical-align: middle;\n",
       "    }\n",
       "\n",
       "    .dataframe tbody tr th {\n",
       "        vertical-align: top;\n",
       "    }\n",
       "\n",
       "    .dataframe thead th {\n",
       "        text-align: right;\n",
       "    }\n",
       "</style>\n",
       "<table border=\"1\" class=\"dataframe\">\n",
       "  <thead>\n",
       "    <tr style=\"text-align: right;\">\n",
       "      <th></th>\n",
       "      <th>VD</th>\n",
       "    </tr>\n",
       "    <tr>\n",
       "      <th>demand_level</th>\n",
       "      <th></th>\n",
       "    </tr>\n",
       "  </thead>\n",
       "  <tbody>\n",
       "    <tr>\n",
       "      <th>23416.0</th>\n",
       "      <td>VD</td>\n",
       "    </tr>\n",
       "    <tr>\n",
       "      <th>23438.0</th>\n",
       "      <td>VD</td>\n",
       "    </tr>\n",
       "    <tr>\n",
       "      <th>23386.0</th>\n",
       "      <td>VD</td>\n",
       "    </tr>\n",
       "    <tr>\n",
       "      <th>23270.0</th>\n",
       "      <td>VD</td>\n",
       "    </tr>\n",
       "    <tr>\n",
       "      <th>23158.0</th>\n",
       "      <td>VD</td>\n",
       "    </tr>\n",
       "    <tr>\n",
       "      <th>23058.0</th>\n",
       "      <td>VD</td>\n",
       "    </tr>\n",
       "    <tr>\n",
       "      <th>22975.0</th>\n",
       "      <td>VD</td>\n",
       "    </tr>\n",
       "    <tr>\n",
       "      <th>22940.0</th>\n",
       "      <td>VD</td>\n",
       "    </tr>\n",
       "    <tr>\n",
       "      <th>22835.0</th>\n",
       "      <td>VD</td>\n",
       "    </tr>\n",
       "    <tr>\n",
       "      <th>22761.0</th>\n",
       "      <td>VD</td>\n",
       "    </tr>\n",
       "    <tr>\n",
       "      <th>22740.0</th>\n",
       "      <td>VD</td>\n",
       "    </tr>\n",
       "    <tr>\n",
       "      <th>22687.0</th>\n",
       "      <td>VD</td>\n",
       "    </tr>\n",
       "  </tbody>\n",
       "</table>\n",
       "</div>"
      ],
      "text/plain": [
       "              VD\n",
       "demand_level    \n",
       "23416.0       VD\n",
       "23438.0       VD\n",
       "23386.0       VD\n",
       "23270.0       VD\n",
       "23158.0       VD\n",
       "23058.0       VD\n",
       "22975.0       VD\n",
       "22940.0       VD\n",
       "22835.0       VD\n",
       "22761.0       VD\n",
       "22740.0       VD\n",
       "22687.0       VD"
      ]
     },
     "execution_count": 23,
     "metadata": {},
     "output_type": "execute_result"
    }
   ],
   "source": [
    "data.set_index('demand_level')"
   ]
  },
  {
   "cell_type": "code",
   "execution_count": 24,
   "id": "275a04ea",
   "metadata": {},
   "outputs": [
    {
     "data": {
      "text/html": [
       "<div>\n",
       "<style scoped>\n",
       "    .dataframe tbody tr th:only-of-type {\n",
       "        vertical-align: middle;\n",
       "    }\n",
       "\n",
       "    .dataframe tbody tr th {\n",
       "        vertical-align: top;\n",
       "    }\n",
       "\n",
       "    .dataframe thead th {\n",
       "        text-align: right;\n",
       "    }\n",
       "</style>\n",
       "<table border=\"1\" class=\"dataframe\">\n",
       "  <thead>\n",
       "    <tr style=\"text-align: right;\">\n",
       "      <th></th>\n",
       "      <th>VD</th>\n",
       "      <th>demand_level</th>\n",
       "    </tr>\n",
       "    <tr>\n",
       "      <th>measurement_time</th>\n",
       "      <th></th>\n",
       "      <th></th>\n",
       "    </tr>\n",
       "  </thead>\n",
       "  <tbody>\n",
       "    <tr>\n",
       "      <th>2021-09-13 23:00:00</th>\n",
       "      <td>VD</td>\n",
       "      <td>23416.0</td>\n",
       "    </tr>\n",
       "    <tr>\n",
       "      <th>2021-09-13 23:05:00</th>\n",
       "      <td>VD</td>\n",
       "      <td>23438.0</td>\n",
       "    </tr>\n",
       "    <tr>\n",
       "      <th>2021-09-13 23:10:00</th>\n",
       "      <td>VD</td>\n",
       "      <td>23386.0</td>\n",
       "    </tr>\n",
       "    <tr>\n",
       "      <th>2021-09-13 23:15:00</th>\n",
       "      <td>VD</td>\n",
       "      <td>23270.0</td>\n",
       "    </tr>\n",
       "    <tr>\n",
       "      <th>2021-09-13 23:20:00</th>\n",
       "      <td>VD</td>\n",
       "      <td>23158.0</td>\n",
       "    </tr>\n",
       "    <tr>\n",
       "      <th>2021-09-13 23:25:00</th>\n",
       "      <td>VD</td>\n",
       "      <td>23058.0</td>\n",
       "    </tr>\n",
       "    <tr>\n",
       "      <th>2021-09-13 23:30:00</th>\n",
       "      <td>VD</td>\n",
       "      <td>22975.0</td>\n",
       "    </tr>\n",
       "    <tr>\n",
       "      <th>2021-09-13 23:35:00</th>\n",
       "      <td>VD</td>\n",
       "      <td>22940.0</td>\n",
       "    </tr>\n",
       "    <tr>\n",
       "      <th>2021-09-13 23:40:00</th>\n",
       "      <td>VD</td>\n",
       "      <td>22835.0</td>\n",
       "    </tr>\n",
       "    <tr>\n",
       "      <th>2021-09-13 23:45:00</th>\n",
       "      <td>VD</td>\n",
       "      <td>22761.0</td>\n",
       "    </tr>\n",
       "    <tr>\n",
       "      <th>2021-09-13 23:50:00</th>\n",
       "      <td>VD</td>\n",
       "      <td>22740.0</td>\n",
       "    </tr>\n",
       "    <tr>\n",
       "      <th>2021-09-13 23:55:00</th>\n",
       "      <td>VD</td>\n",
       "      <td>22687.0</td>\n",
       "    </tr>\n",
       "  </tbody>\n",
       "</table>\n",
       "</div>"
      ],
      "text/plain": [
       "                     VD  demand_level\n",
       "measurement_time                     \n",
       "2021-09-13 23:00:00  VD       23416.0\n",
       "2021-09-13 23:05:00  VD       23438.0\n",
       "2021-09-13 23:10:00  VD       23386.0\n",
       "2021-09-13 23:15:00  VD       23270.0\n",
       "2021-09-13 23:20:00  VD       23158.0\n",
       "2021-09-13 23:25:00  VD       23058.0\n",
       "2021-09-13 23:30:00  VD       22975.0\n",
       "2021-09-13 23:35:00  VD       22940.0\n",
       "2021-09-13 23:40:00  VD       22835.0\n",
       "2021-09-13 23:45:00  VD       22761.0\n",
       "2021-09-13 23:50:00  VD       22740.0\n",
       "2021-09-13 23:55:00  VD       22687.0"
      ]
     },
     "execution_count": 24,
     "metadata": {},
     "output_type": "execute_result"
    }
   ],
   "source": [
    "data"
   ]
  },
  {
   "cell_type": "code",
   "execution_count": 25,
   "id": "244401c6",
   "metadata": {},
   "outputs": [
    {
     "name": "stdout",
     "output_type": "stream",
     "text": [
      "[22340.166666666668, 21843.5, 21563.416666666668, 21618.166666666668, 22508.583333333332, 23987.75, 28253.5, 31170.25, 31775.583333333332, 31558.5, 31474.416666666668, 31591.416666666668, 31614.25, 31451.75, 31501.833333333332, 31663.25, 32818.416666666664, 33116.333333333336, 33258.75, 33077.75, 31283.083333333332, 28493.583333333332, 25661.75, 23415.75, 22435.75, 22233.0, 21837.916666666668, 21983.583333333332, 22564.25, 24942.416666666668, 29183.25, 31613.666666666668, 32402.666666666668, 32523.583333333332, 31521.916666666668, 31685.166666666668, 31595.833333333332, 30921.75, 31002.916666666668, 31689.916666666668, 32613.583333333332, 32898.0, 32733.333333333332, 32892.416666666664, 31274.166666666668, 29038.083333333332, 26592.583333333332, 24464.0, 23852.583333333332, 22903.916666666668, 22805.666666666668, 22881.75, 23689.666666666668, 25925.083333333332, 29092.083333333332, 31085.25, 31623.25, 31127.5, 30914.666666666668, 30737.916666666668, 30345.083333333332, 29598.166666666668, 29358.666666666668, 30446.5, 31713.083333333332, 32155.5, 32350.833333333332, 32086.333333333332, 30538.833333333332, 28243.416666666668, 25101.833333333332, 22785.5, 21929.583333333332, 21723.25, 21510.166666666668, 21405.0, 21774.083333333332, 22391.666666666668, 24230.166666666668, 26603.75, 27698.75, 27577.583333333332, 27102.25, 26922.0, 26562.25, 25979.75, 25964.0, 26886.333333333332, 28559.75, 29752.75, 29578.5, 29484.083333333332, 27840.583333333332, 26090.916666666668, 23461.666666666668, 21628.083333333332, 21015.083333333332, 20840.666666666668, 20436.166666666668, 20260.166666666668, 20263.166666666668, 20928.166666666668, 21794.333333333332, 23464.166666666668, 24990.416666666668, 25115.666666666668, 24669.833333333332, 24334.833333333332, 23844.166666666668, 23732.083333333332, 24751.583333333332, 26810.5, 29107.833333333332, 30377.25, 30778.75, 30726.5, 28825.75, 26835.25, 24790.833333333332, 23431.25, 22765.166666666668, 22374.25, 21891.75, 22043.416666666668, 22380.333333333332, 24988.583333333332, 28384.166666666668, 30113.833333333332, 30499.0, 29733.25, 29759.416666666668, 29503.75, 29521.5, 29046.416666666668, 29517.583333333332, 31083.583333333332, 32843.833333333336, 33649.5, 33717.083333333336, 33711.083333333336, 31659.75, 28935.083333333332, 26989.916666666668, 25329.833333333332, 24149.25, 23376.333333333332, 23152.083333333332, 22891.833333333332, 23818.416666666668, 26580.0, 29869.25, 31108.0, 31003.083333333332, 30168.583333333332, 29874.25, 30239.416666666668, 29939.583333333332, 29776.583333333332, 29957.416666666668, 31559.166666666668, 33216.083333333336, 33703.833333333336, 33210.75, 32871.166666666664, 30800.666666666668, 28269.583333333332, 26193.25, nan, 23100.083333333332, 22966.666666666668, 22675.416666666668, 22766.25, 22749.416666666668, 25449.25, 29072.0, 30493.333333333332, 30136.166666666668, 29754.416666666668, 29460.083333333332, 29395.083333333332, 29099.416666666668, 29144.583333333332, 29500.916666666668, 31269.333333333332, 33027.166666666664, 33569.0, 33636.416666666664, 33335.083333333336, 31246.083333333332, 29609.583333333332, 27524.416666666668, 25518.416666666668, 24238.166666666668, 23866.833333333332, 23598.833333333332, 23617.5, 24440.416666666668, 27245.0, 30024.25, 31421.583333333332, 31807.25, 31425.5, 31242.0, 31273.583333333332, 30900.583333333332, 30436.75, 30365.916666666668, 32238.75, 33551.666666666664, 33817.25, 33610.5, 32940.25, 31194.0, 29378.583333333332, 27275.666666666668, 25378.25, 24150.166666666668, 23603.166666666668, 23186.25, 23300.416666666668, 23827.416666666668, 27047.75, 29838.083333333332, 31228.666666666668, 31657.166666666668, 31293.833333333332, 31431.083333333332, 31392.25, 30925.25, 30331.25, 30112.25, 30957.583333333332, 32163.666666666668, 32505.166666666668, 32414.166666666668, 31559.916666666668, 29789.166666666668, 27599.75, 25099.083333333332, 22980.333333333332, 22566.416666666668, 22185.25, 21554.25, 21337.333333333332, 21581.416666666668, 22352.0, 23926.25, 26185.0, 26751.833333333332, 26566.75, 26183.666666666668, 25825.0, 25228.75, 24165.916666666668, 24169.5, 25430.416666666668, 27533.333333333332, 28979.5, 29348.416666666668, 29203.083333333332, 27927.333333333332, 25693.416666666668, 23402.333333333332, 21676.416666666668, 20873.75, 20629.583333333332, 20668.833333333332, 20592.583333333332, 20376.333333333332, 20931.833333333332, 22459.75, 23836.75, 25022.75, 25531.5, 25817.166666666668, 26461.333333333332, 26987.916666666668, 27174.0, 27591.75, 28785.416666666668, 30643.833333333332, 31314.833333333332, 31413.416666666668, 30720.583333333332, 28482.583333333332, 25838.583333333332, 23219.833333333332, 22134.083333333332, 22009.25, 21485.5, 21107.833333333332, 20920.833333333332, 21178.416666666668, 24688.083333333332, 29380.583333333332, 31476.166666666668, 31863.166666666668, 31602.75, 31072.666666666668, 30718.25, 30281.083333333332, 30053.0, 30360.0, 31827.25, 33767.333333333336, 34045.083333333336, 33846.583333333336, 33079.166666666664, 30216.416666666668, 27144.333333333332, 24612.333333333332, 23055.333333333332]\n"
     ]
    }
   ],
   "source": [
    "print(mean)"
   ]
  },
  {
   "cell_type": "code",
   "execution_count": 26,
   "id": "93c099fc",
   "metadata": {},
   "outputs": [
    {
     "name": "stdout",
     "output_type": "stream",
     "text": [
      "[22340.166666666668, 21843.5, 21563.416666666668, 21618.166666666668, 22508.583333333332, 23987.75, 28253.5, 31170.25, 31775.583333333332, 31558.5, 31474.416666666668, 31591.416666666668, 31614.25, 31451.75, 31501.833333333332, 31663.25, 32818.416666666664, 33116.333333333336, 33258.75, 33077.75, 31283.083333333332, 28493.583333333332, 25661.75, 23415.75, 22435.75, 22233.0, 21837.916666666668, 21983.583333333332, 22564.25, 24942.416666666668, 29183.25, 31613.666666666668, 32402.666666666668, 32523.583333333332, 31521.916666666668, 31685.166666666668, 31595.833333333332, 30921.75, 31002.916666666668, 31689.916666666668, 32613.583333333332, 32898.0, 32733.333333333332, 32892.416666666664, 31274.166666666668, 29038.083333333332, 26592.583333333332, 24464.0, 23852.583333333332, 22903.916666666668, 22805.666666666668, 22881.75, 23689.666666666668, 25925.083333333332, 29092.083333333332, 31085.25, 31623.25, 31127.5, 30914.666666666668, 30737.916666666668, 30345.083333333332, 29598.166666666668, 29358.666666666668, 30446.5, 31713.083333333332, 32155.5, 32350.833333333332, 32086.333333333332, 30538.833333333332, 28243.416666666668, 25101.833333333332, 22785.5, 21929.583333333332, 21723.25, 21510.166666666668, 21405.0, 21774.083333333332, 22391.666666666668, 24230.166666666668, 26603.75, 27698.75, 27577.583333333332, 27102.25, 26922.0, 26562.25, 25979.75, 25964.0, 26886.333333333332, 28559.75, 29752.75, 29578.5, 29484.083333333332, 27840.583333333332, 26090.916666666668, 23461.666666666668, 21628.083333333332, 21015.083333333332, 20840.666666666668, 20436.166666666668, 20260.166666666668, 20263.166666666668, 20928.166666666668, 21794.333333333332, 23464.166666666668, 24990.416666666668, 25115.666666666668, 24669.833333333332, 24334.833333333332, 23844.166666666668, 23732.083333333332, 24751.583333333332, 26810.5, 29107.833333333332, 30377.25, 30778.75, 30726.5, 28825.75, 26835.25, 24790.833333333332, 23431.25, 22765.166666666668, 22374.25, 21891.75, 22043.416666666668, 22380.333333333332, 24988.583333333332, 28384.166666666668, 30113.833333333332, 30499.0, 29733.25, 29759.416666666668, 29503.75, 29521.5, 29046.416666666668, 29517.583333333332, 31083.583333333332, 32843.833333333336, 33649.5, 33717.083333333336, 33711.083333333336, 31659.75, 28935.083333333332, 26989.916666666668, 25329.833333333332, 24149.25, 23376.333333333332, 23152.083333333332, 22891.833333333332, 23818.416666666668, 26580.0, 29869.25, 31108.0, 31003.083333333332, 30168.583333333332, 29874.25, 30239.416666666668, 29939.583333333332, 29776.583333333332, 29957.416666666668, 31559.166666666668, 33216.083333333336, 33703.833333333336, 33210.75, 32871.166666666664, 30800.666666666668, 28269.583333333332, 26193.25, 23100.083333333332, 22966.666666666668, 22675.416666666668, 22766.25, 22749.416666666668, 25449.25, 29072.0, 30493.333333333332, 30136.166666666668, 29754.416666666668, 29460.083333333332, 29395.083333333332, 29099.416666666668, 29144.583333333332, 29500.916666666668, 31269.333333333332, 33027.166666666664, 33569.0, 33636.416666666664, 33335.083333333336, 31246.083333333332, 29609.583333333332, 27524.416666666668, 25518.416666666668, 24238.166666666668, 23866.833333333332, 23598.833333333332, 23617.5, 24440.416666666668, 27245.0, 30024.25, 31421.583333333332, 31807.25, 31425.5, 31242.0, 31273.583333333332, 30900.583333333332, 30436.75, 30365.916666666668, 32238.75, 33551.666666666664, 33817.25, 33610.5, 32940.25, 31194.0, 29378.583333333332, 27275.666666666668, 25378.25, 24150.166666666668, 23603.166666666668, 23186.25, 23300.416666666668, 23827.416666666668, 27047.75, 29838.083333333332, 31228.666666666668, 31657.166666666668, 31293.833333333332, 31431.083333333332, 31392.25, 30925.25, 30331.25, 30112.25, 30957.583333333332, 32163.666666666668, 32505.166666666668, 32414.166666666668, 31559.916666666668, 29789.166666666668, 27599.75, 25099.083333333332, 22980.333333333332, 22566.416666666668, 22185.25, 21554.25, 21337.333333333332, 21581.416666666668, 22352.0, 23926.25, 26185.0, 26751.833333333332, 26566.75, 26183.666666666668, 25825.0, 25228.75, 24165.916666666668, 24169.5, 25430.416666666668, 27533.333333333332, 28979.5, 29348.416666666668, 29203.083333333332, 27927.333333333332, 25693.416666666668, 23402.333333333332, 21676.416666666668, 20873.75, 20629.583333333332, 20668.833333333332, 20592.583333333332, 20376.333333333332, 20931.833333333332, 22459.75, 23836.75, 25022.75, 25531.5, 25817.166666666668, 26461.333333333332, 26987.916666666668, 27174.0, 27591.75, 28785.416666666668, 30643.833333333332, 31314.833333333332, 31413.416666666668, 30720.583333333332, 28482.583333333332, 25838.583333333332, 23219.833333333332, 22134.083333333332, 22009.25, 21485.5, 21107.833333333332, 20920.833333333332, 21178.416666666668, 24688.083333333332, 29380.583333333332, 31476.166666666668, 31863.166666666668, 31602.75, 31072.666666666668, 30718.25, 30281.083333333332, 30053.0, 30360.0, 31827.25, 33767.333333333336, 34045.083333333336, 33846.583333333336, 33079.166666666664, 30216.416666666668, 27144.333333333332, 24612.333333333332, 23055.333333333332]\n"
     ]
    }
   ],
   "source": [
    "mean = [x for x in mean if math.isnan(x) == False]\n",
    "print(mean)"
   ]
  },
  {
   "cell_type": "code",
   "execution_count": 27,
   "id": "8a76535e",
   "metadata": {},
   "outputs": [
    {
     "data": {
      "text/plain": [
       "311"
      ]
     },
     "execution_count": 27,
     "metadata": {},
     "output_type": "execute_result"
    }
   ],
   "source": [
    "len(mean)"
   ]
  },
  {
   "cell_type": "code",
   "execution_count": 28,
   "id": "ef0a9785",
   "metadata": {},
   "outputs": [
    {
     "name": "stdout",
     "output_type": "stream",
     "text": [
      "[0, 1, 2, 3, 4, 5, 6, 7, 8, 9, 10, 11, 12, 13, 14, 15, 16, 17, 18, 19, 20, 21, 22, 23, 24, 25, 26, 27, 28, 29, 30, 31, 32, 33, 34, 35, 36, 37, 38, 39, 40, 41, 42, 43, 44, 45, 46, 47, 48, 49, 50, 51, 52, 53, 54, 55, 56, 57, 58, 59, 60, 61, 62, 63, 64, 65, 66, 67, 68, 69, 70, 71, 72, 73, 74, 75, 76, 77, 78, 79, 80, 81, 82, 83, 84, 85, 86, 87, 88, 89, 90, 91, 92, 93, 94, 95, 96, 97, 98, 99, 100, 101, 102, 103, 104, 105, 106, 107, 108, 109, 110, 111, 112, 113, 114, 115, 116, 117, 118, 119, 120, 121, 122, 123, 124, 125, 126, 127, 128, 129, 130, 131, 132, 133, 134, 135, 136, 137, 138, 139, 140, 141, 142, 143, 144, 145, 146, 147, 148, 149, 150, 151, 152, 153, 154, 155, 156, 157, 158, 159, 160, 161, 162, 163, 164, 165, 166, 167, 168, 169, 170, 171, 172, 173, 174, 175, 176, 177, 178, 179, 180, 181, 182, 183, 184, 185, 186, 187, 188, 189, 190, 191, 192, 193, 194, 195, 196, 197, 198, 199, 200, 201, 202, 203, 204, 205, 206, 207, 208, 209, 210, 211, 212, 213, 214, 215, 216, 217, 218, 219, 220, 221, 222, 223, 224, 225, 226, 227, 228, 229, 230, 231, 232, 233, 234, 235, 236, 237, 238, 239, 240, 241, 242, 243, 244, 245, 246, 247, 248, 249, 250, 251, 252, 253, 254, 255, 256, 257, 258, 259, 260, 261, 262, 263, 264, 265, 266, 267, 268, 269, 270, 271, 272, 273, 274, 275, 276, 277, 278, 279, 280, 281, 282, 283, 284, 285, 286, 287, 288, 289, 290, 291, 292, 293, 294, 295, 296, 297, 298, 299, 300, 301, 302, 303, 304, 305, 306, 307, 308, 309, 310]\n"
     ]
    }
   ],
   "source": [
    "days_hour = list(range(len(mean)))\n",
    "\n",
    "print(days_hour)\n",
    "\n"
   ]
  },
  {
   "cell_type": "code",
   "execution_count": 29,
   "id": "e8be8a34",
   "metadata": {},
   "outputs": [
    {
     "data": {
      "text/plain": [
       "Text(0, 0.5, 'Average of demand level (MW)')"
      ]
     },
     "execution_count": 29,
     "metadata": {},
     "output_type": "execute_result"
    },
    {
     "data": {
      "image/png": "[encoded data removed]",
      "text/plain": [
       "<Figure size 432x288 with 1 Axes>"
      ]
     },
     "metadata": {
      "needs_background": "light"
     },
     "output_type": "display_data"
    }
   ],
   "source": [
    "sns.barplot(x=days_hour,y=mean)\n",
    "plt.title('24*(number of days)')\n",
    "plt.xticks(days_hour)\n",
    "plt.xlabel('Date')\n",
    "plt.ylabel('Average of demand level (MW)')\n"
   ]
  },
  {
   "cell_type": "code",
   "execution_count": null,
   "id": "a16daaf8",
   "metadata": {},
   "outputs": [],
   "source": []
  }
 ],
 "metadata": {
  "kernelspec": {
   "display_name": "Python 3",
   "language": "python",
   "name": "python3"
  },
  "language_info": {
   "codemirror_mode": {
    "name": "ipython",
    "version": 3
   },
   "file_extension": ".py",
   "mimetype": "text/x-python",
   "name": "python",
   "nbconvert_exporter": "python",
   "pygments_lexer": "ipython3",
   "version": "3.8.8"
  },
  "toc": {
   "base_numbering": 1,
   "nav_menu": {},
   "number_sections": true,
   "sideBar": true,
   "skip_h1_title": false,
   "title_cell": "Table of Contents",
   "title_sidebar": "Contents",
   "toc_cell": false,
   "toc_position": {},
   "toc_section_display": true,
   "toc_window_display": false
  }
 },
 "nbformat": 4,
 "nbformat_minor": 5
}

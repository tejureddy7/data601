{
 "cells": [
  {
   "cell_type": "markdown",
   "metadata": {
    "id": "LACcW1a8Fgg7"
   },
   "source": [
    "Most of the content presented in this notebook is inspired by the following content.\n",
    "\n",
    "[Python Data Science Handbook](https://jakevdp.github.io/PythonDataScienceHandbook/03.11-working-with-time-series.html)\n",
    "\n",
    "[Python Pandas Tutorial (Part 10): Working with Dates and Time Series Data](https://www.youtube.com/watch?v=UFuo7EHI8zc&ab_channel=CoreySchafer)"
   ]
  },
  {
   "cell_type": "markdown",
   "metadata": {
    "id": "4yTyLpTwwfxs"
   },
   "source": [
    "__Agenda__\n",
    "\n",
    "- Introduction to modules and libraries to handle time and dates in Python\n",
    "\n",
    "- Introduction to tools available in Pandas library to work with time and dates."
   ]
  },
  {
   "cell_type": "markdown",
   "metadata": {
    "id": "7Z4Yq-IZA0af"
   },
   "source": [
    "# Libraries to work with Time and Dates in Python"
   ]
  },
  {
   "cell_type": "markdown",
   "metadata": {
    "id": "98Y7ybTFA5gF"
   },
   "source": [
    "## Datetime Module"
   ]
  },
  {
   "cell_type": "code",
   "execution_count": null,
   "metadata": {
    "executionInfo": {
     "elapsed": 3,
     "status": "ok",
     "timestamp": 1635459957602,
     "user": {
      "displayName": "Murat Guner",
      "photoUrl": "https://lh3.googleusercontent.com/a/default-user=s64",
      "userId": "07219518426737849646"
     },
     "user_tz": 240
    },
    "id": "24K989UByebb"
   },
   "outputs": [],
   "source": [
    "## import datetime module\n",
    "\n",
    "from datetime import datetime\n",
    "# import datetime\n"
   ]
  },
  {
   "cell_type": "markdown",
   "metadata": {
    "id": "gTCtQ8A0zhjD"
   },
   "source": [
    "What does it mean to import datetime from datetime? \n",
    "\n",
    "https://github.com/python/cpython/blob/3.10/Lib/datetime.py\n"
   ]
  },
  {
   "cell_type": "code",
   "execution_count": null,
   "metadata": {
    "executionInfo": {
     "elapsed": 233,
     "status": "ok",
     "timestamp": 1635459997441,
     "user": {
      "displayName": "Murat Guner",
      "photoUrl": "https://lh3.googleusercontent.com/a/default-user=s64",
      "userId": "07219518426737849646"
     },
     "user_tz": 240
    },
    "id": "6dOYfj4eyk7A"
   },
   "outputs": [],
   "source": [
    "## now we can create a datetime object\n",
    "\n",
    "d = datetime(year = 2021, month = 10, day = 28)\n",
    "# d - datetime(year = 2021, month = 11, day = 28)"
   ]
  },
  {
   "cell_type": "code",
   "execution_count": null,
   "metadata": {},
   "outputs": [],
   "source": [
    "# '2021-10-28'"
   ]
  },
  {
   "cell_type": "markdown",
   "metadata": {
    "id": "2rOP60Om0v8u"
   },
   "source": [
    "To check other arguments: https://docs.python.org/3/library/datetime.html#datetime.datetime\n",
    "\n",
    "[Also we might want to talk about `aware` and `naive` object categories](https://docs.python.org/3/library/datetime.html#aware-and-naive-objects)"
   ]
  },
  {
   "cell_type": "markdown",
   "metadata": {
    "id": "4SmCkUDAA-Kb"
   },
   "source": [
    "## Dateutil Library"
   ]
  },
  {
   "cell_type": "code",
   "execution_count": null,
   "metadata": {
    "executionInfo": {
     "elapsed": 162,
     "status": "ok",
     "timestamp": 1635460102275,
     "user": {
      "displayName": "Murat Guner",
      "photoUrl": "https://lh3.googleusercontent.com/a/default-user=s64",
      "userId": "07219518426737849646"
     },
     "user_tz": 240
    },
    "id": "muRO6T3A0bRI"
   },
   "outputs": [],
   "source": [
    "## we could also use dateutil library to parse time and date\n",
    "## note that dateutil is a third-party library and needs to be installed first.\n",
    "\n",
    "## let's import parser from dateutil\n",
    "\n",
    "from dateutil import parser\n"
   ]
  },
  {
   "cell_type": "markdown",
   "metadata": {
    "id": "imEYWpAT1sIe"
   },
   "source": [
    "[Dateutil - Pypi](https://pypi.org/project/python-dateutil/)"
   ]
  },
  {
   "cell_type": "code",
   "execution_count": null,
   "metadata": {
    "executionInfo": {
     "elapsed": 158,
     "status": "ok",
     "timestamp": 1635460123757,
     "user": {
      "displayName": "Murat Guner",
      "photoUrl": "https://lh3.googleusercontent.com/a/default-user=s64",
      "userId": "07219518426737849646"
     },
     "user_tz": 240
    },
    "id": "p01sTTWp2AV6"
   },
   "outputs": [],
   "source": [
    "## parser allow us to convert strings to datetime.datetime objects\n",
    "\n",
    "## parser has a parse method to parse strings\n",
    "\n",
    "parser.parse('July 4th 2021')"
   ]
  },
  {
   "cell_type": "markdown",
   "metadata": {
    "id": "TOPkgsSH3tKX"
   },
   "source": [
    "Note that the result is `datetime` object."
   ]
  },
  {
   "cell_type": "code",
   "execution_count": null,
   "metadata": {
    "id": "YPyOEACc2q9B"
   },
   "outputs": [],
   "source": [
    "## note that this is pretty robust\n",
    "\n",
    "parser.parse('4th of July 2021')\n",
    "\n",
    "parser.parse('2021, July 4')\n",
    "\n",
    "parser.parse('2021/07/04')\n",
    "\n",
    "parser.parse('28th Oct. 2021')"
   ]
  },
  {
   "cell_type": "markdown",
   "metadata": {
    "id": "onIM8wxU3B7c"
   },
   "source": [
    "__Working with `datetime` object__\n"
   ]
  },
  {
   "cell_type": "code",
   "execution_count": null,
   "metadata": {
    "executionInfo": {
     "elapsed": 157,
     "status": "ok",
     "timestamp": 1635460160502,
     "user": {
      "displayName": "Murat Guner",
      "photoUrl": "https://lh3.googleusercontent.com/a/default-user=s64",
      "userId": "07219518426737849646"
     },
     "user_tz": 240
    },
    "id": "Y5FdIaz53rpn"
   },
   "outputs": [],
   "source": [
    "## let's create a datetime object let's say my birthday 03-15-1982\n",
    "\n",
    "my_birthday = datetime(year = 1982, month= 3, day = 15)\n",
    "my_birthday"
   ]
  },
  {
   "cell_type": "code",
   "execution_count": null,
   "metadata": {
    "executionInfo": {
     "elapsed": 148,
     "status": "ok",
     "timestamp": 1635460166442,
     "user": {
      "displayName": "Murat Guner",
      "photoUrl": "https://lh3.googleusercontent.com/a/default-user=s64",
      "userId": "07219518426737849646"
     },
     "user_tz": 240
    },
    "id": "hCFeOnZY5I2x"
   },
   "outputs": [],
   "source": [
    "## we can check the day of the week\n",
    "\n",
    "my_birthday.strftime('%A')"
   ]
  },
  {
   "cell_type": "code",
   "execution_count": null,
   "metadata": {
    "executionInfo": {
     "elapsed": 151,
     "status": "ok",
     "timestamp": 1635460171568,
     "user": {
      "displayName": "Murat Guner",
      "photoUrl": "https://lh3.googleusercontent.com/a/default-user=s64",
      "userId": "07219518426737849646"
     },
     "user_tz": 240
    },
    "id": "VemJBMjW3_bQ"
   },
   "outputs": [],
   "source": [
    "## note that using .strftime method we can convert the time into any string format.\n",
    "\n",
    "my_birthday.strftime('(%a)-%d-%B-%Y')"
   ]
  },
  {
   "cell_type": "markdown",
   "metadata": {
    "id": "AzPJSCwg57w9"
   },
   "source": [
    "[Reference to `strfformat` directives](https://docs.python.org/3/library/datetime.html#strftime-and-strptime-behavior)"
   ]
  },
  {
   "cell_type": "code",
   "execution_count": null,
   "metadata": {},
   "outputs": [],
   "source": [
    "my_birthday.strftime('%a')"
   ]
  },
  {
   "cell_type": "markdown",
   "metadata": {
    "id": "RUwliQF54wQa"
   },
   "source": [
    "# Numpy `datetime64` type"
   ]
  },
  {
   "cell_type": "markdown",
   "metadata": {
    "id": "ib7p5Z6mjHEU"
   },
   "source": [
    "Why another data type?: Efficient storage and vectorized operations"
   ]
  },
  {
   "cell_type": "code",
   "execution_count": null,
   "metadata": {
    "id": "sgcp3S7X9mdm"
   },
   "outputs": [],
   "source": [
    "import numpy as np"
   ]
  },
  {
   "cell_type": "code",
   "execution_count": null,
   "metadata": {
    "executionInfo": {
     "elapsed": 161,
     "status": "ok",
     "timestamp": 1635460275742,
     "user": {
      "displayName": "Murat Guner",
      "photoUrl": "https://lh3.googleusercontent.com/a/default-user=s64",
      "userId": "07219518426737849646"
     },
     "user_tz": 240
    },
    "id": "nKa3XZcJ96Hk"
   },
   "outputs": [],
   "source": [
    "## note that in the case of working with a lot dates and time \n",
    "## this is the compact way to store data\n",
    "date = np.array(['2021-10-28'], dtype = 'datetime64')\n",
    "## use np.array with dtype argument to create today as np.datetime64 object\n",
    "\n",
    "date\n",
    "# date[0].astype(object).year\n"
   ]
  },
  {
   "cell_type": "markdown",
   "metadata": {
    "id": "ylBPvLjsBE_3"
   },
   "source": [
    "[Numpy - Datetime Documentation](https://numpy.org/doc/stable/reference/arrays.datetime.html)"
   ]
  },
  {
   "cell_type": "code",
   "execution_count": null,
   "metadata": {
    "executionInfo": {
     "elapsed": 150,
     "status": "ok",
     "timestamp": 1635460309783,
     "user": {
      "displayName": "Murat Guner",
      "photoUrl": "https://lh3.googleusercontent.com/a/default-user=s64",
      "userId": "07219518426737849646"
     },
     "user_tz": 240
    },
    "id": "GfHj_xil-G1D"
   },
   "outputs": [],
   "source": [
    "## note that we can easily apply vectorized operations\n",
    "\n",
    "date + np.arange(12)"
   ]
  },
  {
   "cell_type": "markdown",
   "metadata": {
    "id": "cSaxVYZd_n03"
   },
   "source": [
    "Note that numpy automatically choosed 'D' as the unit."
   ]
  },
  {
   "cell_type": "code",
   "execution_count": null,
   "metadata": {},
   "outputs": [],
   "source": [
    "date = np.array(['2021-10-28'], dtype = 'datetime64[s]')\n",
    "\n",
    "date + np.arange(12)"
   ]
  },
  {
   "cell_type": "markdown",
   "metadata": {
    "id": "zuFYHbq6-Ntu"
   },
   "source": [
    "[All available datetime-units](https://numpy.org/doc/stable/reference/arrays.datetime.html#datetime-units)"
   ]
  },
  {
   "cell_type": "markdown",
   "metadata": {
    "id": "Wwtl5Xuc_hDL"
   },
   "source": [
    "## Date and Times in Pandas"
   ]
  },
  {
   "cell_type": "code",
   "execution_count": null,
   "metadata": {
    "executionInfo": {
     "elapsed": 159,
     "status": "ok",
     "timestamp": 1635460333889,
     "user": {
      "displayName": "Murat Guner",
      "photoUrl": "https://lh3.googleusercontent.com/a/default-user=s64",
      "userId": "07219518426737849646"
     },
     "user_tz": 240
    },
    "id": "DtUTJ8TFBTU1"
   },
   "outputs": [],
   "source": [
    "## let's import pandas\n",
    "import pandas as pd"
   ]
  },
  {
   "cell_type": "code",
   "execution_count": null,
   "metadata": {
    "executionInfo": {
     "elapsed": 162,
     "status": "ok",
     "timestamp": 1635460359207,
     "user": {
      "displayName": "Murat Guner",
      "photoUrl": "https://lh3.googleusercontent.com/a/default-user=s64",
      "userId": "07219518426737849646"
     },
     "user_tz": 240
    },
    "id": "j-Y6A2mwBg-M"
   },
   "outputs": [],
   "source": [
    "## the most basic data structure that pandas using is Timestamp\n",
    "pd.Timestamp(year=2021, month=11, day=8)\n"
   ]
  },
  {
   "cell_type": "code",
   "execution_count": null,
   "metadata": {},
   "outputs": [],
   "source": [
    "## to create it we can use pd.to_datetime\n",
    "pd.to_datetime('Nov 3 2021')"
   ]
  },
  {
   "cell_type": "code",
   "execution_count": null,
   "metadata": {},
   "outputs": [],
   "source": [
    "t = pd.to_datetime('Nov 3 2021')\n",
    "\n",
    "# help(t)"
   ]
  },
  {
   "cell_type": "markdown",
   "metadata": {
    "id": "_gsiia-fjcpr"
   },
   "source": [
    "[pd.to_datetime](https://pandas.pydata.org/pandas-docs/stable/reference/api/pandas.to_datetime.html)\n",
    "\n",
    "[Pandas Timestamp Documentation](https://pandas.pydata.org/pandas-docs/stable/reference/api/pandas.Timestamp.html)"
   ]
  },
  {
   "cell_type": "code",
   "execution_count": null,
   "metadata": {
    "executionInfo": {
     "elapsed": 224,
     "status": "ok",
     "timestamp": 1635460413489,
     "user": {
      "displayName": "Murat Guner",
      "photoUrl": "https://lh3.googleusercontent.com/a/default-user=s64",
      "userId": "07219518426737849646"
     },
     "user_tz": 240
    },
    "id": "LoEvJuENEYL0"
   },
   "outputs": [],
   "source": [
    "## note that pandas uses both datetime module and numpy.datetime64 data dtype\n",
    "## so we can use some of the methods used in these modules. "
   ]
  },
  {
   "cell_type": "code",
   "execution_count": null,
   "metadata": {},
   "outputs": [],
   "source": [
    "t.day_name()"
   ]
  },
  {
   "cell_type": "code",
   "execution_count": null,
   "metadata": {},
   "outputs": [],
   "source": [
    "t.month_name()"
   ]
  },
  {
   "cell_type": "code",
   "execution_count": null,
   "metadata": {
    "executionInfo": {
     "elapsed": 187,
     "status": "ok",
     "timestamp": 1635460417616,
     "user": {
      "displayName": "Murat Guner",
      "photoUrl": "https://lh3.googleusercontent.com/a/default-user=s64",
      "userId": "07219518426737849646"
     },
     "user_tz": 240
    },
    "id": "taB5F-62hXFv"
   },
   "outputs": [],
   "source": [
    "## there are also some additional methods that are very hadny when you analyze data.\n",
    "# help(t)\n",
    "# dir(t)\n",
    "# t.to_datetime64()"
   ]
  },
  {
   "cell_type": "code",
   "execution_count": null,
   "metadata": {
    "executionInfo": {
     "elapsed": 496,
     "status": "ok",
     "timestamp": 1635460418838,
     "user": {
      "displayName": "Murat Guner",
      "photoUrl": "https://lh3.googleusercontent.com/a/default-user=s64",
      "userId": "07219518426737849646"
     },
     "user_tz": 240
    },
    "id": "NqGh_qg5jMyu"
   },
   "outputs": [],
   "source": [
    "## let's consider the following example\n",
    "\n",
    "data_url ='https://raw.githubusercontent.com/mguner/teaching/main/datasets/CoreSchafer/ETH-1.csv'\n",
    "df = pd.read_csv(data_url)"
   ]
  },
  {
   "cell_type": "markdown",
   "metadata": {
    "id": "rYjvGDr7CgaM"
   },
   "source": [
    "[What is Ethereum](https://ethereum.org/en/eth/)"
   ]
  },
  {
   "cell_type": "code",
   "execution_count": null,
   "metadata": {
    "colab": {
     "base_uri": "https://localhost:8080/",
     "height": 206
    },
    "executionInfo": {
     "elapsed": 225,
     "status": "ok",
     "timestamp": 1635460478165,
     "user": {
      "displayName": "Murat Guner",
      "photoUrl": "https://lh3.googleusercontent.com/a/default-user=s64",
      "userId": "07219518426737849646"
     },
     "user_tz": 240
    },
    "id": "yr0r-jRmjWmR",
    "outputId": "7f478a31-4f2a-431f-9177-fedd34188a40"
   },
   "outputs": [],
   "source": [
    "## check the head\n",
    "\n",
    "df.head()"
   ]
  },
  {
   "cell_type": "code",
   "execution_count": null,
   "metadata": {},
   "outputs": [],
   "source": [
    "df.dtypes"
   ]
  },
  {
   "cell_type": "code",
   "execution_count": null,
   "metadata": {
    "executionInfo": {
     "elapsed": 189,
     "status": "ok",
     "timestamp": 1635460502790,
     "user": {
      "displayName": "Murat Guner",
      "photoUrl": "https://lh3.googleusercontent.com/a/default-user=s64",
      "userId": "07219518426737849646"
     },
     "user_tz": 240
    },
    "id": "8zv8it1-jpuv"
   },
   "outputs": [],
   "source": [
    "## note that in this case \n",
    "## it is not straightforward to convert strings to datetime\n",
    "\n",
    "## let's try pd.to_datetime\n",
    "pd.to_datetime(df.Date)"
   ]
  },
  {
   "cell_type": "code",
   "execution_count": null,
   "metadata": {
    "executionInfo": {
     "elapsed": 151,
     "status": "ok",
     "timestamp": 1635460545088,
     "user": {
      "displayName": "Murat Guner",
      "photoUrl": "https://lh3.googleusercontent.com/a/default-user=s64",
      "userId": "07219518426737849646"
     },
     "user_tz": 240
    },
    "id": "KA7--SWTj7D7"
   },
   "outputs": [],
   "source": [
    "## We can use the format parameter to give the format of the string\n",
    "\n",
    "pd.to_datetime(df.Date, format = '%Y-%m-%d %I-%p')"
   ]
  },
  {
   "cell_type": "markdown",
   "metadata": {
    "id": "3TiObd62kWsg"
   },
   "source": [
    "[pd.to_datetime](https://pandas.pydata.org/pandas-docs/stable/reference/api/pandas.to_datetime.html)\n",
    "\n",
    "[strftime - strptime](https://docs.python.org/3/library/datetime.html#strftime-and-strptime-behavior)"
   ]
  },
  {
   "cell_type": "code",
   "execution_count": null,
   "metadata": {
    "executionInfo": {
     "elapsed": 179,
     "status": "ok",
     "timestamp": 1635460601278,
     "user": {
      "displayName": "Murat Guner",
      "photoUrl": "https://lh3.googleusercontent.com/a/default-user=s64",
      "userId": "07219518426737849646"
     },
     "user_tz": 240
    },
    "id": "NTsZH199lgqA"
   },
   "outputs": [],
   "source": [
    "## we could also directly load the data and parse the date as datetime\n",
    "\n",
    "## for some cases it is very easy to do!\n",
    "## use parse_dates and infer_datetime_format in pd.read_csv\n",
    "df1 = pd.read_csv(data_url , parse_dates= ['Date'],infer_datetime_format= True)\n",
    "\n",
    "## but this example is not one of those!\n",
    "df1.dtypes"
   ]
  },
  {
   "cell_type": "code",
   "execution_count": null,
   "metadata": {},
   "outputs": [],
   "source": [
    "df1.Date[0]"
   ]
  },
  {
   "cell_type": "code",
   "execution_count": null,
   "metadata": {
    "executionInfo": {
     "elapsed": 180,
     "status": "ok",
     "timestamp": 1635460713006,
     "user": {
      "displayName": "Murat Guner",
      "photoUrl": "https://lh3.googleusercontent.com/a/default-user=s64",
      "userId": "07219518426737849646"
     },
     "user_tz": 240
    },
    "id": "1UPIlVWcmT3S"
   },
   "outputs": [],
   "source": [
    "## in this case we need to pass a parser to date_parser argument\n",
    "\n",
    "## define my_time_parser\n",
    "## this takes a string and return pd.to_datetime \n",
    "def my_time_parser(date):\n",
    "    return\n",
    "\n",
    "## or we could use datetime.strptime mehtod\n",
    "\n",
    "## again use read_csv but this time pass my_time_parser to date_parser argument\n",
    "\n"
   ]
  },
  {
   "cell_type": "code",
   "execution_count": null,
   "metadata": {},
   "outputs": [],
   "source": [
    "## in this case we need to pass a parser to date_parser argument\n",
    "def my_time_parser(date):\n",
    "    return pd.to_datetime(date, format =  '%Y-%m-%d %I-%p' ) ## or we could use datetime.strptime mehtod\n",
    "\n",
    "df1 = pd.read_csv(data_url, \n",
    "                  parse_dates= ['Date'], \n",
    "                  date_parser = my_time_parser)\n",
    "\n",
    "df1.Date[0]"
   ]
  },
  {
   "cell_type": "code",
   "execution_count": null,
   "metadata": {
    "colab": {
     "base_uri": "https://localhost:8080/"
    },
    "executionInfo": {
     "elapsed": 423,
     "status": "ok",
     "timestamp": 1635459054593,
     "user": {
      "displayName": "Murat Guner",
      "photoUrl": "https://lh3.googleusercontent.com/a/default-user=s64",
      "userId": "07219518426737849646"
     },
     "user_tz": 240
    },
    "id": "xRekeUTrnn7z",
    "outputId": "527270b7-e88e-4684-d36c-c8db105cf7f9"
   },
   "outputs": [],
   "source": [
    "## note that we could directly pass a lambda function too.\n",
    "\n",
    "df1 = pd.read_csv(data_url, \n",
    "                  parse_dates= ['Date'], \n",
    "                  date_parser = lambda x: datetime.strptime(x, '%Y-%m-%d %I-%p')\n",
    "#                   date_parser = lambda x: pd.to_datetime(x, format =  '%Y-%m-%d %I-%p' )\n",
    "                 )\n",
    "\n",
    "df1.Date"
   ]
  },
  {
   "cell_type": "code",
   "execution_count": null,
   "metadata": {},
   "outputs": [],
   "source": [
    "## note that each entry is an timestamp\n",
    "\n",
    "df1.Date[0]"
   ]
  },
  {
   "cell_type": "code",
   "execution_count": null,
   "metadata": {},
   "outputs": [],
   "source": [
    "## so we can use the timestamp methods\n",
    "\n",
    "df1.Date[0].day_name()"
   ]
  },
  {
   "cell_type": "code",
   "execution_count": null,
   "metadata": {},
   "outputs": [],
   "source": [
    "## but if we try to use these methods on all of the series this might not work\n",
    "\n",
    "df1.Date.day_name()"
   ]
  },
  {
   "cell_type": "code",
   "execution_count": null,
   "metadata": {
    "executionInfo": {
     "elapsed": 227,
     "status": "ok",
     "timestamp": 1635460749078,
     "user": {
      "displayName": "Murat Guner",
      "photoUrl": "https://lh3.googleusercontent.com/a/default-user=s64",
      "userId": "07219518426737849646"
     },
     "user_tz": 240
    },
    "id": "0jVMUrTToElt"
   },
   "outputs": [],
   "source": [
    "## Instead we should use .dt class to be able to access datetime methods.\n",
    "\n",
    "df1.Date.dt.day_name()"
   ]
  },
  {
   "cell_type": "code",
   "execution_count": null,
   "metadata": {},
   "outputs": [],
   "source": [
    "## check min of date\n",
    "\n",
    "df1.Date.min()"
   ]
  },
  {
   "cell_type": "code",
   "execution_count": null,
   "metadata": {},
   "outputs": [],
   "source": [
    "## check max of date\n",
    "\n",
    "df1.Date.max()"
   ]
  },
  {
   "cell_type": "code",
   "execution_count": null,
   "metadata": {
    "executionInfo": {
     "elapsed": 164,
     "status": "ok",
     "timestamp": 1635460769479,
     "user": {
      "displayName": "Murat Guner",
      "photoUrl": "https://lh3.googleusercontent.com/a/default-user=s64",
      "userId": "07219518426737849646"
     },
     "user_tz": 240
    },
    "id": "FSaxukFHo0A3"
   },
   "outputs": [],
   "source": [
    "## note that the result is timedelta type\n",
    "\n",
    "dt = df1.Date.max() - df1.Date.min()\n",
    "dt"
   ]
  },
  {
   "cell_type": "code",
   "execution_count": null,
   "metadata": {},
   "outputs": [],
   "source": [
    "# dt.days"
   ]
  },
  {
   "cell_type": "markdown",
   "metadata": {
    "id": "45zS_s5oBmjT"
   },
   "source": [
    "\n",
    "__TimeDeltas__"
   ]
  },
  {
   "cell_type": "code",
   "execution_count": null,
   "metadata": {
    "executionInfo": {
     "elapsed": 172,
     "status": "ok",
     "timestamp": 1635460780557,
     "user": {
      "displayName": "Murat Guner",
      "photoUrl": "https://lh3.googleusercontent.com/a/default-user=s64",
      "userId": "07219518426737849646"
     },
     "user_tz": 240
    },
    "id": "RD64rS-rDJ_F"
   },
   "outputs": [],
   "source": [
    "## note that we can still use vectorized operations\n",
    "\n",
    "today = datetime.now()\n",
    "\n",
    "today + pd.to_timedelta(np.arange(10), unit='D')"
   ]
  },
  {
   "cell_type": "code",
   "execution_count": null,
   "metadata": {
    "executionInfo": {
     "elapsed": 141,
     "status": "ok",
     "timestamp": 1635460785584,
     "user": {
      "displayName": "Murat Guner",
      "photoUrl": "https://lh3.googleusercontent.com/a/default-user=s64",
      "userId": "07219518426737849646"
     },
     "user_tz": 240
    },
    "id": "8475p8FjEKAf"
   },
   "outputs": [],
   "source": []
  },
  {
   "cell_type": "code",
   "execution_count": null,
   "metadata": {
    "executionInfo": {
     "elapsed": 175,
     "status": "ok",
     "timestamp": 1635460797306,
     "user": {
      "displayName": "Murat Guner",
      "photoUrl": "https://lh3.googleusercontent.com/a/default-user=s64",
      "userId": "07219518426737849646"
     },
     "user_tz": 240
    },
    "id": "ooCN1icwg3yf"
   },
   "outputs": [],
   "source": [
    "## note again that we get timedelta objects when we check the difference of two timestamps\n",
    "delta = df1.Date - df1.Date.min()\n",
    "delta"
   ]
  },
  {
   "cell_type": "code",
   "execution_count": null,
   "metadata": {},
   "outputs": [],
   "source": [
    "# help(delta[0])\n",
    "# delta[0].seconds"
   ]
  },
  {
   "cell_type": "markdown",
   "metadata": {
    "id": "HObBts9ADWm-"
   },
   "source": [
    "### Indexing by time"
   ]
  },
  {
   "cell_type": "markdown",
   "metadata": {
    "id": "37fkykn7rL_o"
   },
   "source": [
    "When you are working with time data it is generally good idea to index your dataframe with the time."
   ]
  },
  {
   "cell_type": "code",
   "execution_count": null,
   "metadata": {},
   "outputs": [],
   "source": [
    "df1.dtypes"
   ]
  },
  {
   "cell_type": "code",
   "execution_count": null,
   "metadata": {
    "executionInfo": {
     "elapsed": 183,
     "status": "ok",
     "timestamp": 1635460812748,
     "user": {
      "displayName": "Murat Guner",
      "photoUrl": "https://lh3.googleusercontent.com/a/default-user=s64",
      "userId": "07219518426737849646"
     },
     "user_tz": 240
    },
    "id": "dvznxc8JEhKE"
   },
   "outputs": [],
   "source": [
    "## let's set the index key as 'Date' column\n",
    "\n",
    "df1.set_index(keys='Date', inplace=True)"
   ]
  },
  {
   "cell_type": "code",
   "execution_count": null,
   "metadata": {},
   "outputs": [],
   "source": [
    "df1.dtypes"
   ]
  },
  {
   "cell_type": "code",
   "execution_count": null,
   "metadata": {},
   "outputs": [],
   "source": [
    "df1.head()"
   ]
  },
  {
   "cell_type": "code",
   "execution_count": null,
   "metadata": {},
   "outputs": [],
   "source": [
    "df1.index[:5]"
   ]
  },
  {
   "cell_type": "code",
   "execution_count": null,
   "metadata": {
    "colab": {
     "base_uri": "https://localhost:8080/"
    },
    "executionInfo": {
     "elapsed": 190,
     "status": "ok",
     "timestamp": 1635460817302,
     "user": {
      "displayName": "Murat Guner",
      "photoUrl": "https://lh3.googleusercontent.com/a/default-user=s64",
      "userId": "07219518426737849646"
     },
     "user_tz": 240
    },
    "id": "OEjNRNKUE0Tr",
    "outputId": "45dcb69c-e9da-4dde-d829-653e62520477"
   },
   "outputs": [],
   "source": [
    "## another way of indexing a dataframe with DatetimeIndex is \n",
    "## when you create the dataframe\n",
    "index = pd.DatetimeIndex(['2018-11-24', '2019-9-25', '2020-10-21', '2021-10-27', '2021-10-28'])\n",
    "\n",
    "data = pd.Series([2,3,5,7,11], index= index)\n",
    "\n",
    "data.index"
   ]
  },
  {
   "cell_type": "code",
   "execution_count": null,
   "metadata": {
    "executionInfo": {
     "elapsed": 145,
     "status": "ok",
     "timestamp": 1635460825410,
     "user": {
      "displayName": "Murat Guner",
      "photoUrl": "https://lh3.googleusercontent.com/a/default-user=s64",
      "userId": "07219518426737849646"
     },
     "user_tz": 240
    },
    "id": "MTuH_IoPFFsB"
   },
   "outputs": [],
   "source": [
    "## Advantage of working with a dataframe index with DatetimeIndex\n",
    "df1.head()\n",
    "## now we can slice our data very easily\n",
    "## let's get all the rows from 2020-01\n",
    "\n",
    "df1['2020-01': '2020-02-01']"
   ]
  },
  {
   "cell_type": "markdown",
   "metadata": {
    "id": "qd39egCvfW2e"
   },
   "source": [
    "## Resampling"
   ]
  },
  {
   "cell_type": "markdown",
   "metadata": {
    "id": "nS4Gt_CNximY"
   },
   "source": [
    "### Resample vs Asfreq"
   ]
  },
  {
   "cell_type": "code",
   "execution_count": null,
   "metadata": {
    "executionInfo": {
     "elapsed": 854,
     "status": "ok",
     "timestamp": 1635460848506,
     "user": {
      "displayName": "Murat Guner",
      "photoUrl": "https://lh3.googleusercontent.com/a/default-user=s64",
      "userId": "07219518426737849646"
     },
     "user_tz": 240
    },
    "id": "bXIWjnMcxANy"
   },
   "outputs": [],
   "source": [
    "%matplotlib inline\n",
    "import matplotlib.pyplot as plt\n",
    "import seaborn"
   ]
  },
  {
   "cell_type": "code",
   "execution_count": null,
   "metadata": {
    "executionInfo": {
     "elapsed": 174,
     "status": "ok",
     "timestamp": 1635460912103,
     "user": {
      "displayName": "Murat Guner",
      "photoUrl": "https://lh3.googleusercontent.com/a/default-user=s64",
      "userId": "07219518426737849646"
     },
     "user_tz": 240
    },
    "id": "vT5vgZxXxVq2"
   },
   "outputs": [],
   "source": [
    "## first make sure that you sort your index \n",
    "df1.sort_index(inplace=True)\n",
    "\n",
    "## let's create a variable open for the opening values of the Ethereum\n",
    "\n",
    "open_val = df1.Open\n",
    "\n",
    "open_val"
   ]
  },
  {
   "cell_type": "markdown",
   "metadata": {
    "id": "1KC1_cYe8A3S"
   },
   "source": [
    "[Date Offsets](https://pandas.pydata.org/pandas-docs/stable/user_guide/timeseries.html#dateoffset-objects)"
   ]
  },
  {
   "cell_type": "code",
   "execution_count": null,
   "metadata": {
    "executionInfo": {
     "elapsed": 150,
     "status": "ok",
     "timestamp": 1635460937823,
     "user": {
      "displayName": "Murat Guner",
      "photoUrl": "https://lh3.googleusercontent.com/a/default-user=s64",
      "userId": "07219518426737849646"
     },
     "user_tz": 240
    },
    "id": "YZhm4diiET70"
   },
   "outputs": [],
   "source": [
    "## here use resample with 'BA' offset\n",
    "open_val.resample('BA').mean()"
   ]
  },
  {
   "cell_type": "code",
   "execution_count": null,
   "metadata": {},
   "outputs": [],
   "source": [
    "## here use resample with 'BA' offset\n",
    "open_val.resample('BAS').mean()"
   ]
  },
  {
   "cell_type": "code",
   "execution_count": null,
   "metadata": {
    "executionInfo": {
     "elapsed": 224,
     "status": "ok",
     "timestamp": 1635460962294,
     "user": {
      "displayName": "Murat Guner",
      "photoUrl": "https://lh3.googleusercontent.com/a/default-user=s64",
      "userId": "07219518426737849646"
     },
     "user_tz": 240
    },
    "id": "6qIhrEALEYFP"
   },
   "outputs": [],
   "source": [
    "## here use asfreq method with 'BA' offset and compare\n",
    "\n",
    "open_val.asfreq('BA')"
   ]
  },
  {
   "cell_type": "code",
   "execution_count": null,
   "metadata": {
    "colab": {
     "base_uri": "https://localhost:8080/",
     "height": 225
    },
    "executionInfo": {
     "elapsed": 170,
     "status": "error",
     "timestamp": 1635460976242,
     "user": {
      "displayName": "Murat Guner",
      "photoUrl": "https://lh3.googleusercontent.com/a/default-user=s64",
      "userId": "07219518426737849646"
     },
     "user_tz": 240
    },
    "id": "Ly0kp0lnxaoQ",
    "outputId": "28b8a6e7-6503-4b16-b458-f049a723e9b4"
   },
   "outputs": [],
   "source": [
    "## Plot them in the same plot\n",
    "plt.plot(open_val.resample('BA').mean())\n",
    "plt.plot(open_val.asfreq('BA'))\n",
    "plt.xticks(rotation =45)\n",
    "plt.show()"
   ]
  },
  {
   "cell_type": "code",
   "execution_count": null,
   "metadata": {},
   "outputs": [],
   "source": [
    "from matplotlib import dates\n",
    "\n",
    "# Locators and formatters"
   ]
  },
  {
   "cell_type": "code",
   "execution_count": null,
   "metadata": {},
   "outputs": [],
   "source": [
    "plt.plot(open_val.resample('BA').mean())\n",
    "plt.plot(open_val.asfreq('BA'))\n",
    "plt.xticks(rotation =45)\n",
    "\n",
    "ax = plt.gca()\n",
    "ax.xaxis.set_major_locator(dates.YearLocator())\n",
    "ax.xaxis.set_major_formatter(dates.DateFormatter('%Y %B'))\n",
    "\n",
    "ax.xaxis.set_minor_locator(dates.MonthLocator())\n",
    "\n",
    "plt.show()"
   ]
  },
  {
   "cell_type": "code",
   "execution_count": null,
   "metadata": {},
   "outputs": [],
   "source": [
    "# df3 = df1['2020-01': '2020-02']\n",
    "\n",
    "# ax = df3.Open.plot()\n",
    "# ax.xaxis.set_major_locator(dates.WeekdayLocator(byweekday=(0), interval=7))\n",
    "\n",
    "# plt.show()"
   ]
  },
  {
   "cell_type": "markdown",
   "metadata": {
    "id": "eE9C-hdlx77H"
   },
   "source": [
    "### Rolling Windows"
   ]
  },
  {
   "cell_type": "markdown",
   "metadata": {
    "id": "JE2kdt-bE8hy"
   },
   "source": [
    "[Moving Average](https://towardsdatascience.com/dont-miss-out-on-rolling-window-functions-in-pandas-850b817131db)"
   ]
  },
  {
   "cell_type": "code",
   "execution_count": null,
   "metadata": {
    "colab": {
     "base_uri": "https://localhost:8080/",
     "height": 454
    },
    "executionInfo": {
     "elapsed": 1053,
     "status": "ok",
     "timestamp": 1635459659487,
     "user": {
      "displayName": "Murat Guner",
      "photoUrl": "https://lh3.googleusercontent.com/a/default-user=s64",
      "userId": "07219518426737849646"
     },
     "user_tz": 240
    },
    "id": "o9yXYY5I6m4T",
    "outputId": "5e94fc57-bf2d-45b3-e5e8-6244710eb5c4",
    "scrolled": false
   },
   "outputs": [],
   "source": [
    "rolling = open_val.rolling(365, center =False)\n",
    "\n",
    "data = pd.DataFrame({'input': open_val,\n",
    "                     'one-year rolling_mean': rolling.mean(),\n",
    "                     'one-year rolling_std': rolling.std()})\n",
    "# data\n",
    "\n",
    "ax = data.plot(style=['-', '--', ':'], figsize = (15,7))\n",
    "ax.lines[0].set_alpha(0.3)"
   ]
  },
  {
   "cell_type": "code",
   "execution_count": null,
   "metadata": {},
   "outputs": [],
   "source": []
  },
  {
   "cell_type": "markdown",
   "metadata": {
    "id": "q81hw4GJ-B9K"
   },
   "source": [
    "https://pandas.pydata.org/pandas-docs/stable/reference/api/pandas.DataFrame.rolling.html\n"
   ]
  },
  {
   "cell_type": "markdown",
   "metadata": {
    "id": "uh28I7Is_0fZ"
   },
   "source": [
    "# Lab"
   ]
  },
  {
   "cell_type": "markdown",
   "metadata": {
    "id": "qbjN0TpG_4eN"
   },
   "source": [
    "[Follow this tutorial to replicate the results](https://jakevdp.github.io/PythonDataScienceHandbook/03.11-working-with-time-series.html#Example:-Visualizing-Seattle-Bicycle-Counts)\n",
    "\n",
    "[Read this blog](https://jakevdp.github.io/blog/2014/06/10/is-seattle-really-seeing-an-uptick-in-cycling/)"
   ]
  },
  {
   "cell_type": "code",
   "execution_count": 1,
   "metadata": {
    "id": "f3un8ITtAPvh"
   },
   "outputs": [
    {
     "name": "stdout",
     "output_type": "stream",
     "text": [
      "zsh:1: no matches found: https://data.seattle.gov/api/views/65db-xm6k/rows.csv?accessType=DOWNLOAD\r\n"
     ]
    }
   ],
   "source": [
    "!curl -o FremontBridge.csv https://data.seattle.gov/api/views/65db-xm6k/rows.csv?accessType=DOWNLOAD"
   ]
  },
  {
   "cell_type": "code",
   "execution_count": 2,
   "metadata": {},
   "outputs": [
    {
     "data": {
      "text/html": [
       "<div>\n",
       "<style scoped>\n",
       "    .dataframe tbody tr th:only-of-type {\n",
       "        vertical-align: middle;\n",
       "    }\n",
       "\n",
       "    .dataframe tbody tr th {\n",
       "        vertical-align: top;\n",
       "    }\n",
       "\n",
       "    .dataframe thead th {\n",
       "        text-align: right;\n",
       "    }\n",
       "</style>\n",
       "<table border=\"1\" class=\"dataframe\">\n",
       "  <thead>\n",
       "    <tr style=\"text-align: right;\">\n",
       "      <th></th>\n",
       "      <th>Fremont Bridge Total</th>\n",
       "      <th>Fremont Bridge East Sidewalk</th>\n",
       "      <th>Fremont Bridge West Sidewalk</th>\n",
       "    </tr>\n",
       "    <tr>\n",
       "      <th>Date</th>\n",
       "      <th></th>\n",
       "      <th></th>\n",
       "      <th></th>\n",
       "    </tr>\n",
       "  </thead>\n",
       "  <tbody>\n",
       "    <tr>\n",
       "      <th>2019-11-01 00:00:00</th>\n",
       "      <td>12.0</td>\n",
       "      <td>7.0</td>\n",
       "      <td>5.0</td>\n",
       "    </tr>\n",
       "    <tr>\n",
       "      <th>2019-11-01 01:00:00</th>\n",
       "      <td>7.0</td>\n",
       "      <td>0.0</td>\n",
       "      <td>7.0</td>\n",
       "    </tr>\n",
       "    <tr>\n",
       "      <th>2019-11-01 02:00:00</th>\n",
       "      <td>1.0</td>\n",
       "      <td>0.0</td>\n",
       "      <td>1.0</td>\n",
       "    </tr>\n",
       "    <tr>\n",
       "      <th>2019-11-01 03:00:00</th>\n",
       "      <td>6.0</td>\n",
       "      <td>6.0</td>\n",
       "      <td>0.0</td>\n",
       "    </tr>\n",
       "    <tr>\n",
       "      <th>2019-11-01 04:00:00</th>\n",
       "      <td>6.0</td>\n",
       "      <td>5.0</td>\n",
       "      <td>1.0</td>\n",
       "    </tr>\n",
       "  </tbody>\n",
       "</table>\n",
       "</div>"
      ],
      "text/plain": [
       "                     Fremont Bridge Total  Fremont Bridge East Sidewalk  \\\n",
       "Date                                                                      \n",
       "2019-11-01 00:00:00                  12.0                           7.0   \n",
       "2019-11-01 01:00:00                   7.0                           0.0   \n",
       "2019-11-01 02:00:00                   1.0                           0.0   \n",
       "2019-11-01 03:00:00                   6.0                           6.0   \n",
       "2019-11-01 04:00:00                   6.0                           5.0   \n",
       "\n",
       "                     Fremont Bridge West Sidewalk  \n",
       "Date                                               \n",
       "2019-11-01 00:00:00                           5.0  \n",
       "2019-11-01 01:00:00                           7.0  \n",
       "2019-11-01 02:00:00                           1.0  \n",
       "2019-11-01 03:00:00                           0.0  \n",
       "2019-11-01 04:00:00                           1.0  "
      ]
     },
     "execution_count": 2,
     "metadata": {},
     "output_type": "execute_result"
    }
   ],
   "source": [
    "import pandas as pd\n",
    "data = pd.read_csv('Fremont_Bridge_Bicycle_Counter.csv', index_col='Date', parse_dates=True)\n",
    "data.head()"
   ]
  },
  {
   "cell_type": "code",
   "execution_count": null,
   "metadata": {},
   "outputs": [],
   "source": [
    "# data.columns = ['West', 'East']\n",
    "# data['Total'] = data.eval('West + East')"
   ]
  },
  {
   "cell_type": "code",
   "execution_count": 3,
   "metadata": {},
   "outputs": [
    {
     "data": {
      "text/html": [
       "<div>\n",
       "<style scoped>\n",
       "    .dataframe tbody tr th:only-of-type {\n",
       "        vertical-align: middle;\n",
       "    }\n",
       "\n",
       "    .dataframe tbody tr th {\n",
       "        vertical-align: top;\n",
       "    }\n",
       "\n",
       "    .dataframe thead th {\n",
       "        text-align: right;\n",
       "    }\n",
       "</style>\n",
       "<table border=\"1\" class=\"dataframe\">\n",
       "  <thead>\n",
       "    <tr style=\"text-align: right;\">\n",
       "      <th></th>\n",
       "      <th>Fremont Bridge Total</th>\n",
       "      <th>Fremont Bridge East Sidewalk</th>\n",
       "      <th>Fremont Bridge West Sidewalk</th>\n",
       "    </tr>\n",
       "  </thead>\n",
       "  <tbody>\n",
       "    <tr>\n",
       "      <th>count</th>\n",
       "      <td>144352.000000</td>\n",
       "      <td>144352.000000</td>\n",
       "      <td>144352.000000</td>\n",
       "    </tr>\n",
       "    <tr>\n",
       "      <th>mean</th>\n",
       "      <td>111.188013</td>\n",
       "      <td>50.529241</td>\n",
       "      <td>60.658772</td>\n",
       "    </tr>\n",
       "    <tr>\n",
       "      <th>std</th>\n",
       "      <td>141.260941</td>\n",
       "      <td>65.050403</td>\n",
       "      <td>87.812023</td>\n",
       "    </tr>\n",
       "    <tr>\n",
       "      <th>min</th>\n",
       "      <td>0.000000</td>\n",
       "      <td>0.000000</td>\n",
       "      <td>0.000000</td>\n",
       "    </tr>\n",
       "    <tr>\n",
       "      <th>25%</th>\n",
       "      <td>14.000000</td>\n",
       "      <td>6.000000</td>\n",
       "      <td>7.000000</td>\n",
       "    </tr>\n",
       "    <tr>\n",
       "      <th>50%</th>\n",
       "      <td>60.000000</td>\n",
       "      <td>28.000000</td>\n",
       "      <td>30.000000</td>\n",
       "    </tr>\n",
       "    <tr>\n",
       "      <th>75%</th>\n",
       "      <td>146.000000</td>\n",
       "      <td>68.000000</td>\n",
       "      <td>75.000000</td>\n",
       "    </tr>\n",
       "    <tr>\n",
       "      <th>max</th>\n",
       "      <td>1097.000000</td>\n",
       "      <td>698.000000</td>\n",
       "      <td>850.000000</td>\n",
       "    </tr>\n",
       "  </tbody>\n",
       "</table>\n",
       "</div>"
      ],
      "text/plain": [
       "       Fremont Bridge Total  Fremont Bridge East Sidewalk  \\\n",
       "count         144352.000000                 144352.000000   \n",
       "mean             111.188013                     50.529241   \n",
       "std              141.260941                     65.050403   \n",
       "min                0.000000                      0.000000   \n",
       "25%               14.000000                      6.000000   \n",
       "50%               60.000000                     28.000000   \n",
       "75%              146.000000                     68.000000   \n",
       "max             1097.000000                    698.000000   \n",
       "\n",
       "       Fremont Bridge West Sidewalk  \n",
       "count                 144352.000000  \n",
       "mean                      60.658772  \n",
       "std                       87.812023  \n",
       "min                        0.000000  \n",
       "25%                        7.000000  \n",
       "50%                       30.000000  \n",
       "75%                       75.000000  \n",
       "max                      850.000000  "
      ]
     },
     "execution_count": 3,
     "metadata": {},
     "output_type": "execute_result"
    }
   ],
   "source": [
    "data.dropna().describe()"
   ]
  },
  {
   "cell_type": "code",
   "execution_count": null,
   "metadata": {},
   "outputs": [],
   "source": [
    "\n",
    "\n",
    "#pip install matplotlib\n",
    "#pip install matplotlib"
   ]
  },
  {
   "cell_type": "code",
   "execution_count": 4,
   "metadata": {},
   "outputs": [
    {
     "ename": "ImportError",
     "evalue": "cannot import name 'plt' from 'matplotlib.pyplot' (/Users/tej/opt/anaconda3/lib/python3.8/site-packages/matplotlib/pyplot.py)",
     "output_type": "error",
     "traceback": [
      "\u001b[0;31m---------------------------------------------------------------------------\u001b[0m",
      "\u001b[0;31mImportError\u001b[0m                               Traceback (most recent call last)",
      "\u001b[0;32m<ipython-input-4-29af4430a2d3>\u001b[0m in \u001b[0;36m<module>\u001b[0;34m\u001b[0m\n\u001b[1;32m      1\u001b[0m \u001b[0;31m#%matplotlib inline\u001b[0m\u001b[0;34m\u001b[0m\u001b[0;34m\u001b[0m\u001b[0;34m\u001b[0m\u001b[0m\n\u001b[1;32m      2\u001b[0m \u001b[0;32mimport\u001b[0m \u001b[0mseaborn\u001b[0m\u001b[0;34m;\u001b[0m \u001b[0mseaborn\u001b[0m\u001b[0;34m.\u001b[0m\u001b[0mset\u001b[0m\u001b[0;34m(\u001b[0m\u001b[0;34m)\u001b[0m\u001b[0;34m\u001b[0m\u001b[0;34m\u001b[0m\u001b[0m\n\u001b[0;32m----> 3\u001b[0;31m \u001b[0;32mfrom\u001b[0m \u001b[0mmatplotlib\u001b[0m\u001b[0;34m.\u001b[0m\u001b[0mpyplot\u001b[0m \u001b[0;32mimport\u001b[0m \u001b[0mplt\u001b[0m\u001b[0;34m\u001b[0m\u001b[0;34m\u001b[0m\u001b[0m\n\u001b[0m",
      "\u001b[0;31mImportError\u001b[0m: cannot import name 'plt' from 'matplotlib.pyplot' (/Users/tej/opt/anaconda3/lib/python3.8/site-packages/matplotlib/pyplot.py)"
     ]
    }
   ],
   "source": [
    "#%matplotlib inline\n",
    "import seaborn; seaborn.set()\n",
    "from matplotlib.pyplot import plt"
   ]
  },
  {
   "cell_type": "code",
   "execution_count": 7,
   "metadata": {},
   "outputs": [
    {
     "ename": "NameError",
     "evalue": "name 'plt' is not defined",
     "output_type": "error",
     "traceback": [
      "\u001b[0;31m---------------------------------------------------------------------------\u001b[0m",
      "\u001b[0;31mNameError\u001b[0m                                 Traceback (most recent call last)",
      "\u001b[0;32m<ipython-input-7-7a39ce2818c2>\u001b[0m in \u001b[0;36m<module>\u001b[0;34m\u001b[0m\n\u001b[1;32m      1\u001b[0m \u001b[0mdata\u001b[0m\u001b[0;34m.\u001b[0m\u001b[0mplot\u001b[0m\u001b[0;34m(\u001b[0m\u001b[0;34m)\u001b[0m\u001b[0;34m\u001b[0m\u001b[0;34m\u001b[0m\u001b[0m\n\u001b[0;32m----> 2\u001b[0;31m \u001b[0mplt\u001b[0m\u001b[0;34m.\u001b[0m\u001b[0mylabel\u001b[0m\u001b[0;34m(\u001b[0m\u001b[0;34m'Hourly Bicycle Count'\u001b[0m\u001b[0;34m)\u001b[0m\u001b[0;34m;\u001b[0m\u001b[0;34m\u001b[0m\u001b[0;34m\u001b[0m\u001b[0m\n\u001b[0m",
      "\u001b[0;31mNameError\u001b[0m: name 'plt' is not defined"
     ]
    },
    {
     "data": {
      "image/png": "[encoded data removed]",
      "text/plain": [
       "<Figure size 432x288 with 1 Axes>"
      ]
     },
     "metadata": {},
     "output_type": "display_data"
    }
   ],
   "source": [
    "data.plot()\n",
    "plt.ylabel('Hourly Bicycle Count');"
   ]
  },
  {
   "cell_type": "code",
   "execution_count": 8,
   "metadata": {},
   "outputs": [
    {
     "ename": "NameError",
     "evalue": "name 'plt' is not defined",
     "output_type": "error",
     "traceback": [
      "\u001b[0;31m---------------------------------------------------------------------------\u001b[0m",
      "\u001b[0;31mNameError\u001b[0m                                 Traceback (most recent call last)",
      "\u001b[0;32m<ipython-input-8-398761912d1e>\u001b[0m in \u001b[0;36m<module>\u001b[0;34m\u001b[0m\n\u001b[1;32m      1\u001b[0m \u001b[0mweekly\u001b[0m \u001b[0;34m=\u001b[0m \u001b[0mdata\u001b[0m\u001b[0;34m.\u001b[0m\u001b[0mresample\u001b[0m\u001b[0;34m(\u001b[0m\u001b[0;34m'W'\u001b[0m\u001b[0;34m)\u001b[0m\u001b[0;34m.\u001b[0m\u001b[0msum\u001b[0m\u001b[0;34m(\u001b[0m\u001b[0;34m)\u001b[0m\u001b[0;34m\u001b[0m\u001b[0;34m\u001b[0m\u001b[0m\n\u001b[1;32m      2\u001b[0m \u001b[0mweekly\u001b[0m\u001b[0;34m.\u001b[0m\u001b[0mplot\u001b[0m\u001b[0;34m(\u001b[0m\u001b[0mstyle\u001b[0m\u001b[0;34m=\u001b[0m\u001b[0;34m[\u001b[0m\u001b[0;34m':'\u001b[0m\u001b[0;34m,\u001b[0m \u001b[0;34m'--'\u001b[0m\u001b[0;34m,\u001b[0m \u001b[0;34m'-'\u001b[0m\u001b[0;34m]\u001b[0m\u001b[0;34m)\u001b[0m\u001b[0;34m\u001b[0m\u001b[0;34m\u001b[0m\u001b[0m\n\u001b[0;32m----> 3\u001b[0;31m \u001b[0mplt\u001b[0m\u001b[0;34m.\u001b[0m\u001b[0mylabel\u001b[0m\u001b[0;34m(\u001b[0m\u001b[0;34m'Weekly bicycle count'\u001b[0m\u001b[0;34m)\u001b[0m\u001b[0;34m;\u001b[0m\u001b[0;34m\u001b[0m\u001b[0;34m\u001b[0m\u001b[0m\n\u001b[0m",
      "\u001b[0;31mNameError\u001b[0m: name 'plt' is not defined"
     ]
    },
    {
     "data": {
      "image/png": "[encoded data removed]",
      "text/plain": [
       "<Figure size 432x288 with 1 Axes>"
      ]
     },
     "metadata": {},
     "output_type": "display_data"
    }
   ],
   "source": [
    "weekly = data.resample('W').sum()\n",
    "weekly.plot(style=[':', '--', '-'])\n",
    "plt.ylabel('Weekly bicycle count');"
   ]
  },
  {
   "cell_type": "code",
   "execution_count": 15,
   "metadata": {},
   "outputs": [
    {
     "ename": "NameError",
     "evalue": "name 'plt' is not defined",
     "output_type": "error",
     "traceback": [
      "\u001b[0;31m---------------------------------------------------------------------------\u001b[0m",
      "\u001b[0;31mNameError\u001b[0m                                 Traceback (most recent call last)",
      "\u001b[0;32m<ipython-input-15-1ee534d68930>\u001b[0m in \u001b[0;36m<module>\u001b[0;34m\u001b[0m\n\u001b[1;32m      1\u001b[0m \u001b[0mdaily\u001b[0m \u001b[0;34m=\u001b[0m \u001b[0mdata\u001b[0m\u001b[0;34m.\u001b[0m\u001b[0mresample\u001b[0m\u001b[0;34m(\u001b[0m\u001b[0;34m'D'\u001b[0m\u001b[0;34m)\u001b[0m\u001b[0;34m.\u001b[0m\u001b[0msum\u001b[0m\u001b[0;34m(\u001b[0m\u001b[0;34m)\u001b[0m\u001b[0;34m\u001b[0m\u001b[0;34m\u001b[0m\u001b[0m\n\u001b[1;32m      2\u001b[0m \u001b[0mdaily\u001b[0m\u001b[0;34m.\u001b[0m\u001b[0mrolling\u001b[0m\u001b[0;34m(\u001b[0m\u001b[0;36m30\u001b[0m\u001b[0;34m,\u001b[0m \u001b[0mcenter\u001b[0m\u001b[0;34m=\u001b[0m\u001b[0;32mTrue\u001b[0m\u001b[0;34m)\u001b[0m\u001b[0;34m.\u001b[0m\u001b[0msum\u001b[0m\u001b[0;34m(\u001b[0m\u001b[0;34m)\u001b[0m\u001b[0;34m.\u001b[0m\u001b[0mplot\u001b[0m\u001b[0;34m(\u001b[0m\u001b[0mstyle\u001b[0m\u001b[0;34m=\u001b[0m\u001b[0;34m[\u001b[0m\u001b[0;34m':'\u001b[0m\u001b[0;34m,\u001b[0m \u001b[0;34m'--'\u001b[0m\u001b[0;34m,\u001b[0m \u001b[0;34m'-'\u001b[0m\u001b[0;34m]\u001b[0m\u001b[0;34m)\u001b[0m\u001b[0;34m\u001b[0m\u001b[0;34m\u001b[0m\u001b[0m\n\u001b[0;32m----> 3\u001b[0;31m \u001b[0mplt\u001b[0m\u001b[0;34m.\u001b[0m\u001b[0mylabel\u001b[0m\u001b[0;34m(\u001b[0m\u001b[0;34m'mean hourly count'\u001b[0m\u001b[0;34m)\u001b[0m\u001b[0;34m;\u001b[0m\u001b[0;34m\u001b[0m\u001b[0;34m\u001b[0m\u001b[0m\n\u001b[0m",
      "\u001b[0;31mNameError\u001b[0m: name 'plt' is not defined"
     ]
    },
    {
     "data": {
      "image/png": "[encoded data removed]",
      "text/plain": [
       "<Figure size 432x288 with 1 Axes>"
      ]
     },
     "metadata": {},
     "output_type": "display_data"
    }
   ],
   "source": [
    "daily = data.resample('D').sum()\n",
    "daily.rolling(30, center=True).sum().plot(style=[':', '--', '-'])\n",
    "plt.ylabel('mean hourly count');"
   ]
  },
  {
   "cell_type": "code",
   "execution_count": 12,
   "metadata": {},
   "outputs": [
    {
     "data": {
      "image/png": "[encoded data removed]",
      "text/plain": [
       "<Figure size 432x288 with 1 Axes>"
      ]
     },
     "metadata": {},
     "output_type": "display_data"
    }
   ],
   "source": [
    "import numpy as np\n",
    "by_time = data.groupby(data.index.time).mean()\n",
    "hourly_ticks = 4 * 60 * 60 * np.arange(6)\n",
    "by_time.plot(xticks=hourly_ticks, style=[':', '--', '-']);"
   ]
  },
  {
   "cell_type": "code",
   "execution_count": 13,
   "metadata": {},
   "outputs": [
    {
     "data": {
      "image/png": "[encoded data removed]",
      "text/plain": [
       "<Figure size 432x288 with 1 Axes>"
      ]
     },
     "metadata": {},
     "output_type": "display_data"
    }
   ],
   "source": [
    "by_weekday = data.groupby(data.index.dayofweek).mean()\n",
    "by_weekday.index = ['Mon', 'Tues', 'Wed', 'Thurs', 'Fri', 'Sat', 'Sun']\n",
    "by_weekday.plot(style=[':', '--', '-']);\n"
   ]
  },
  {
   "cell_type": "code",
   "execution_count": 16,
   "metadata": {},
   "outputs": [],
   "source": [
    "weekend = np.where(data.index.weekday < 5, 'Weekday', 'Weekend')\n",
    "by_time = data.groupby([weekend, data.index.time]).mean()"
   ]
  },
  {
   "cell_type": "code",
   "execution_count": 18,
   "metadata": {},
   "outputs": [
    {
     "data": {
      "image/png": "[encoded data removed]",
      "text/plain": [
       "<Figure size 1008x360 with 2 Axes>"
      ]
     },
     "metadata": {},
     "output_type": "display_data"
    }
   ],
   "source": [
    "import matplotlib.pyplot as plt\n",
    "fig, ax = plt.subplots(1, 2, figsize=(14, 5))\n",
    "by_time.loc['Weekday'].plot(ax=ax[0], title='Weekdays',\n",
    "                           xticks=hourly_ticks, style=[':', '--', '-'])\n",
    "by_time.loc['Weekend'].plot(ax=ax[1], title='Weekends',\n",
    "                           xticks=hourly_ticks, style=[':', '--', '-']);"
   ]
  },
  {
   "cell_type": "code",
   "execution_count": null,
   "metadata": {},
   "outputs": [],
   "source": []
  },
  {
   "cell_type": "code",
   "execution_count": null,
   "metadata": {},
   "outputs": [],
   "source": []
  },
  {
   "cell_type": "code",
   "execution_count": null,
   "metadata": {},
   "outputs": [],
   "source": []
  },
  {
   "cell_type": "code",
   "execution_count": null,
   "metadata": {},
   "outputs": [],
   "source": []
  },
  {
   "cell_type": "code",
   "execution_count": null,
   "metadata": {},
   "outputs": [],
   "source": []
  }
 ],
 "metadata": {
  "colab": {
   "authorship_tag": "ABX9TyNjQlt1fDmhafVHjxNX2uw1",
   "collapsed_sections": [],
   "name": "Copy of Fall21-W9-WorkingWithTimeDate-StudentCopy-Before.ipynb",
   "provenance": []
  },
  "kernelspec": {
   "display_name": "Python 3",
   "language": "python",
   "name": "python3"
  },
  "language_info": {
   "codemirror_mode": {
    "name": "ipython",
    "version": 3
   },
   "file_extension": ".py",
   "mimetype": "text/x-python",
   "name": "python",
   "nbconvert_exporter": "python",
   "pygments_lexer": "ipython3",
   "version": "3.8.8"
  },
  "toc": {
   "base_numbering": 1,
   "nav_menu": {},
   "number_sections": true,
   "sideBar": true,
   "skip_h1_title": false,
   "title_cell": "Table of Contents",
   "title_sidebar": "Contents",
   "toc_cell": false,
   "toc_position": {},
   "toc_section_display": true,
   "toc_window_display": false
  }
 },
 "nbformat": 4,
 "nbformat_minor": 1
}

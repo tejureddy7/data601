{
 "cells": [
  {
   "cell_type": "markdown",
   "metadata": {},
   "source": [
    "https://realpython.com/pandas-merge-join-and-concat/"
   ]
  },
  {
   "cell_type": "code",
   "execution_count": 3,
   "metadata": {},
   "outputs": [
    {
     "name": "stdout",
     "output_type": "stream",
     "text": [
      "Collecting faker\n",
      "  Downloading Faker-8.13.2-py3-none-any.whl (1.2 MB)\n",
      "\u001b[K     |████████████████████████████████| 1.2 MB 5.5 MB/s eta 0:00:01\n",
      "\u001b[?25hRequirement already satisfied: python-dateutil>=2.4 in /Users/tej/opt/anaconda3/lib/python3.8/site-packages (from faker) (2.8.1)\n",
      "Collecting text-unidecode==1.3\n",
      "  Downloading text_unidecode-1.3-py2.py3-none-any.whl (78 kB)\n",
      "\u001b[K     |████████████████████████████████| 78 kB 11.6 MB/s eta 0:00:01\n",
      "\u001b[?25hRequirement already satisfied: six>=1.5 in /Users/tej/opt/anaconda3/lib/python3.8/site-packages (from python-dateutil>=2.4->faker) (1.15.0)\n",
      "Installing collected packages: text-unidecode, faker\n",
      "Successfully installed faker-8.13.2 text-unidecode-1.3\n"
     ]
    }
   ],
   "source": [
    "# what do we do if library doesn't exist??\n",
    "!pip install faker"
   ]
  },
  {
   "cell_type": "code",
   "execution_count": 4,
   "metadata": {},
   "outputs": [],
   "source": [
    "from faker import Faker\n",
    "import pandas as pd\n",
    "import random"
   ]
  },
  {
   "cell_type": "code",
   "execution_count": 5,
   "metadata": {},
   "outputs": [],
   "source": [
    "f = Faker()\n",
    "\n",
    "df1 = pd.DataFrame({\n",
    "    'id': ['st_' + str(i) for i in range(0, 20)],\n",
    "    'name': [f.name() for _ in range(0,20)],\n",
    "    'email' : [f.email() for _ in range(0,20)]\n",
    "})"
   ]
  },
  {
   "cell_type": "code",
   "execution_count": 6,
   "metadata": {},
   "outputs": [
    {
     "data": {
      "text/html": [
       "<div>\n",
       "<style scoped>\n",
       "    .dataframe tbody tr th:only-of-type {\n",
       "        vertical-align: middle;\n",
       "    }\n",
       "\n",
       "    .dataframe tbody tr th {\n",
       "        vertical-align: top;\n",
       "    }\n",
       "\n",
       "    .dataframe thead th {\n",
       "        text-align: right;\n",
       "    }\n",
       "</style>\n",
       "<table border=\"1\" class=\"dataframe\">\n",
       "  <thead>\n",
       "    <tr style=\"text-align: right;\">\n",
       "      <th></th>\n",
       "      <th>id</th>\n",
       "      <th>name</th>\n",
       "      <th>email</th>\n",
       "    </tr>\n",
       "  </thead>\n",
       "  <tbody>\n",
       "    <tr>\n",
       "      <th>0</th>\n",
       "      <td>st_0</td>\n",
       "      <td>Mrs. Pamela Montgomery</td>\n",
       "      <td>christopherritter@yahoo.com</td>\n",
       "    </tr>\n",
       "    <tr>\n",
       "      <th>1</th>\n",
       "      <td>st_1</td>\n",
       "      <td>Judith Smith</td>\n",
       "      <td>sierra49@dalton.info</td>\n",
       "    </tr>\n",
       "    <tr>\n",
       "      <th>2</th>\n",
       "      <td>st_2</td>\n",
       "      <td>Angela Parker</td>\n",
       "      <td>lisa23@clayton-mcpherson.com</td>\n",
       "    </tr>\n",
       "    <tr>\n",
       "      <th>3</th>\n",
       "      <td>st_3</td>\n",
       "      <td>Kara Wright</td>\n",
       "      <td>moraleslori@rice.com</td>\n",
       "    </tr>\n",
       "    <tr>\n",
       "      <th>4</th>\n",
       "      <td>st_4</td>\n",
       "      <td>Mr. Andrew Russell MD</td>\n",
       "      <td>lopezdiane@yahoo.com</td>\n",
       "    </tr>\n",
       "    <tr>\n",
       "      <th>5</th>\n",
       "      <td>st_5</td>\n",
       "      <td>Katherine Duncan</td>\n",
       "      <td>wrightlatasha@dorsey-henson.com</td>\n",
       "    </tr>\n",
       "    <tr>\n",
       "      <th>6</th>\n",
       "      <td>st_6</td>\n",
       "      <td>Shaun Gonzalez</td>\n",
       "      <td>yvonneboyer@yahoo.com</td>\n",
       "    </tr>\n",
       "    <tr>\n",
       "      <th>7</th>\n",
       "      <td>st_7</td>\n",
       "      <td>Victoria Henry</td>\n",
       "      <td>jenniferpatterson@gmail.com</td>\n",
       "    </tr>\n",
       "    <tr>\n",
       "      <th>8</th>\n",
       "      <td>st_8</td>\n",
       "      <td>George Willis</td>\n",
       "      <td>brownjennifer@yahoo.com</td>\n",
       "    </tr>\n",
       "    <tr>\n",
       "      <th>9</th>\n",
       "      <td>st_9</td>\n",
       "      <td>Michael Morales</td>\n",
       "      <td>johnsoncynthia@horton.com</td>\n",
       "    </tr>\n",
       "    <tr>\n",
       "      <th>10</th>\n",
       "      <td>st_10</td>\n",
       "      <td>Tony Schneider</td>\n",
       "      <td>natalietran@young-chen.com</td>\n",
       "    </tr>\n",
       "    <tr>\n",
       "      <th>11</th>\n",
       "      <td>st_11</td>\n",
       "      <td>Troy Khan</td>\n",
       "      <td>fmontgomery@hotmail.com</td>\n",
       "    </tr>\n",
       "    <tr>\n",
       "      <th>12</th>\n",
       "      <td>st_12</td>\n",
       "      <td>Annette Reyes</td>\n",
       "      <td>kelseywilson@vargas-salazar.com</td>\n",
       "    </tr>\n",
       "    <tr>\n",
       "      <th>13</th>\n",
       "      <td>st_13</td>\n",
       "      <td>Matthew Green PhD</td>\n",
       "      <td>cpatrick@sullivan-jackson.com</td>\n",
       "    </tr>\n",
       "    <tr>\n",
       "      <th>14</th>\n",
       "      <td>st_14</td>\n",
       "      <td>James Hooper</td>\n",
       "      <td>rachelcollier@leach.com</td>\n",
       "    </tr>\n",
       "    <tr>\n",
       "      <th>15</th>\n",
       "      <td>st_15</td>\n",
       "      <td>Lauren Meyer</td>\n",
       "      <td>hmoody@andrews.biz</td>\n",
       "    </tr>\n",
       "    <tr>\n",
       "      <th>16</th>\n",
       "      <td>st_16</td>\n",
       "      <td>William Higgins</td>\n",
       "      <td>englishmichael@hunter.com</td>\n",
       "    </tr>\n",
       "    <tr>\n",
       "      <th>17</th>\n",
       "      <td>st_17</td>\n",
       "      <td>Teresa Bradford</td>\n",
       "      <td>christinegreene@hanna-morris.info</td>\n",
       "    </tr>\n",
       "    <tr>\n",
       "      <th>18</th>\n",
       "      <td>st_18</td>\n",
       "      <td>Audrey Hurst</td>\n",
       "      <td>davisalan@melendez-wright.org</td>\n",
       "    </tr>\n",
       "    <tr>\n",
       "      <th>19</th>\n",
       "      <td>st_19</td>\n",
       "      <td>Eric Lee</td>\n",
       "      <td>carrolldaniel@coleman.com</td>\n",
       "    </tr>\n",
       "  </tbody>\n",
       "</table>\n",
       "</div>"
      ],
      "text/plain": [
       "       id                    name                              email\n",
       "0    st_0  Mrs. Pamela Montgomery        christopherritter@yahoo.com\n",
       "1    st_1            Judith Smith               sierra49@dalton.info\n",
       "2    st_2           Angela Parker       lisa23@clayton-mcpherson.com\n",
       "3    st_3             Kara Wright               moraleslori@rice.com\n",
       "4    st_4   Mr. Andrew Russell MD               lopezdiane@yahoo.com\n",
       "5    st_5        Katherine Duncan    wrightlatasha@dorsey-henson.com\n",
       "6    st_6          Shaun Gonzalez              yvonneboyer@yahoo.com\n",
       "7    st_7          Victoria Henry        jenniferpatterson@gmail.com\n",
       "8    st_8           George Willis            brownjennifer@yahoo.com\n",
       "9    st_9         Michael Morales          johnsoncynthia@horton.com\n",
       "10  st_10          Tony Schneider         natalietran@young-chen.com\n",
       "11  st_11               Troy Khan            fmontgomery@hotmail.com\n",
       "12  st_12           Annette Reyes    kelseywilson@vargas-salazar.com\n",
       "13  st_13       Matthew Green PhD      cpatrick@sullivan-jackson.com\n",
       "14  st_14            James Hooper            rachelcollier@leach.com\n",
       "15  st_15            Lauren Meyer                 hmoody@andrews.biz\n",
       "16  st_16         William Higgins          englishmichael@hunter.com\n",
       "17  st_17         Teresa Bradford  christinegreene@hanna-morris.info\n",
       "18  st_18            Audrey Hurst      davisalan@melendez-wright.org\n",
       "19  st_19                Eric Lee          carrolldaniel@coleman.com"
      ]
     },
     "execution_count": 6,
     "metadata": {},
     "output_type": "execute_result"
    }
   ],
   "source": [
    "df1"
   ]
  },
  {
   "cell_type": "code",
   "execution_count": null,
   "metadata": {},
   "outputs": [],
   "source": [
    "count = 25\n",
    "\n",
    "df2 = pd.DataFrame({\n",
    "    'studentId': ['st_' + str(i) for i in range(5, count)],\n",
    "    'grade1': [random.randint(50, 100) for _ in range(5,count)],\n",
    "    'grade2': [random.randint(50, 100) for _ in range(5,count)],\n",
    "    'grade3': [random.randint(50, 100) for _ in range(5,count)],\n",
    "})"
   ]
  },
  {
   "cell_type": "code",
   "execution_count": null,
   "metadata": {},
   "outputs": [],
   "source": [
    "df2"
   ]
  },
  {
   "cell_type": "markdown",
   "metadata": {},
   "source": [
    "## Merge `df1` and `df2`: if students exist in both data frames"
   ]
  },
  {
   "cell_type": "code",
   "execution_count": null,
   "metadata": {},
   "outputs": [],
   "source": [
    "df_merged = None\n",
    "df_merged"
   ]
  },
  {
   "cell_type": "markdown",
   "metadata": {},
   "source": [
    "## Merge `df1` and `df2`: get all students from `df1` and get from `df2` if student exists on `df2`"
   ]
  },
  {
   "cell_type": "code",
   "execution_count": null,
   "metadata": {},
   "outputs": [],
   "source": [
    "df_merged = None\n",
    "df_merged"
   ]
  },
  {
   "cell_type": "markdown",
   "metadata": {},
   "source": [
    "## Merge `df1` and `df2`: get all students from `df2` and get from `df1` if student exists on `df1`"
   ]
  },
  {
   "cell_type": "code",
   "execution_count": null,
   "metadata": {},
   "outputs": [],
   "source": [
    "df_merged = None\n",
    "df_merged"
   ]
  },
  {
   "cell_type": "markdown",
   "metadata": {},
   "source": [
    "## Merge `df1` and `df2`: get both records"
   ]
  },
  {
   "cell_type": "code",
   "execution_count": null,
   "metadata": {},
   "outputs": [],
   "source": [
    "df_merged = None\n",
    "df_merged"
   ]
  },
  {
   "cell_type": "code",
   "execution_count": null,
   "metadata": {},
   "outputs": [],
   "source": []
  }
 ],
 "metadata": {
  "kernelspec": {
   "display_name": "Python 3",
   "language": "python",
   "name": "python3"
  },
  "language_info": {
   "codemirror_mode": {
    "name": "ipython",
    "version": 3
   },
   "file_extension": ".py",
   "mimetype": "text/x-python",
   "name": "python",
   "nbconvert_exporter": "python",
   "pygments_lexer": "ipython3",
   "version": "3.8.8"
  },
  "toc": {
   "base_numbering": 1,
   "nav_menu": {},
   "number_sections": true,
   "sideBar": true,
   "skip_h1_title": false,
   "title_cell": "Table of Contents",
   "title_sidebar": "Contents",
   "toc_cell": false,
   "toc_position": {},
   "toc_section_display": true,
   "toc_window_display": false
  },
  "varInspector": {
   "cols": {
    "lenName": 16,
    "lenType": 16,
    "lenVar": 40
   },
   "kernels_config": {
    "python": {
     "delete_cmd_postfix": "",
     "delete_cmd_prefix": "del ",
     "library": "var_list.py",
     "varRefreshCmd": "print(var_dic_list())"
    },
    "r": {
     "delete_cmd_postfix": ") ",
     "delete_cmd_prefix": "rm(",
     "library": "var_list.r",
     "varRefreshCmd": "cat(var_dic_list()) "
    }
   },
   "types_to_exclude": [
    "module",
    "function",
    "builtin_function_or_method",
    "instance",
    "_Feature"
   ],
   "window_display": false
  }
 },
 "nbformat": 4,
 "nbformat_minor": 2
}

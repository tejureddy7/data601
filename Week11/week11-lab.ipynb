{
 "cells": [
  {
   "cell_type": "markdown",
   "id": "72fa4223",
   "metadata": {},
   "source": [
    "# Week11 Lab\n",
    "\n",
    "Write a `ArrayList` class for a basic replacement of list type. \n",
    "It should have the following methods.\n",
    "When you add 2 instances of this type, it should add side by side like pandas Series\n",
    "\n",
    "* append\n",
    "* clear\n",
    "* `__getitem__`\n",
    "* `__add__`"
   ]
  },
  {
   "cell_type": "code",
   "execution_count": 1,
   "id": "b05b5884",
   "metadata": {},
   "outputs": [
    {
     "data": {
      "text/plain": [
       "[1, 2, 1, 2]"
      ]
     },
     "execution_count": 1,
     "metadata": {},
     "output_type": "execute_result"
    }
   ],
   "source": [
    "[1,2] + [1,2]"
   ]
  },
  {
   "cell_type": "code",
   "execution_count": 2,
   "id": "163f4faf",
   "metadata": {},
   "outputs": [],
   "source": [
    "class ArrayList:\n",
    "    \n",
    "    def __init__(self):\n",
    "        self.arr = []\n",
    "        \n",
    "    def append(self, value):\n",
    "        self.arr.append(value)\n",
    "        \n",
    "    def clear(self):\n",
    "        self.arr.clear()\n",
    "        \n",
    "    def __len__(self):\n",
    "        return len(self.arr)\n",
    "        \n",
    "    def __getitem__(self, ix):\n",
    "        return self.arr[ix]\n",
    "    \n",
    "    def __add__(self, other):\n",
    "        if len(self.arr) != len(other):\n",
    "            raise ValueError('not same length')\n",
    "            \n",
    "        obj = ArrayList\n",
    "        for x, y in zip(self.arr, other.arr):\n",
    "            obj.append(x + y)    \n",
    "        return obj\n",
    "    \n",
    "\n",
    "    def __repr__(self):\n",
    "        return str(self.arr)"
   ]
  },
  {
   "cell_type": "code",
   "execution_count": 3,
   "id": "1f48095c",
   "metadata": {},
   "outputs": [],
   "source": [
    "o1 = ArrayList()\n",
    "o1.clear()"
   ]
  },
  {
   "cell_type": "code",
   "execution_count": 4,
   "id": "23c5497c",
   "metadata": {},
   "outputs": [],
   "source": [
    "o1.append(1)\n",
    "o1.append(2)"
   ]
  },
  {
   "cell_type": "code",
   "execution_count": 5,
   "id": "521e6290",
   "metadata": {},
   "outputs": [
    {
     "data": {
      "text/plain": [
       "2"
      ]
     },
     "execution_count": 5,
     "metadata": {},
     "output_type": "execute_result"
    }
   ],
   "source": [
    "len(o1)"
   ]
  },
  {
   "cell_type": "code",
   "execution_count": 6,
   "id": "3eb99ee6",
   "metadata": {},
   "outputs": [],
   "source": [
    "o2 = ArrayList()\n",
    "o2.clear()"
   ]
  },
  {
   "cell_type": "code",
   "execution_count": 7,
   "id": "cb42ae2b",
   "metadata": {},
   "outputs": [],
   "source": [
    "o2.append(3)\n",
    "o2.append(4)"
   ]
  },
  {
   "cell_type": "code",
   "execution_count": 8,
   "id": "c9ecb0b4",
   "metadata": {},
   "outputs": [
    {
     "data": {
      "text/plain": [
       "2"
      ]
     },
     "execution_count": 8,
     "metadata": {},
     "output_type": "execute_result"
    }
   ],
   "source": [
    "len(o2)"
   ]
  },
  {
   "cell_type": "code",
   "execution_count": 9,
   "id": "212ecd86",
   "metadata": {},
   "outputs": [
    {
     "ename": "TypeError",
     "evalue": "append() missing 1 required positional argument: 'value'",
     "output_type": "error",
     "traceback": [
      "\u001b[0;31m---------------------------------------------------------------------------\u001b[0m",
      "\u001b[0;31mTypeError\u001b[0m                                 Traceback (most recent call last)",
      "\u001b[0;32m<ipython-input-9-fcfadf6f5033>\u001b[0m in \u001b[0;36m<module>\u001b[0;34m\u001b[0m\n\u001b[0;32m----> 1\u001b[0;31m \u001b[0mo1\u001b[0m \u001b[0;34m+\u001b[0m \u001b[0mo2\u001b[0m\u001b[0;34m\u001b[0m\u001b[0;34m\u001b[0m\u001b[0m\n\u001b[0m",
      "\u001b[0;32m<ipython-input-2-a17604ebeae2>\u001b[0m in \u001b[0;36m__add__\u001b[0;34m(self, other)\u001b[0m\n\u001b[1;32m     22\u001b[0m         \u001b[0mobj\u001b[0m \u001b[0;34m=\u001b[0m \u001b[0mArrayList\u001b[0m\u001b[0;34m\u001b[0m\u001b[0;34m\u001b[0m\u001b[0m\n\u001b[1;32m     23\u001b[0m         \u001b[0;32mfor\u001b[0m \u001b[0mx\u001b[0m\u001b[0;34m,\u001b[0m \u001b[0my\u001b[0m \u001b[0;32min\u001b[0m \u001b[0mzip\u001b[0m\u001b[0;34m(\u001b[0m\u001b[0mself\u001b[0m\u001b[0;34m.\u001b[0m\u001b[0marr\u001b[0m\u001b[0;34m,\u001b[0m \u001b[0mother\u001b[0m\u001b[0;34m.\u001b[0m\u001b[0marr\u001b[0m\u001b[0;34m)\u001b[0m\u001b[0;34m:\u001b[0m\u001b[0;34m\u001b[0m\u001b[0;34m\u001b[0m\u001b[0m\n\u001b[0;32m---> 24\u001b[0;31m             \u001b[0mobj\u001b[0m\u001b[0;34m.\u001b[0m\u001b[0mappend\u001b[0m\u001b[0;34m(\u001b[0m\u001b[0mx\u001b[0m \u001b[0;34m+\u001b[0m \u001b[0my\u001b[0m\u001b[0;34m)\u001b[0m\u001b[0;34m\u001b[0m\u001b[0;34m\u001b[0m\u001b[0m\n\u001b[0m\u001b[1;32m     25\u001b[0m \u001b[0;34m\u001b[0m\u001b[0m\n\u001b[1;32m     26\u001b[0m         \u001b[0;32mreturn\u001b[0m \u001b[0mobj\u001b[0m\u001b[0;34m\u001b[0m\u001b[0;34m\u001b[0m\u001b[0m\n",
      "\u001b[0;31mTypeError\u001b[0m: append() missing 1 required positional argument: 'value'"
     ]
    }
   ],
   "source": [
    "o1 + o2"
   ]
  },
  {
   "cell_type": "code",
   "execution_count": null,
   "id": "57e83ee0",
   "metadata": {},
   "outputs": [],
   "source": []
  },
  {
   "cell_type": "code",
   "execution_count": null,
   "id": "18e16ae8",
   "metadata": {},
   "outputs": [],
   "source": []
  },
  {
   "cell_type": "code",
   "execution_count": null,
   "id": "e3038311",
   "metadata": {},
   "outputs": [],
   "source": []
  }
 ],
 "metadata": {
  "kernelspec": {
   "display_name": "Python 3",
   "language": "python",
   "name": "python3"
  },
  "language_info": {
   "codemirror_mode": {
    "name": "ipython",
    "version": 3
   },
   "file_extension": ".py",
   "mimetype": "text/x-python",
   "name": "python",
   "nbconvert_exporter": "python",
   "pygments_lexer": "ipython3",
   "version": "3.8.8"
  },
  "toc": {
   "base_numbering": 1,
   "nav_menu": {},
   "number_sections": true,
   "sideBar": true,
   "skip_h1_title": false,
   "title_cell": "Table of Contents",
   "title_sidebar": "Contents",
   "toc_cell": false,
   "toc_position": {},
   "toc_section_display": true,
   "toc_window_display": false
  }
 },
 "nbformat": 4,
 "nbformat_minor": 5
}

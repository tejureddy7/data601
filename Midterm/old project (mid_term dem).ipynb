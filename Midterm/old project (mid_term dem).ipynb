{
 "cells": [
  {
   "cell_type": "markdown",
   "id": "2ab208b8",
   "metadata": {},
   "source": [
    "\n",
    "## <span style='color:darkcyan'> Dataset url: https://archive.ics.uci.edu/ml/datasets/car+evaluation </span>\n",
    "\n",
    "Data Set Information:\n",
    "\n",
    "<br>\n",
    "Car Evaluation Database was derived from a simple hierarchical decision model originally developed for the demonstration of DEX, M. Bohanec, V. Rajkovic: Expert system for decision making. Sistemica 1(1), pp. 145-157, 1990.). The model evaluates cars according to the following concept structure:\n",
    "<br>\n",
    "car acceptability\n",
    "<br>\n",
    "overall price\n",
    "<br>\n",
    "buying price\n",
    "<br>\n",
    "maint price of the maintenance\n",
    " <br>\n",
    "technical characteristics\n",
    "<br>\n",
    "comfort\n",
    "<br>\n",
    "number of doors\n",
    "<br>\n",
    "persons capacity in terms of persons to carry\n",
    "<br>\n",
    "size of luggage boot\n",
    "<br>\n",
    "safety of the car\n"
   ]
  },
  {
   "cell_type": "markdown",
   "id": "ec27a6d2",
   "metadata": {},
   "source": [
    "## <span style='color:darkcyan'> 1. Importing libraries </span>"
   ]
  },
  {
   "cell_type": "code",
   "execution_count": 1,
   "id": "0810bb84",
   "metadata": {},
   "outputs": [],
   "source": [
    "import matplotlib.pyplot as plt\n",
    "import seaborn as sns\n",
    "import pandas as pd\n",
    "import time\n",
    "start = time.time()"
   ]
  },
  {
   "cell_type": "markdown",
   "id": "010a5b37",
   "metadata": {},
   "source": [
    "## <span style='color:darkcyan'> 2. Importing data</span>"
   ]
  },
  {
   "cell_type": "code",
   "execution_count": 2,
   "id": "3cdfa520",
   "metadata": {},
   "outputs": [],
   "source": [
    "url = 'https://archive.ics.uci.edu/ml/machine-learning-databases/car/car.data'\n",
    "file = pd.read_csv(url)\n",
    "file.columns = ['Price', 'Maintenance', 'No. of Doors', 'Capacity', 'Luggage Boot size', 'safety', 'Decision']"
   ]
  },
  {
   "cell_type": "markdown",
   "id": "8fec483c",
   "metadata": {},
   "source": [
    "## <span style='color:darkcyan'> 3. Reading data</span>"
   ]
  },
  {
   "cell_type": "code",
   "execution_count": 3,
   "id": "3930bbb1",
   "metadata": {},
   "outputs": [
    {
     "data": {
      "text/plain": [
       "(1727, 7)"
      ]
     },
     "execution_count": 3,
     "metadata": {},
     "output_type": "execute_result"
    }
   ],
   "source": [
    "file.shape"
   ]
  },
  {
   "cell_type": "code",
   "execution_count": 4,
   "id": "261c2433",
   "metadata": {},
   "outputs": [
    {
     "data": {
      "text/html": [
       "<div>\n",
       "<style scoped>\n",
       "    .dataframe tbody tr th:only-of-type {\n",
       "        vertical-align: middle;\n",
       "    }\n",
       "\n",
       "    .dataframe tbody tr th {\n",
       "        vertical-align: top;\n",
       "    }\n",
       "\n",
       "    .dataframe thead th {\n",
       "        text-align: right;\n",
       "    }\n",
       "</style>\n",
       "<table border=\"1\" class=\"dataframe\">\n",
       "  <thead>\n",
       "    <tr style=\"text-align: right;\">\n",
       "      <th></th>\n",
       "      <th>Price</th>\n",
       "      <th>Maintenance</th>\n",
       "      <th>No. of Doors</th>\n",
       "      <th>Capacity</th>\n",
       "      <th>Luggage Boot size</th>\n",
       "      <th>safety</th>\n",
       "      <th>Decision</th>\n",
       "    </tr>\n",
       "  </thead>\n",
       "  <tbody>\n",
       "    <tr>\n",
       "      <th>0</th>\n",
       "      <td>vhigh</td>\n",
       "      <td>vhigh</td>\n",
       "      <td>2</td>\n",
       "      <td>2</td>\n",
       "      <td>small</td>\n",
       "      <td>med</td>\n",
       "      <td>unacc</td>\n",
       "    </tr>\n",
       "    <tr>\n",
       "      <th>1</th>\n",
       "      <td>vhigh</td>\n",
       "      <td>vhigh</td>\n",
       "      <td>2</td>\n",
       "      <td>2</td>\n",
       "      <td>small</td>\n",
       "      <td>high</td>\n",
       "      <td>unacc</td>\n",
       "    </tr>\n",
       "    <tr>\n",
       "      <th>2</th>\n",
       "      <td>vhigh</td>\n",
       "      <td>vhigh</td>\n",
       "      <td>2</td>\n",
       "      <td>2</td>\n",
       "      <td>med</td>\n",
       "      <td>low</td>\n",
       "      <td>unacc</td>\n",
       "    </tr>\n",
       "    <tr>\n",
       "      <th>3</th>\n",
       "      <td>vhigh</td>\n",
       "      <td>vhigh</td>\n",
       "      <td>2</td>\n",
       "      <td>2</td>\n",
       "      <td>med</td>\n",
       "      <td>med</td>\n",
       "      <td>unacc</td>\n",
       "    </tr>\n",
       "    <tr>\n",
       "      <th>4</th>\n",
       "      <td>vhigh</td>\n",
       "      <td>vhigh</td>\n",
       "      <td>2</td>\n",
       "      <td>2</td>\n",
       "      <td>med</td>\n",
       "      <td>high</td>\n",
       "      <td>unacc</td>\n",
       "    </tr>\n",
       "  </tbody>\n",
       "</table>\n",
       "</div>"
      ],
      "text/plain": [
       "   Price Maintenance No. of Doors Capacity Luggage Boot size safety Decision\n",
       "0  vhigh       vhigh            2        2             small    med    unacc\n",
       "1  vhigh       vhigh            2        2             small   high    unacc\n",
       "2  vhigh       vhigh            2        2               med    low    unacc\n",
       "3  vhigh       vhigh            2        2               med    med    unacc\n",
       "4  vhigh       vhigh            2        2               med   high    unacc"
      ]
     },
     "execution_count": 4,
     "metadata": {},
     "output_type": "execute_result"
    }
   ],
   "source": [
    "file.head()"
   ]
  },
  {
   "cell_type": "code",
   "execution_count": 5,
   "id": "a0e53de8",
   "metadata": {},
   "outputs": [
    {
     "name": "stdout",
     "output_type": "stream",
     "text": [
      "<class 'pandas.core.frame.DataFrame'>\n",
      "RangeIndex: 1727 entries, 0 to 1726\n",
      "Data columns (total 7 columns):\n",
      " #   Column             Non-Null Count  Dtype \n",
      "---  ------             --------------  ----- \n",
      " 0   Price              1727 non-null   object\n",
      " 1   Maintenance        1727 non-null   object\n",
      " 2   No. of Doors       1727 non-null   object\n",
      " 3   Capacity           1727 non-null   object\n",
      " 4   Luggage Boot size  1727 non-null   object\n",
      " 5   safety             1727 non-null   object\n",
      " 6   Decision           1727 non-null   object\n",
      "dtypes: object(7)\n",
      "memory usage: 94.6+ KB\n"
     ]
    }
   ],
   "source": [
    "file.info()"
   ]
  },
  {
   "cell_type": "code",
   "execution_count": 6,
   "id": "6506471c",
   "metadata": {},
   "outputs": [
    {
     "data": {
      "text/html": [
       "<div>\n",
       "<style scoped>\n",
       "    .dataframe tbody tr th:only-of-type {\n",
       "        vertical-align: middle;\n",
       "    }\n",
       "\n",
       "    .dataframe tbody tr th {\n",
       "        vertical-align: top;\n",
       "    }\n",
       "\n",
       "    .dataframe thead th {\n",
       "        text-align: right;\n",
       "    }\n",
       "</style>\n",
       "<table border=\"1\" class=\"dataframe\">\n",
       "  <thead>\n",
       "    <tr style=\"text-align: right;\">\n",
       "      <th></th>\n",
       "      <th>Price</th>\n",
       "      <th>Maintenance</th>\n",
       "      <th>No. of Doors</th>\n",
       "      <th>Capacity</th>\n",
       "      <th>Luggage Boot size</th>\n",
       "      <th>safety</th>\n",
       "      <th>Decision</th>\n",
       "    </tr>\n",
       "  </thead>\n",
       "  <tbody>\n",
       "    <tr>\n",
       "      <th>count</th>\n",
       "      <td>1727</td>\n",
       "      <td>1727</td>\n",
       "      <td>1727</td>\n",
       "      <td>1727</td>\n",
       "      <td>1727</td>\n",
       "      <td>1727</td>\n",
       "      <td>1727</td>\n",
       "    </tr>\n",
       "    <tr>\n",
       "      <th>unique</th>\n",
       "      <td>4</td>\n",
       "      <td>4</td>\n",
       "      <td>4</td>\n",
       "      <td>3</td>\n",
       "      <td>3</td>\n",
       "      <td>3</td>\n",
       "      <td>4</td>\n",
       "    </tr>\n",
       "    <tr>\n",
       "      <th>top</th>\n",
       "      <td>med</td>\n",
       "      <td>med</td>\n",
       "      <td>5more</td>\n",
       "      <td>more</td>\n",
       "      <td>big</td>\n",
       "      <td>med</td>\n",
       "      <td>unacc</td>\n",
       "    </tr>\n",
       "    <tr>\n",
       "      <th>freq</th>\n",
       "      <td>432</td>\n",
       "      <td>432</td>\n",
       "      <td>432</td>\n",
       "      <td>576</td>\n",
       "      <td>576</td>\n",
       "      <td>576</td>\n",
       "      <td>1209</td>\n",
       "    </tr>\n",
       "  </tbody>\n",
       "</table>\n",
       "</div>"
      ],
      "text/plain": [
       "       Price Maintenance No. of Doors Capacity Luggage Boot size safety  \\\n",
       "count   1727        1727         1727     1727              1727   1727   \n",
       "unique     4           4            4        3                 3      3   \n",
       "top      med         med        5more     more               big    med   \n",
       "freq     432         432          432      576               576    576   \n",
       "\n",
       "       Decision  \n",
       "count      1727  \n",
       "unique        4  \n",
       "top       unacc  \n",
       "freq       1209  "
      ]
     },
     "execution_count": 6,
     "metadata": {},
     "output_type": "execute_result"
    }
   ],
   "source": [
    "file.describe()"
   ]
  },
  {
   "cell_type": "markdown",
   "id": "64460719",
   "metadata": {},
   "source": [
    "### <span style='color:darkcyan'> 3.2. Check for missing values</span>"
   ]
  },
  {
   "cell_type": "code",
   "execution_count": 7,
   "id": "07e7ec15",
   "metadata": {},
   "outputs": [
    {
     "data": {
      "text/plain": [
       "Price                0\n",
       "Maintenance          0\n",
       "No. of Doors         0\n",
       "Capacity             0\n",
       "Luggage Boot size    0\n",
       "safety               0\n",
       "Decision             0\n",
       "dtype: int64"
      ]
     },
     "execution_count": 7,
     "metadata": {},
     "output_type": "execute_result"
    }
   ],
   "source": [
    "#check if there are any missing values\n",
    "file.isna().sum()"
   ]
  },
  {
   "cell_type": "code",
   "execution_count": 8,
   "id": "9c803bf0",
   "metadata": {},
   "outputs": [
    {
     "data": {
      "text/html": [
       "<div>\n",
       "<style scoped>\n",
       "    .dataframe tbody tr th:only-of-type {\n",
       "        vertical-align: middle;\n",
       "    }\n",
       "\n",
       "    .dataframe tbody tr th {\n",
       "        vertical-align: top;\n",
       "    }\n",
       "\n",
       "    .dataframe thead th {\n",
       "        text-align: right;\n",
       "    }\n",
       "</style>\n",
       "<table border=\"1\" class=\"dataframe\">\n",
       "  <thead>\n",
       "    <tr style=\"text-align: right;\">\n",
       "      <th></th>\n",
       "      <th>Price</th>\n",
       "      <th>Maintenance</th>\n",
       "      <th>No. of Doors</th>\n",
       "      <th>Capacity</th>\n",
       "      <th>Luggage Boot size</th>\n",
       "      <th>safety</th>\n",
       "      <th>Decision</th>\n",
       "    </tr>\n",
       "  </thead>\n",
       "  <tbody>\n",
       "    <tr>\n",
       "      <th>0</th>\n",
       "      <td>False</td>\n",
       "      <td>False</td>\n",
       "      <td>False</td>\n",
       "      <td>False</td>\n",
       "      <td>False</td>\n",
       "      <td>False</td>\n",
       "      <td>False</td>\n",
       "    </tr>\n",
       "    <tr>\n",
       "      <th>1</th>\n",
       "      <td>False</td>\n",
       "      <td>False</td>\n",
       "      <td>False</td>\n",
       "      <td>False</td>\n",
       "      <td>False</td>\n",
       "      <td>False</td>\n",
       "      <td>False</td>\n",
       "    </tr>\n",
       "    <tr>\n",
       "      <th>2</th>\n",
       "      <td>False</td>\n",
       "      <td>False</td>\n",
       "      <td>False</td>\n",
       "      <td>False</td>\n",
       "      <td>False</td>\n",
       "      <td>False</td>\n",
       "      <td>False</td>\n",
       "    </tr>\n",
       "    <tr>\n",
       "      <th>3</th>\n",
       "      <td>False</td>\n",
       "      <td>False</td>\n",
       "      <td>False</td>\n",
       "      <td>False</td>\n",
       "      <td>False</td>\n",
       "      <td>False</td>\n",
       "      <td>False</td>\n",
       "    </tr>\n",
       "    <tr>\n",
       "      <th>4</th>\n",
       "      <td>False</td>\n",
       "      <td>False</td>\n",
       "      <td>False</td>\n",
       "      <td>False</td>\n",
       "      <td>False</td>\n",
       "      <td>False</td>\n",
       "      <td>False</td>\n",
       "    </tr>\n",
       "    <tr>\n",
       "      <th>...</th>\n",
       "      <td>...</td>\n",
       "      <td>...</td>\n",
       "      <td>...</td>\n",
       "      <td>...</td>\n",
       "      <td>...</td>\n",
       "      <td>...</td>\n",
       "      <td>...</td>\n",
       "    </tr>\n",
       "    <tr>\n",
       "      <th>1722</th>\n",
       "      <td>False</td>\n",
       "      <td>False</td>\n",
       "      <td>False</td>\n",
       "      <td>False</td>\n",
       "      <td>False</td>\n",
       "      <td>False</td>\n",
       "      <td>False</td>\n",
       "    </tr>\n",
       "    <tr>\n",
       "      <th>1723</th>\n",
       "      <td>False</td>\n",
       "      <td>False</td>\n",
       "      <td>False</td>\n",
       "      <td>False</td>\n",
       "      <td>False</td>\n",
       "      <td>False</td>\n",
       "      <td>False</td>\n",
       "    </tr>\n",
       "    <tr>\n",
       "      <th>1724</th>\n",
       "      <td>False</td>\n",
       "      <td>False</td>\n",
       "      <td>False</td>\n",
       "      <td>False</td>\n",
       "      <td>False</td>\n",
       "      <td>False</td>\n",
       "      <td>False</td>\n",
       "    </tr>\n",
       "    <tr>\n",
       "      <th>1725</th>\n",
       "      <td>False</td>\n",
       "      <td>False</td>\n",
       "      <td>False</td>\n",
       "      <td>False</td>\n",
       "      <td>False</td>\n",
       "      <td>False</td>\n",
       "      <td>False</td>\n",
       "    </tr>\n",
       "    <tr>\n",
       "      <th>1726</th>\n",
       "      <td>False</td>\n",
       "      <td>False</td>\n",
       "      <td>False</td>\n",
       "      <td>False</td>\n",
       "      <td>False</td>\n",
       "      <td>False</td>\n",
       "      <td>False</td>\n",
       "    </tr>\n",
       "  </tbody>\n",
       "</table>\n",
       "<p>1727 rows × 7 columns</p>\n",
       "</div>"
      ],
      "text/plain": [
       "      Price  Maintenance  No. of Doors  Capacity  Luggage Boot size  safety  \\\n",
       "0     False        False         False     False              False   False   \n",
       "1     False        False         False     False              False   False   \n",
       "2     False        False         False     False              False   False   \n",
       "3     False        False         False     False              False   False   \n",
       "4     False        False         False     False              False   False   \n",
       "...     ...          ...           ...       ...                ...     ...   \n",
       "1722  False        False         False     False              False   False   \n",
       "1723  False        False         False     False              False   False   \n",
       "1724  False        False         False     False              False   False   \n",
       "1725  False        False         False     False              False   False   \n",
       "1726  False        False         False     False              False   False   \n",
       "\n",
       "      Decision  \n",
       "0        False  \n",
       "1        False  \n",
       "2        False  \n",
       "3        False  \n",
       "4        False  \n",
       "...        ...  \n",
       "1722     False  \n",
       "1723     False  \n",
       "1724     False  \n",
       "1725     False  \n",
       "1726     False  \n",
       "\n",
       "[1727 rows x 7 columns]"
      ]
     },
     "execution_count": 8,
     "metadata": {},
     "output_type": "execute_result"
    }
   ],
   "source": [
    "file.isna()"
   ]
  },
  {
   "cell_type": "code",
   "execution_count": 9,
   "id": "4cd0ff4c",
   "metadata": {},
   "outputs": [
    {
     "data": {
      "text/html": [
       "<div>\n",
       "<style scoped>\n",
       "    .dataframe tbody tr th:only-of-type {\n",
       "        vertical-align: middle;\n",
       "    }\n",
       "\n",
       "    .dataframe tbody tr th {\n",
       "        vertical-align: top;\n",
       "    }\n",
       "\n",
       "    .dataframe thead th {\n",
       "        text-align: right;\n",
       "    }\n",
       "</style>\n",
       "<table border=\"1\" class=\"dataframe\">\n",
       "  <thead>\n",
       "    <tr style=\"text-align: right;\">\n",
       "      <th></th>\n",
       "      <th>Price</th>\n",
       "      <th>Maintenance</th>\n",
       "      <th>No. of Doors</th>\n",
       "      <th>Capacity</th>\n",
       "      <th>Luggage Boot size</th>\n",
       "      <th>safety</th>\n",
       "      <th>Decision</th>\n",
       "    </tr>\n",
       "  </thead>\n",
       "  <tbody>\n",
       "    <tr>\n",
       "      <th>1374</th>\n",
       "      <td>low</td>\n",
       "      <td>vhigh</td>\n",
       "      <td>4</td>\n",
       "      <td>more</td>\n",
       "      <td>big</td>\n",
       "      <td>med</td>\n",
       "      <td>acc</td>\n",
       "    </tr>\n",
       "    <tr>\n",
       "      <th>1456</th>\n",
       "      <td>low</td>\n",
       "      <td>high</td>\n",
       "      <td>3</td>\n",
       "      <td>more</td>\n",
       "      <td>big</td>\n",
       "      <td>high</td>\n",
       "      <td>vgood</td>\n",
       "    </tr>\n",
       "    <tr>\n",
       "      <th>632</th>\n",
       "      <td>high</td>\n",
       "      <td>high</td>\n",
       "      <td>5more</td>\n",
       "      <td>4</td>\n",
       "      <td>med</td>\n",
       "      <td>low</td>\n",
       "      <td>unacc</td>\n",
       "    </tr>\n",
       "    <tr>\n",
       "      <th>587</th>\n",
       "      <td>high</td>\n",
       "      <td>high</td>\n",
       "      <td>3</td>\n",
       "      <td>more</td>\n",
       "      <td>med</td>\n",
       "      <td>low</td>\n",
       "      <td>unacc</td>\n",
       "    </tr>\n",
       "    <tr>\n",
       "      <th>98</th>\n",
       "      <td>vhigh</td>\n",
       "      <td>vhigh</td>\n",
       "      <td>5more</td>\n",
       "      <td>more</td>\n",
       "      <td>small</td>\n",
       "      <td>low</td>\n",
       "      <td>unacc</td>\n",
       "    </tr>\n",
       "  </tbody>\n",
       "</table>\n",
       "</div>"
      ],
      "text/plain": [
       "      Price Maintenance No. of Doors Capacity Luggage Boot size safety  \\\n",
       "1374    low       vhigh            4     more               big    med   \n",
       "1456    low        high            3     more               big   high   \n",
       "632    high        high        5more        4               med    low   \n",
       "587    high        high            3     more               med    low   \n",
       "98    vhigh       vhigh        5more     more             small    low   \n",
       "\n",
       "     Decision  \n",
       "1374      acc  \n",
       "1456    vgood  \n",
       "632     unacc  \n",
       "587     unacc  \n",
       "98      unacc  "
      ]
     },
     "execution_count": 9,
     "metadata": {},
     "output_type": "execute_result"
    }
   ],
   "source": [
    "file.sample(5)"
   ]
  },
  {
   "cell_type": "code",
   "execution_count": 10,
   "id": "b67e8fc4",
   "metadata": {},
   "outputs": [
    {
     "data": {
      "text/html": [
       "<div>\n",
       "<style scoped>\n",
       "    .dataframe tbody tr th:only-of-type {\n",
       "        vertical-align: middle;\n",
       "    }\n",
       "\n",
       "    .dataframe tbody tr th {\n",
       "        vertical-align: top;\n",
       "    }\n",
       "\n",
       "    .dataframe thead th {\n",
       "        text-align: right;\n",
       "    }\n",
       "</style>\n",
       "<table border=\"1\" class=\"dataframe\">\n",
       "  <thead>\n",
       "    <tr style=\"text-align: right;\">\n",
       "      <th></th>\n",
       "      <th>Price</th>\n",
       "      <th>Maintenance</th>\n",
       "      <th>No. of Doors</th>\n",
       "      <th>Capacity</th>\n",
       "      <th>Luggage Boot size</th>\n",
       "      <th>safety</th>\n",
       "      <th>Decision</th>\n",
       "    </tr>\n",
       "  </thead>\n",
       "  <tbody>\n",
       "    <tr>\n",
       "      <th>1722</th>\n",
       "      <td>low</td>\n",
       "      <td>low</td>\n",
       "      <td>5more</td>\n",
       "      <td>more</td>\n",
       "      <td>med</td>\n",
       "      <td>med</td>\n",
       "      <td>good</td>\n",
       "    </tr>\n",
       "    <tr>\n",
       "      <th>1723</th>\n",
       "      <td>low</td>\n",
       "      <td>low</td>\n",
       "      <td>5more</td>\n",
       "      <td>more</td>\n",
       "      <td>med</td>\n",
       "      <td>high</td>\n",
       "      <td>vgood</td>\n",
       "    </tr>\n",
       "    <tr>\n",
       "      <th>1724</th>\n",
       "      <td>low</td>\n",
       "      <td>low</td>\n",
       "      <td>5more</td>\n",
       "      <td>more</td>\n",
       "      <td>big</td>\n",
       "      <td>low</td>\n",
       "      <td>unacc</td>\n",
       "    </tr>\n",
       "    <tr>\n",
       "      <th>1725</th>\n",
       "      <td>low</td>\n",
       "      <td>low</td>\n",
       "      <td>5more</td>\n",
       "      <td>more</td>\n",
       "      <td>big</td>\n",
       "      <td>med</td>\n",
       "      <td>good</td>\n",
       "    </tr>\n",
       "    <tr>\n",
       "      <th>1726</th>\n",
       "      <td>low</td>\n",
       "      <td>low</td>\n",
       "      <td>5more</td>\n",
       "      <td>more</td>\n",
       "      <td>big</td>\n",
       "      <td>high</td>\n",
       "      <td>vgood</td>\n",
       "    </tr>\n",
       "  </tbody>\n",
       "</table>\n",
       "</div>"
      ],
      "text/plain": [
       "     Price Maintenance No. of Doors Capacity Luggage Boot size safety Decision\n",
       "1722   low         low        5more     more               med    med     good\n",
       "1723   low         low        5more     more               med   high    vgood\n",
       "1724   low         low        5more     more               big    low    unacc\n",
       "1725   low         low        5more     more               big    med     good\n",
       "1726   low         low        5more     more               big   high    vgood"
      ]
     },
     "execution_count": 10,
     "metadata": {},
     "output_type": "execute_result"
    }
   ],
   "source": [
    "file.tail()"
   ]
  },
  {
   "cell_type": "code",
   "execution_count": 11,
   "id": "931b37fc",
   "metadata": {},
   "outputs": [
    {
     "name": "stdout",
     "output_type": "stream",
     "text": [
      "<class 'pandas.core.frame.DataFrame'>\n",
      "RangeIndex: 1727 entries, 0 to 1726\n",
      "Data columns (total 7 columns):\n",
      " #   Column             Non-Null Count  Dtype \n",
      "---  ------             --------------  ----- \n",
      " 0   Price              1727 non-null   object\n",
      " 1   Maintenance        1727 non-null   object\n",
      " 2   No. of Doors       1727 non-null   object\n",
      " 3   Capacity           1727 non-null   object\n",
      " 4   Luggage Boot size  1727 non-null   object\n",
      " 5   safety             1727 non-null   object\n",
      " 6   Decision           1727 non-null   object\n",
      "dtypes: object(7)\n",
      "memory usage: 94.6+ KB\n"
     ]
    }
   ],
   "source": [
    "file.info()"
   ]
  },
  {
   "cell_type": "code",
   "execution_count": 12,
   "id": "736ee4a6",
   "metadata": {},
   "outputs": [
    {
     "data": {
      "text/plain": [
       "Price  Decision\n",
       "high   acc         108\n",
       "       unacc       324\n",
       "low    acc          89\n",
       "       good         46\n",
       "       unacc       258\n",
       "       vgood        39\n",
       "med    acc         115\n",
       "       good         23\n",
       "       unacc       268\n",
       "       vgood        26\n",
       "vhigh  acc          72\n",
       "       unacc       359\n",
       "dtype: int64"
      ]
     },
     "execution_count": 12,
     "metadata": {},
     "output_type": "execute_result"
    }
   ],
   "source": [
    "file.groupby([\"Price\", \"Decision\"]).size()"
   ]
  },
  {
   "cell_type": "markdown",
   "id": "20dba939",
   "metadata": {},
   "source": [
    "## <span style='color:darkcyan'> 4. Exploratory Data Analysis </span>"
   ]
  },
  {
   "cell_type": "markdown",
   "id": "eb1d6885",
   "metadata": {},
   "source": [
    "### <span style='color:darkcyan'> 4.1. number of Decisions that are acceptable, unacceptable, good and very good. </span>"
   ]
  },
  {
   "cell_type": "code",
   "execution_count": 13,
   "id": "40e3d38c",
   "metadata": {},
   "outputs": [
    {
     "name": "stderr",
     "output_type": "stream",
     "text": [
      "/Users/tej/opt/anaconda3/lib/python3.8/site-packages/seaborn/_decorators.py:36: FutureWarning: Pass the following variable as a keyword arg: x. From version 0.12, the only valid positional argument will be `data`, and passing other arguments without an explicit keyword will result in an error or misinterpretation.\n",
      "  warnings.warn(\n"
     ]
    },
    {
     "data": {
      "image/png": "[encoded data removed]",
      "text/plain": [
       "<Figure size 864x288 with 2 Axes>"
      ]
     },
     "metadata": {
      "needs_background": "light"
     },
     "output_type": "display_data"
    }
   ],
   "source": [
    "\n",
    "f,ax=plt.subplots(1,2,figsize=(12,4))\n",
    "\n",
    "file['Decision'].value_counts().plot.pie(ax=ax[0],shadow=True)\n",
    "ax[0].set_title('Decision')\n",
    "ax[0].set_ylabel('')\n",
    "\n",
    "sns.countplot('Decision',data=file,ax=ax[1])\n",
    "ax[1].set_title('Decision')\n",
    "plt.show()"
   ]
  },
  {
   "cell_type": "markdown",
   "id": "1b3c9f9f",
   "metadata": {},
   "source": [
    "### <span style='color:darkcyan'> 4.2. Graph for decision taken on price </span >"
   ]
  },
  {
   "cell_type": "code",
   "execution_count": 14,
   "id": "7e772273",
   "metadata": {},
   "outputs": [
    {
     "data": {
      "text/plain": [
       "Text(0.5, 1.0, 'Bar graph for decision taken on price')"
      ]
     },
     "execution_count": 14,
     "metadata": {},
     "output_type": "execute_result"
    },
    {
     "data": {
      "image/png": "[encoded data removed]",
      "text/plain": [
       "<Figure size 432x288 with 1 Axes>"
      ]
     },
     "metadata": {
      "needs_background": "light"
     },
     "output_type": "display_data"
    }
   ],
   "source": [
    "import seaborn as sns\n",
    "sns.countplot(data=file,x='Price',hue='Decision')\n",
    "plt.title('Bar graph for decision taken on price', fontsize = 25)\n",
    "#plt.xlabel('Price Range in Increasing Order', fontsize = 15)\n",
    "#plt.ylabel('Count', fontsize = 15)"
   ]
  },
  {
   "cell_type": "markdown",
   "id": "21d1defb",
   "metadata": {},
   "source": [
    "### <span style='color:darkcyan'> 4.3. Graph for decision taken on Maintenance </span>"
   ]
  },
  {
   "cell_type": "code",
   "execution_count": 15,
   "id": "b05cede6",
   "metadata": {},
   "outputs": [
    {
     "data": {
      "text/plain": [
       "Text(0.5, 1.0, 'Bar graph for decision taken on Maintenance')"
      ]
     },
     "execution_count": 15,
     "metadata": {},
     "output_type": "execute_result"
    },
    {
     "data": {
      "image/png": "[encoded data removed]",
      "text/plain": [
       "<Figure size 432x288 with 1 Axes>"
      ]
     },
     "metadata": {
      "needs_background": "light"
     },
     "output_type": "display_data"
    }
   ],
   "source": [
    "sns.countplot(data=file,x='Maintenance',hue='Decision')\n",
    "plt.title('Bar graph for decision taken on Maintenance', fontsize = 25)"
   ]
  },
  {
   "cell_type": "markdown",
   "id": "566d4f05",
   "metadata": {},
   "source": [
    "### <span style='color:darkcyan'> 4.2. Graph for decision taken on No.of Doors </span >"
   ]
  },
  {
   "cell_type": "code",
   "execution_count": 16,
   "id": "6aa58b18",
   "metadata": {},
   "outputs": [
    {
     "data": {
      "image/png": "[encoded data removed]",
      "text/plain": [
       "<Figure size 432x288 with 1 Axes>"
      ]
     },
     "metadata": {
      "needs_background": "light"
     },
     "output_type": "display_data"
    }
   ],
   "source": [
    "sns.countplot(data=file,x='No. of Doors',hue='Decision')\n",
    "plt.title('Bar graph for decision taken on NO. of Doors', fontsize = 25)\n",
    "plt.show()"
   ]
  },
  {
   "cell_type": "markdown",
   "id": "ecf98a4a",
   "metadata": {},
   "source": [
    "### <span style='color:darkcyan'> 4.2. Graph for decision taken on Capacity</span>"
   ]
  },
  {
   "cell_type": "code",
   "execution_count": 17,
   "id": "6ad886d2",
   "metadata": {},
   "outputs": [
    {
     "data": {
      "image/png": "[encoded data removed]",
      "text/plain": [
       "<Figure size 432x288 with 1 Axes>"
      ]
     },
     "metadata": {
      "needs_background": "light"
     },
     "output_type": "display_data"
    }
   ],
   "source": [
    "sns.countplot(data=file,x='Capacity',hue='Decision')\n",
    "plt.title('Bar graph for decision taken on Capacity', fontsize = 25)\n",
    "plt.show()"
   ]
  },
  {
   "cell_type": "markdown",
   "id": "d9b257e6",
   "metadata": {},
   "source": [
    "### <span style='color:darkcyan'> 4.2. Graph for decision taken on boot size </span >"
   ]
  },
  {
   "cell_type": "code",
   "execution_count": 18,
   "id": "76981725",
   "metadata": {},
   "outputs": [
    {
     "data": {
      "image/png": "[encoded data removed]",
      "text/plain": [
       "<Figure size 432x288 with 1 Axes>"
      ]
     },
     "metadata": {
      "needs_background": "light"
     },
     "output_type": "display_data"
    }
   ],
   "source": [
    "sns.countplot(data=file,x='Luggage Boot size',hue='Decision')\n",
    "plt.title('Bar graph for decision taken on boot size', fontsize = 25)\n",
    "plt.show()"
   ]
  },
  {
   "cell_type": "markdown",
   "id": "dd735277",
   "metadata": {},
   "source": [
    "### <span style='color:darkcyan'> 4.2. Graph for decision taken on safety </span >"
   ]
  },
  {
   "cell_type": "code",
   "execution_count": 19,
   "id": "d2810fab",
   "metadata": {},
   "outputs": [
    {
     "data": {
      "image/png": "[encoded data removed]",
      "text/plain": [
       "<Figure size 432x288 with 1 Axes>"
      ]
     },
     "metadata": {
      "needs_background": "light"
     },
     "output_type": "display_data"
    }
   ],
   "source": [
    "sns.countplot(data=file,x='safety',hue='Decision')\n",
    "plt.title('Bar graph for decision taken on safety', fontsize = 25)\n",
    "plt.show()"
   ]
  },
  {
   "cell_type": "markdown",
   "id": "7aa4834f",
   "metadata": {},
   "source": [
    "### Stopped here as I realised not a lot of visualization can be done on this dataset."
   ]
  }
 ],
 "metadata": {
  "kernelspec": {
   "display_name": "Python 3",
   "language": "python",
   "name": "python3"
  },
  "language_info": {
   "codemirror_mode": {
    "name": "ipython",
    "version": 3
   },
   "file_extension": ".py",
   "mimetype": "text/x-python",
   "name": "python",
   "nbconvert_exporter": "python",
   "pygments_lexer": "ipython3",
   "version": "3.8.8"
  }
 },
 "nbformat": 4,
 "nbformat_minor": 5
}

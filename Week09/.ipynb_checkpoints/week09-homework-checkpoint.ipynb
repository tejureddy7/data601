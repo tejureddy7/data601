{
 "cells": [
  {
   "cell_type": "markdown",
   "id": "29b0083e",
   "metadata": {},
   "source": [
    "# Week9 Homework\n",
    "## Working with Strings\n",
    "\n",
    "The data frame contains notes taken by staff members. Your task is to clean it up to make it usable for analysis. \n",
    "\n",
    "### Tasks\n",
    "* Create start date, end date columns and populate the values (If notes don't include month or day use 1) i.e: 2018 => 2018-01-01\n",
    "\n",
    "* Create phone number column (If notes don't include phone numbers, use None)\n",
    "* Create a column `duration` showing difference between start & end dates in years as a whole number"
   ]
  },
  {
   "cell_type": "code",
   "execution_count": null,
   "id": "2e44e5c3",
   "metadata": {},
   "outputs": [],
   "source": [
    "import pandas as pd\n",
    "import re"
   ]
  },
  {
   "cell_type": "code",
   "execution_count": null,
   "id": "6208cf40",
   "metadata": {},
   "outputs": [],
   "source": [
    "pd.set_option(\"display.max_rows\", None, \"display.max_columns\", None)"
   ]
  },
  {
   "cell_type": "code",
   "execution_count": null,
   "id": "e80d70bc",
   "metadata": {},
   "outputs": [],
   "source": [
    "df = pd.read_csv('https://raw.githubusercontent.com/msaricaumbc/DS601_Fall21/main/Week09/data/hw_data.csv', index_col=0)\n",
    "\n",
    "\n"
   ]
  },
  {
   "cell_type": "code",
   "execution_count": null,
   "id": "28e8a48a",
   "metadata": {},
   "outputs": [],
   "source": [
    "df"
   ]
  },
  {
   "cell_type": "code",
   "execution_count": null,
   "id": "20052414",
   "metadata": {},
   "outputs": [],
   "source": [
    "#df = pd.DataFrame({\"Job\": [\"Operation Manager at Barclays\", \"Chief Operating Officer at Llyods\"]})\n",
    "df[[\"startdate\", \"enddate\"]] = df[\"notes\"].str.split(r\"en\\s?dt|end\\s?dt|end\\s?date|en\\s?date|ed\\s?date|ed\\s?dt|EN\\s?DT|END\\s?DT|END\\s?DATE|ED\\s?DATE|ED\\s?DATE|ED\\s?DT|end\\s?Dt\", expand=True)\n",
    "df\n",
    "#|EN\\s?DT|END\\s?DT|END\\s?DATE|ED\\s?DATE|ED\\s?DATE|ED\\s?DT\n",
    "\n",
    "#df[[\"other\", \"stdate\"]] =df[\"startdate\"].str.split(r\"st\\s?dt|start\\s?dt|start\\s?date|st\\s?\", expand = True)\n"
   ]
  },
  {
   "cell_type": "code",
   "execution_count": null,
   "id": "632a6e60",
   "metadata": {},
   "outputs": [],
   "source": [
    "df[[\"phone_number\", \"stdate\"]] = df[\"startdate\"].str.split(r\"st\\s?dt|start\\s?dt|start\\s?date|st\\s?date|ST\\s?DT|START\\s?DT|START\\s?DATE|ST\\s?DATE|st\\s?Dt\", expand=True)\n",
    "df\n",
    "\n"
   ]
  },
  {
   "cell_type": "code",
   "execution_count": null,
   "id": "c8d814b2",
   "metadata": {},
   "outputs": [],
   "source": [
    "df[[\"enddate\", \"phone_number\"]] = df[\"enddate\"].str.split(r\"pn|p#|p/n|P#\", expand=True)\n",
    "df\n",
    "\n"
   ]
  },
  {
   "cell_type": "code",
   "execution_count": null,
   "id": "5b8d6c37",
   "metadata": {},
   "outputs": [],
   "source": [
    "df[[\"phone_number\", \"other\"]] = df[\"phone_number\"].str.split(r\"x\", expand=True)\n",
    "df"
   ]
  },
  {
   "cell_type": "code",
   "execution_count": null,
   "id": "ad50650a",
   "metadata": {},
   "outputs": [],
   "source": [
    "df['phone_number']=df['phone_number'].replace(':','',regex=True)\n",
    "df['phone_number']=df['phone_number'].replace(r'\\+','',regex=True)\n",
    "#df['phone_number']=df['phone_number'].replace('-','',regex=True)\n",
    "df['phone_number']=df['phone_number'].replace(r'\\(','',regex=True)\n",
    "df['phone_number']=df['phone_number'].replace(r'\\)','',regex=True)\n",
    "df['phone_number']=df['phone_number'].replace(r'\\.','',regex=True)"
   ]
  },
  {
   "cell_type": "code",
   "execution_count": null,
   "id": "034e3a76",
   "metadata": {},
   "outputs": [],
   "source": [
    "df['phone_number']"
   ]
  },
  {
   "cell_type": "code",
   "execution_count": null,
   "id": "ab458ce0",
   "metadata": {},
   "outputs": [],
   "source": [
    "#df.stdate = df.stdate.str.replace(' ', '')"
   ]
  },
  {
   "cell_type": "code",
   "execution_count": null,
   "id": "875c0aea",
   "metadata": {},
   "outputs": [],
   "source": [
    "df['stdate']=df['stdate'].replace(':','',regex=True)\n",
    "df['stdate']=df['stdate'].replace(';','',regex=True)\n",
    "df['stdate']=df['stdate'].replace(r'-$','',regex=True)\n",
    "df['stdate']=df['stdate'].replace(r'/$','',regex=True)\n",
    "#df['stdate'] = df['stdate'].astype(int)\n",
    "df[\"stdate\"] = df[\"stdate\"].str.lower()\n",
    "df['stdate']=df['stdate'].replace(r'/','-',regex=True)\n",
    "\n",
    "df['stdate']=df['stdate'].replace({r'(?i)January ':'01-',r'(?i)february ':'02-',r'(?i)march ':'03-', r'(?i)april ':'04-',\n",
    "r'(?i)may ':'05-', r'(?i)june ':'06-',r'(?i)july ':'07-',r'(?i)august ':'08-',r'(?i)september ':'09-'\n",
    ",r'(?i)october ':'10-',r'(?i)november ':'11-',r'(?i)december ':'12-'}, regex=True)\n",
    "\n"
   ]
  },
  {
   "cell_type": "code",
   "execution_count": null,
   "id": "9036a678",
   "metadata": {},
   "outputs": [],
   "source": [
    "df['stdate']"
   ]
  },
  {
   "cell_type": "code",
   "execution_count": null,
   "id": "73befe6e",
   "metadata": {},
   "outputs": [],
   "source": [
    "df.stdate = df.stdate.str.replace(' ', '')"
   ]
  },
  {
   "cell_type": "code",
   "execution_count": null,
   "id": "523d9211",
   "metadata": {},
   "outputs": [],
   "source": [
    "# df['stdate'] ='101-' + df['stdate'].replace(r'(\\d{1,2}(?:-|\\/)?\\d{4})')\n",
    "pattern = re.compile(r'(\\d{1,2}(?:-|\\/)?\\d{4})')\n",
    "# df['stdate']\n",
    "for x in df['stdate']:\n",
    "    if pattern.match(x):\n",
    "        x = '01-' + x\n",
    "        print(x)\n"
   ]
  },
  {
   "cell_type": "code",
   "execution_count": null,
   "id": "616d7055",
   "metadata": {},
   "outputs": [],
   "source": [
    "# pattern = re.compile(r'(\\d{1,2}(?:-|\\/)?\\d{4})')\n",
    "# # df['stdate']\n",
    "# for x in df['stdate']:\n",
    "#     #print(df['stdate'][x])\n",
    "#     if pattern.match(x):\n",
    "#         y =('01-' + x)\n",
    "#         #print(y)\n",
    "#         df['stdate'].loc[x] = y\n",
    "#         print(df['stdate'].loc[x])\n",
    "#         #df['stdate'][x] = '01-' + df['stdate'][x]\n",
    "#         #print(df['stdate'][x])"
   ]
  },
  {
   "cell_type": "code",
   "execution_count": null,
   "id": "54152aa3",
   "metadata": {},
   "outputs": [],
   "source": [
    "print(df['stdate'])"
   ]
  },
  {
   "cell_type": "code",
   "execution_count": null,
   "id": "152b6668",
   "metadata": {},
   "outputs": [],
   "source": [
    "pattern = re.compile(r'(\\d{1,2}(?:-|\\/)?\\d{4})')\n",
    "# df['stdate']\n",
    "for x in range(len(df['stdate'])):\n",
    "    \n",
    "    if pattern.match(df['stdate'][x]):\n",
    "        print(x)\n",
    "        df['stdate'][x] = '01-' + df['stdate'][x]\n",
    "        print(df['stdate'][x])\n",
    "        "
   ]
  },
  {
   "cell_type": "code",
   "execution_count": null,
   "id": "59530bb8",
   "metadata": {},
   "outputs": [],
   "source": [
    "df['stdate']"
   ]
  },
  {
   "cell_type": "code",
   "execution_count": null,
   "id": "1fc6123a",
   "metadata": {},
   "outputs": [],
   "source": [
    "pattern = re.compile(r'(\\d{4})')\n",
    "# df['stdate']\n",
    "for x in range(len(df['stdate'])):\n",
    "    \n",
    "    if pattern.match(df['stdate'][x]):\n",
    "        #print(x, df['stdate'][x])\n",
    "        #df['stdate'] = df.stdate.str.split().apply(lambda x:'-'.join(x[::-1]))\n",
    "        df.stdate.str.rsplit('-', 1, expand=True)\n",
    "#         df['stdate']=( df.stdate.str.split()\n",
    "#               .apply(lambda x: '-'.join(x[::-1]).rstrip('-'))\n",
    "#               .where(df['stdate'].str.contains('-'),df['stdate']) )\n",
    "        #df['stne'] = df.loc[:,'stdate'].apply(lambda x: x[::-1])\n",
    "        #df['stdate'] = df.loc[:,'stdate'].apply(lambda x: x[::-1])\n",
    "        \n",
    "        print(df['stdate'])\n",
    "\n",
    "        #df['stdate'][x] = '01-' + df['stdate'][x]\n",
    "        #print(df['stdate'][x])"
   ]
  },
  {
   "cell_type": "code",
   "execution_count": null,
   "id": "442229a8",
   "metadata": {},
   "outputs": [],
   "source": [
    "df['stdate']"
   ]
  },
  {
   "cell_type": "code",
   "execution_count": null,
   "id": "baba5414",
   "metadata": {},
   "outputs": [],
   "source": [
    "#df['stdate'] = df['stdate'].dt.strftime('%d-%m-%Y',  errors='coerce')\n",
    "#df['stdate'] = pd.to_datetime(df['stdate'], errors='coerce')"
   ]
  },
  {
   "cell_type": "code",
   "execution_count": null,
   "id": "7677f678",
   "metadata": {},
   "outputs": [],
   "source": [
    "#df['stdate']"
   ]
  },
  {
   "cell_type": "code",
   "execution_count": null,
   "id": "12a721df",
   "metadata": {},
   "outputs": [],
   "source": [
    "#df['stdate'] = pd.to_datetime(df.stdate)"
   ]
  },
  {
   "cell_type": "code",
   "execution_count": null,
   "id": "c5aaedd1",
   "metadata": {},
   "outputs": [],
   "source": [
    "# df['enddate']=df['enddate'].replace(':','',regex=True)\n",
    "# df['enddate']=df['enddate'].replace(';','',regex=True)\n",
    "# df['enddate']=df['enddate'].replace(r'-$','',regex=True)\n",
    "# df['enddate']=df['enddate'].replace(r'/$','',regex=True)\n",
    "# df['enddate']=df['enddate'].replace(r'/','-',regex=True)\n",
    "\n",
    "# df['enddate']=df['enddate'].replace({r'(?i)January ':'01-',r'(?i)february ':'02-',r'(?i)march ':'03-', r'(?i)april ':'04-',\n",
    "# r'(?i)may ':'05-', r'(?i)june ':'06-',r'(?i)july ':'07-',r'(?i)august ':'08-',r'(?i)september ':'09-'\n",
    "# ,r'(?i)october ':'10-',r'(?i)november ':'11-',r'(?i)december ':'12-'}, regex=True)\n"
   ]
  },
  {
   "cell_type": "code",
   "execution_count": null,
   "id": "40836b1c",
   "metadata": {},
   "outputs": [],
   "source": [
    "df"
   ]
  },
  {
   "cell_type": "code",
   "execution_count": null,
   "id": "bed1cb6c",
   "metadata": {},
   "outputs": [],
   "source": [
    "df['enddate']\n"
   ]
  },
  {
   "cell_type": "code",
   "execution_count": null,
   "id": "b83f2347",
   "metadata": {},
   "outputs": [],
   "source": [
    "df['stdate']"
   ]
  },
  {
   "cell_type": "code",
   "execution_count": null,
   "id": "aaec7075",
   "metadata": {},
   "outputs": [],
   "source": [
    "type(df['stdate'])"
   ]
  },
  {
   "cell_type": "code",
   "execution_count": null,
   "id": "773175e2",
   "metadata": {},
   "outputs": [],
   "source": [
    "# df['stdate'] = [x for x in df['stdate'].map(lambda x: str(x).lower())]"
   ]
  },
  {
   "cell_type": "code",
   "execution_count": null,
   "id": "7ab279fb",
   "metadata": {},
   "outputs": [],
   "source": [
    "# def date_sorter():\n",
    "#     # Get the dates in the form of words\n",
    "#     one = df['stdate'].str.extract(r'((?:\\d{,2}\\s)?(?:Jan|Feb|Mar|Apr|May|Jun|Jul|Aug|Sep|Oct|Nov|Dec)[a-z]*(?:-|\\.|\\s|,)\\s?\\d{,2}[a-z]*(?:-|,|\\s)?\\s?\\d{2,4})')\n",
    "#     one = pd.to_datetime(df['time'], errors='coerce').dt.time\n",
    "#     # Get the dates in the form of numbers\n",
    "#     two = df['stdate'].str.extract(r'((?:\\d{1,2})(?:(?:\\/|-)\\d{1,2})?(?:(?:\\/|-)\\d{2,4}))')\n",
    "#     # Get the dates where there is no days i.e only month and year  \n",
    "#     three = df['stdate'].str.extract(r'((?:\\d{1,2}(?:-|\\/))?\\d{4})')\n",
    "#     four = df['stdate'].str.extract(r'((?:\\d{1,2}|d{2}(?:-|\\/))?\\d{1,2})')\n",
    "#     #Convert the dates to datatime and by filling the nans in two and three. Replace month name because of spelling mistake in the text file.\n",
    "#     #dates = pd.to_datetime(one.fillna(two).fillna(three)).replace('Decemeber','December',regex=True).replace('Janaury','January',regex=True)\n",
    "#     dates = one.fillna(two).fillna(three)\n",
    "#     return dates\n",
    "# #pd.Series(dates)\n",
    "\n",
    "# m = date_sorter()\n",
    "# m\n",
    "# #df['time'] = pd.to_datetime(df['time'], errors='coerce').dt.time\n",
    "\n"
   ]
  },
  {
   "cell_type": "code",
   "execution_count": null,
   "id": "85d5b0fd",
   "metadata": {},
   "outputs": [],
   "source": [
    "# m[0] = m[0].astype(str).str.lower()"
   ]
  },
  {
   "cell_type": "code",
   "execution_count": null,
   "id": "57cb6667",
   "metadata": {},
   "outputs": [],
   "source": [
    "# pd.to_datetime(m[0])"
   ]
  },
  {
   "cell_type": "code",
   "execution_count": null,
   "id": "41fedde8",
   "metadata": {},
   "outputs": [],
   "source": []
  }
 ],
 "metadata": {
  "kernelspec": {
   "display_name": "Python 3",
   "language": "python",
   "name": "python3"
  },
  "language_info": {
   "codemirror_mode": {
    "name": "ipython",
    "version": 3
   },
   "file_extension": ".py",
   "mimetype": "text/x-python",
   "name": "python",
   "nbconvert_exporter": "python",
   "pygments_lexer": "ipython3",
   "version": "3.8.8"
  },
  "toc": {
   "base_numbering": 1,
   "nav_menu": {},
   "number_sections": true,
   "sideBar": true,
   "skip_h1_title": false,
   "title_cell": "Table of Contents",
   "title_sidebar": "Contents",
   "toc_cell": false,
   "toc_position": {},
   "toc_section_display": true,
   "toc_window_display": false
  }
 },
 "nbformat": 4,
 "nbformat_minor": 5
}
